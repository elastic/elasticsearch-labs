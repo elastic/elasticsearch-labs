{
 "cells": [
  {
   "cell_type": "code",
   "execution_count": null,
   "id": "8bed2c83-87a7-40ca-bc5e-b9088c7e38a0",
   "metadata": {},
   "outputs": [],
   "source": [
    "from elasticsearch import Elasticsearch\n",
    "from getpass import getpass\n",
    "\n",
    "ELASTIC_CLOUD_ID = getpass(\"Elastic Cloud ID: \")\n",
    "ELASTIC_API_KEY = getpass(\"Elastic Api Key: \")\n",
    "\n",
    "client = Elasticsearch(cloud_id=ELASTIC_CLOUD_ID, api_key=ELASTIC_API_KEY,)\n",
    "\n",
    "# delete the notebook's index\n",
    "client.indices.delete(index=\"workplace_index\", ignore_unavailable=True)\n",
    "\n",
    "# delete the pipeline\n",
    "try:\n",
    "    client.ingest.delete_pipeline(id=\".elser_model_2_sparse_embedding\")\n",
    "except:\n",
    "    pass\n",
    "\n",
    "# delete the model\n",
    "try:\n",
    "    client.ml.delete_trained_model(model_id=\".elser_model_2\", force=True)\n",
    "except:\n",
    "    pass"
   ]
  },
  {
   "cell_type": "code",
   "execution_count": null,
   "id": "6dbce06c-fea9-457b-87c4-0a0e5cfcc1b7",
   "metadata": {},
   "outputs": [],
   "source": []
  }
 ],
 "metadata": {
  "kernelspec": {
   "display_name": "Python 3 (ipykernel)",
   "language": "python",
   "name": "python3"
  },
  "language_info": {
   "codemirror_mode": {
    "name": "ipython",
    "version": 3
   },
   "file_extension": ".py",
   "mimetype": "text/x-python",
   "name": "python",
   "nbconvert_exporter": "python",
   "pygments_lexer": "ipython3",
   "version": "3.11.6"
  }
 },
 "nbformat": 4,
 "nbformat_minor": 5
}
