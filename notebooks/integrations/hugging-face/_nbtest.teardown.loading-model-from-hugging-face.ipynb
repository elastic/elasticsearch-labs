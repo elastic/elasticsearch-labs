{
 "cells": [
  {
   "cell_type": "code",
   "execution_count": null,
   "id": "385c47c3-27e8-4b51-b8b7-26c97b9a3ad3",
   "metadata": {},
   "outputs": [],
   "source": [
    "from elasticsearch import Elasticsearch\n",
    "from getpass import getpass\n",
    "\n",
    "ELASTIC_CLOUD_ID = getpass(\"Elastic Cloud ID: \")\n",
    "ELASTIC_API_KEY = getpass(\"Elastic Api Key: \")\n",
    "\n",
    "client = Elasticsearch(cloud_id=ELASTIC_CLOUD_ID, api_key=ELASTIC_API_KEY,)\n",
    "\n",
    "# delete the notebook's index\n",
    "client.indices.delete(index=\"blogs\", ignore_unavailable=True)\n",
    "\n",
    "# delete the pipeline\n",
    "try:\n",
    "    client.ingest.delete_pipeline(id=\"vectorize_blogs\")\n",
    "except:\n",
    "    pass\n",
    "\n",
    "# delete the model\n",
    "try:\n",
    "    client.ml.delete_trained_model(model_id=\"sentence-transformers__all-minilm-l6-v2\", force=True)\n",
    "except:\n",
    "    pass"
   ]
  }
 ],
 "metadata": {
  "kernelspec": {
   "display_name": "Python 3 (ipykernel)",
   "language": "python",
   "name": "python3"
  },
  "language_info": {
   "codemirror_mode": {
    "name": "ipython",
    "version": 3
   },
   "file_extension": ".py",
   "mimetype": "text/x-python",
   "name": "python",
   "nbconvert_exporter": "python",
   "pygments_lexer": "ipython3",
   "version": "3.11.6"
  }
 },
 "nbformat": 4,
 "nbformat_minor": 5
}
