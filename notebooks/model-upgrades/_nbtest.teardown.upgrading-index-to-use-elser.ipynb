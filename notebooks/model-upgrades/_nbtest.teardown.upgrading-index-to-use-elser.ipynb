{
 "cells": [
  {
   "cell_type": "code",
   "execution_count": null,
   "id": "4ce4d4c3-1342-41da-b84c-48f951380e53",
   "metadata": {},
   "outputs": [],
   "source": [
    "from elasticsearch import Elasticsearch\n",
    "from getpass import getpass\n",
    "\n",
    "ELASTIC_CLOUD_ID = getpass(\"Elastic Cloud ID: \")\n",
    "ELASTIC_API_KEY = getpass(\"Elastic Api Key: \")\n",
    "\n",
    "client = Elasticsearch(cloud_id=ELASTIC_CLOUD_ID, api_key=ELASTIC_API_KEY,)\n",
    "\n",
    "# delete the indices\n",
    "client.indices.delete(index=\"books\", ignore_unavailable=True)\n",
    "client.indices.delete(index=\"movies\", ignore_unavailable=True)\n",
    "client.indices.delete(index=\"elser-movies\", ignore_unavailable=True)\n",
    "client.indices.delete(index=\"elser-upgrade-index-demo\", ignore_unavailable=True)\n",
    "client.indices.delete(index=\"elser-books\", ignore_unavailable=True)\n",
    "\n",
    "# delete the pipelines\n",
    "try:\n",
    "    client.ingest.delete_pipeline(id=\"ingest-pipeline-lowercase\")\n",
    "except:\n",
    "    pass\n",
    "try:\n",
    "    client.ingest.delete_pipeline(id=\"elser-ingest-pipeline\")\n",
    "except:\n",
    "    pass\n",
    "try:\n",
    "    client.ingest.delete_pipeline(id=\"elser-pipeline-upgrade-demo\")\n",
    "except:\n",
    "    pass\n",
    "try:\n",
    "    client.ingest.delete_pipeline(id=\"elser-pipeline-books\")\n",
    "except:\n",
    "    pass\n",
    "\n",
    "# delete the model\n",
    "try:\n",
    "    client.ml.delete_trained_model(model_id=\".elser_model_2\", force=True)\n",
    "except:\n",
    "    pass"
   ]
  }
 ],
 "metadata": {
  "kernelspec": {
   "display_name": "Python 3 (ipykernel)",
   "language": "python",
   "name": "python3"
  },
  "language_info": {
   "codemirror_mode": {
    "name": "ipython",
    "version": 3
   },
   "file_extension": ".py",
   "mimetype": "text/x-python",
   "name": "python",
   "nbconvert_exporter": "python",
   "pygments_lexer": "ipython3",
   "version": "3.11.6"
  }
 },
 "nbformat": 4,
 "nbformat_minor": 5
}
