{
  "cells": [
    {
      "cell_type": "markdown",
      "id": "87773ce7",
      "metadata": {
        "id": "87773ce7"
      },
      "source": [
        "# Semantic search quick start\n",
        "\n",
        "<a target=\"_blank\" href=\"https://colab.research.google.com/github/elastic/elasticsearch-labs/blob/main/notebooks/search/00-quick-start.ipynb\"><img src=\"https://colab.research.google.com/assets/colab-badge.svg\" alt=\"Open In Colab\"/></a>\n",
        "\n",
        "This interactive notebook will introduce you to some basic operations with Elasticsearch, using the official [Elasticsearch Python client](https://www.elastic.co/guide/en/elasticsearch/client/python-api/current/connecting.html).\n",
        "You'll perform semantic search using [Sentence Transformers](https://www.sbert.net) for text embedding. Learn how to integrate traditional text-based search with semantic search, for a hybrid search system."
      ]
    },
    {
      "cell_type": "markdown",
      "id": "a32202e2",
      "metadata": {
        "id": "a32202e2"
      },
      "source": [
        "## Create Elastic Cloud deployment\n",
        "\n",
        "If you don't have an Elastic Cloud deployment, sign up [here](https://cloud.elastic.co/registration?utm_source=github&utm_content=elasticsearch-labs-notebook) for a free trial.\n",
        "\n",
        "- Go to the [Create deployment](https://cloud.elastic.co/deployments/create) page\n",
        "   - Select **Create deployment**"
      ]
    },
    {
      "cell_type": "markdown",
      "id": "52a6a607",
      "metadata": {
        "id": "52a6a607"
      },
      "source": [
        "## Install packages and import modules\n",
        "\n",
        "To get started, we'll need to connect to our Elastic deployment using the Python client.\n",
        "Because we're using an Elastic Cloud deployment, we'll use the **Cloud ID** to identify our deployment.\n",
        "\n",
        "First we need to install the `elasticsearch` Python client."
      ]
    },
    {
      "cell_type": "code",
      "execution_count": null,
      "id": "ffc5fa6f",
      "metadata": {
        "id": "ffc5fa6f",
        "scrolled": false
      },
      "outputs": [],
      "source": [
        "!pip install -qU elasticsearch sentence-transformers==2.2.2"
      ]
    },
    {
      "cell_type": "markdown",
      "id": "28AH8LhI-0UD",
      "metadata": {
        "id": "28AH8LhI-0UD"
      },
      "source": [
        "# Setup the Embedding Model\n",
        "\n",
        "For this example, we're using `all-MiniLM-L6-v2`, part of the `sentence_transformers` library. You can read more about this model on [Huggingface](https://huggingface.co/sentence-transformers/all-MiniLM-L6-v2)."
      ]
    },
    {
      "cell_type": "code",
      "execution_count": null,
      "id": "WHC3hHGW-wbI",
      "metadata": {
        "id": "WHC3hHGW-wbI"
      },
      "outputs": [],
      "source": [
        "from sentence_transformers import SentenceTransformer\n",
        "import torch\n",
        "\n",
        "device = 'cuda' if torch.cuda.is_available() else 'cpu'\n",
        "\n",
        "model = SentenceTransformer('all-MiniLM-L6-v2', device=device)\n",
        "model"
      ]
    },
    {
      "cell_type": "markdown",
      "id": "0241694c",
      "metadata": {
        "id": "0241694c"
      },
      "source": [
        "## Initialize the Elasticsearch client\n",
        "\n",
        "Now we can instantiate the [Elasticsearch python client](https://www.elastic.co/guide/en/elasticsearch/client/python-api/current/index.html), providing the cloud id and password in your deployment."
      ]
    },
    {
      "cell_type": "code",
      "execution_count": 30,
      "id": "f38e0397",
      "metadata": {
        "colab": {
          "base_uri": "https://localhost:8080/"
        },
        "id": "f38e0397",
        "outputId": "ad6df489-d242-4229-a42a-39c5ca19d124"
      },
      "outputs": [
        {
          "name": "stdout",
          "output_type": "stream",
          "text": [
            "Elastic Cloud ID··········\n",
            "Elastic Password··········\n"
          ]
        }
      ],
      "source": [
        "from elasticsearch import Elasticsearch\n",
        "from getpass import getpass\n",
        "\n",
        "CLOUD_ID = getpass(\"Elastic Cloud ID\")\n",
        "CLOUD_PASSWORD = getpass(\"Elastic Password\")\n",
        "\n",
        "# Create the client instance\n",
        "client = Elasticsearch(\n",
        "    cloud_id=CLOUD_ID,\n",
        "    basic_auth=(\"elastic\", CLOUD_PASSWORD)\n",
        ")"
      ]
    },
    {
      "cell_type": "markdown",
      "id": "fcd165fa",
      "metadata": {
        "id": "fcd165fa"
      },
      "source": [
        "If you're running Elasticsearch locally or self-managed, you can pass in the Elasticsearch host instead. [Read more](https://www.elastic.co/guide/en/elasticsearch/client/python-api/current/connecting.html#_verifying_https_with_certificate_fingerprints_python_3_10_or_later) on how to connect to Elasticsearch locally."
      ]
    },
    {
      "cell_type": "markdown",
      "id": "1462ebd8",
      "metadata": {
        "id": "1462ebd8"
      },
      "source": [
        "Confirm that the client has connected with this test."
      ]
    },
    {
      "cell_type": "code",
      "execution_count": 31,
      "id": "25c618eb",
      "metadata": {
        "colab": {
          "base_uri": "https://localhost:8080/"
        },
        "id": "25c618eb",
        "outputId": "30a6ba5b-5109-4457-ddfe-5633a077ca9b"
      },
      "outputs": [
        {
          "name": "stdout",
          "output_type": "stream",
          "text": [
            "{'name': 'instance-0000000000', 'cluster_name': '1a56ad21587c44d3930932eb9fa1d8e8', 'cluster_uuid': 'gX4zlwtlR4qhZpp1SPm4Yg', 'version': {'number': '8.8.2', 'build_flavor': 'default', 'build_type': 'docker', 'build_hash': '98e1271edf932a480e4262a471281f1ee295ce6b', 'build_date': '2023-06-26T05:16:16.196344851Z', 'build_snapshot': False, 'lucene_version': '9.6.0', 'minimum_wire_compatibility_version': '7.17.0', 'minimum_index_compatibility_version': '7.0.0'}, 'tagline': 'You Know, for Search'}\n"
          ]
        }
      ],
      "source": [
        "print(client.info())"
      ]
    },
    {
      "cell_type": "markdown",
      "id": "61e1e6d8",
      "metadata": {
        "id": "61e1e6d8"
      },
      "source": [
        "## Index some test data\n",
        "\n",
        "Our client is set up and connected to our Elastic deployment.\n",
        "Now we need some data to test out the basics of Elasticsearch queries.\n",
        "We'll use a small index of books with the following fields:\n",
        "\n",
        "- `title`\n",
        "- `authors`\n",
        "- `publish_date`\n",
        "- `num_reviews`\n",
        "- `publisher`\n",
        "\n",
        "### Create index\n",
        "\n",
        "Let's create an Elasticsearch index with the correct mappings for our test data."
      ]
    },
    {
      "cell_type": "code",
      "execution_count": null,
      "id": "6bc95238",
      "metadata": {
        "id": "6bc95238"
      },
      "outputs": [],
      "source": [
        "# Define the mapping\n",
        "mapping = {\n",
        "    \"mappings\": {\n",
        "        \"properties\": {\n",
        "            \"title_vector\": {\n",
        "                \"type\": \"dense_vector\",\n",
        "                \"dims\": 384,\n",
        "                \"index\": \"true\",\n",
        "                \"similarity\": \"cosine\"\n",
        "            }\n",
        "        }\n",
        "    }\n",
        "}\n",
        "\n",
        "# Create the index\n",
        "client.indices.create(index='book_index', body=mapping)\n"
      ]
    },
    {
      "cell_type": "markdown",
      "id": "075f5eb6",
      "metadata": {
        "id": "075f5eb6"
      },
      "source": [
        "### Index test data\n",
        "\n",
        "Run the following command to upload some test data, containing information about 10 popular programming books from this [dataset](https://raw.githubusercontent.com/elastic/elasticsearch-labs/blob/main/notebooks/search/data.json).\n",
        "`model.encode` will encode the text into a vector on the fly, using the model we initialized earlier."
      ]
    },
    {
      "cell_type": "code",
      "execution_count": null,
      "id": "008d723e",
      "metadata": {
        "id": "008d723e"
      },
      "outputs": [],
      "source": [
        "import json\n",
        "from urllib.request import urlopen\n",
        "\n",
        "url = \"https://raw.githubusercontent.com/elastic/elasticsearch-labs/main/notebooks/search/data.json\"\n",
        "response = urlopen(url)\n",
        "books = json.loads(response.read())\n",
        "\n",
        "actions = []\n",
        "for book in books:\n",
        "    actions.append({\"index\": {\"_index\": \"book_index\"}})\n",
        "    # Transforming the title into an embedding using the model\n",
        "    book[\"title_vector\"] = model.encode(book[\"title\"]).tolist()\n",
        "    actions.append(book)\n",
        "client.bulk(index=\"book_index\", operations=actions)\n"
      ]
    },
    {
      "cell_type": "markdown",
      "id": "cd8b03e0",
      "metadata": {
        "id": "cd8b03e0"
      },
      "source": [
        "## Aside: Pretty printing Elasticsearch responses\n",
        "\n",
        "Your API calls will return hard-to-read nested JSON.\n",
        "We'll create a little function called `pretty_response` to return nice, human-readable outputs from our examples."
      ]
    },
    {
      "cell_type": "code",
      "execution_count": 40,
      "id": "f12ce2c9",
      "metadata": {
        "id": "f12ce2c9"
      },
      "outputs": [],
      "source": [
        "def pretty_response(response):\n",
        "    for hit in response['hits']['hits']:\n",
        "        id = hit['_id']\n",
        "        publication_date = hit['_source']['publish_date']\n",
        "        score = hit['_score']\n",
        "        title = hit['_source']['title']\n",
        "        summary = hit['_source']['summary']\n",
        "        publisher = hit[\"_source\"][\"publisher\"]\n",
        "        num_reviews = hit[\"_source\"][\"num_reviews\"]\n",
        "        authors = hit[\"_source\"][\"authors\"]\n",
        "        pretty_output = (f\"\\nID: {id}\\nPublication date: {publication_date}\\nTitle: {title}\\nSummary: {summary}\\nPublisher: {publisher}\\nReviews: {num_reviews}\\nAuthors: {authors}\\nScore: {score}\")\n",
        "        print(pretty_output)"
      ]
    },
    {
      "cell_type": "markdown",
      "id": "39bdefe0",
      "metadata": {
        "id": "39bdefe0"
      },
      "source": [
        "## Making queries\n",
        "\n",
        "Now that we have indexed the books, we want to perform a semantic search for books that are similar to a given query.\n",
        "We embed the query and perform a search."
      ]
    },
    {
      "cell_type": "code",
      "execution_count": 41,
      "id": "Df7hwcIjYwMT",
      "metadata": {
        "colab": {
          "base_uri": "https://localhost:8080/"
        },
        "id": "Df7hwcIjYwMT",
        "outputId": "e63884d7-d4a5-4f5d-ea43-fc2f0793f040"
      },
      "outputs": [
        {
          "name": "stdout",
          "output_type": "stream",
          "text": [
            "\n",
            "ID: OOlWP4kB-GB5Evg6zHVx\n",
            "Publication date: 2008-05-15\n",
            "Title: JavaScript: The Good Parts\n",
            "Summary: A deep dive into the parts of JavaScript that are essential to writing maintainable code\n",
            "Publisher: oreilly\n",
            "Reviews: 51\n",
            "Authors: ['douglas crockford']\n",
            "Score: 0.8075247\n",
            "\n",
            "ID: NOlWP4kB-GB5Evg6zHVx\n",
            "Publication date: 2015-03-27\n",
            "Title: You Don't Know JS: Up & Going\n",
            "Summary: Introduction to JavaScript and programming as a whole\n",
            "Publisher: oreilly\n",
            "Reviews: 36\n",
            "Authors: ['kyle simpson']\n",
            "Score: 0.6946182\n",
            "\n",
            "ID: NelWP4kB-GB5Evg6zHVx\n",
            "Publication date: 2018-12-04\n",
            "Title: Eloquent JavaScript\n",
            "Summary: A modern introduction to programming\n",
            "Publisher: no starch press\n",
            "Reviews: 38\n",
            "Authors: ['marijn haverbeke']\n",
            "Score: 0.66179085\n",
            "\n",
            "ID: MOlWP4kB-GB5Evg6zHVx\n",
            "Publication date: 2019-10-29\n",
            "Title: The Pragmatic Programmer: Your Journey to Mastery\n",
            "Summary: A guide to pragmatic programming for software engineers and developers\n",
            "Publisher: addison-wesley\n",
            "Reviews: 30\n",
            "Authors: ['andrew hunt', 'david thomas']\n",
            "Score: 0.61159486\n",
            "\n",
            "ID: OelWP4kB-GB5Evg6zHVx\n",
            "Publication date: 2012-06-27\n",
            "Title: Introduction to the Theory of Computation\n",
            "Summary: Introduction to the theory of computation and complexity theory\n",
            "Publisher: cengage learning\n",
            "Reviews: 33\n",
            "Authors: ['michael sipser']\n",
            "Score: 0.58697784\n",
            "\n",
            "ID: N-lWP4kB-GB5Evg6zHVx\n",
            "Publication date: 2011-05-13\n",
            "Title: The Clean Coder: A Code of Conduct for Professional Programmers\n",
            "Summary: A guide to professional conduct in the field of software engineering\n",
            "Publisher: prentice hall\n",
            "Reviews: 20\n",
            "Authors: ['robert c. martin']\n",
            "Score: 0.57042736\n",
            "\n",
            "ID: NulWP4kB-GB5Evg6zHVx\n",
            "Publication date: 1994-10-31\n",
            "Title: Design Patterns: Elements of Reusable Object-Oriented Software\n",
            "Summary: Guide to design patterns that can be used in any object-oriented language\n",
            "Publisher: addison-wesley\n",
            "Reviews: 45\n",
            "Authors: ['erich gamma', 'richard helm', 'ralph johnson', 'john vlissides']\n",
            "Score: 0.56175697\n",
            "\n",
            "ID: M-lWP4kB-GB5Evg6zHVx\n",
            "Publication date: 2008-08-11\n",
            "Title: Clean Code: A Handbook of Agile Software Craftsmanship\n",
            "Summary: A guide to writing code that is easy to read, understand and maintain\n",
            "Publisher: prentice hall\n",
            "Reviews: 55\n",
            "Authors: ['robert c. martin']\n",
            "Score: 0.55407417\n",
            "\n",
            "ID: MulWP4kB-GB5Evg6zHVx\n",
            "Publication date: 2020-04-06\n",
            "Title: Artificial Intelligence: A Modern Approach\n",
            "Summary: Comprehensive introduction to the theory and practice of artificial intelligence\n",
            "Publisher: pearson\n",
            "Reviews: 39\n",
            "Authors: ['stuart russell', 'peter norvig']\n",
            "Score: 0.5461982\n",
            "\n",
            "ID: MelWP4kB-GB5Evg6zHVx\n",
            "Publication date: 2019-05-03\n",
            "Title: Python Crash Course\n",
            "Summary: A fast-paced, no-nonsense guide to programming in Python\n",
            "Publisher: no starch press\n",
            "Reviews: 42\n",
            "Authors: ['eric matthes']\n",
            "Score: 0.536102\n"
          ]
        },
        {
          "name": "stderr",
          "output_type": "stream",
          "text": [
            "<ipython-input-41-f6998147c0ac>:1: DeprecationWarning: The 'body' parameter is deprecated and will be removed in a future version. Instead use individual parameters.\n",
            "  response = client.search(index=\"book_index\", body={\n"
          ]
        }
      ],
      "source": [
        "response = client.search(index=\"book_index\", body={\n",
        "    \"knn\": {\n",
        "      \"field\": \"title_vector\",\n",
        "      \"query_vector\": model.encode(\"Best javascript books?\"),\n",
        "      \"k\": 10,\n",
        "      \"num_candidates\": 100\n",
        "    }\n",
        "})\n",
        "\n",
        "pretty_response(response)"
      ]
    },
    {
      "cell_type": "markdown",
      "id": "LdJCpbQMeml5",
      "metadata": {
        "id": "LdJCpbQMeml5"
      },
      "source": [
        "## Filtering\n",
        "\n",
        "Filter context is mostly used for filtering structured data. For example, use filter context to answer questions like:\n",
        "\n",
        "- _Does this timestamp fall into the range 2015 to 2016?_\n",
        "- _Is the status field set to \"published\"?_\n",
        "\n",
        "Filter context is in effect whenever a query clause is passed to a filter parameter, such as the `filter` or `must_not` parameters in a `bool` query.\n",
        "\n",
        "[Learn more](https://www.elastic.co/guide/en/elasticsearch/reference/current/query-filter-context.html#filter-context) about filter context in the Elasticsearch docs."
      ]
    },
    {
      "cell_type": "markdown",
      "id": "dRSrPMyFf7w7",
      "metadata": {
        "id": "dRSrPMyFf7w7"
      },
      "source": [
        "### Example: Keyword Filtering\n",
        "\n",
        "This is an example of adding a keyword filter to the query.\n",
        "\n",
        "It narrows down the results by including only documents where the \"publisher\" field is equal to \"addison-wesley\".\n",
        "\n",
        "The code retrieves the top books that are similar to \"Best javascript books?\" based on their title vectors and have \"addison-wesley\" as the publisher."
      ]
    },
    {
      "cell_type": "code",
      "execution_count": null,
      "id": "WoE0yTchfj3A",
      "metadata": {
        "id": "WoE0yTchfj3A"
      },
      "outputs": [],
      "source": [
        "response = client.search(index=\"book_index\", body={\n",
        "    \"knn\": {\n",
        "      \"field\": \"title_vector\",\n",
        "      \"query_vector\": model.encode(\"Best javascript books?\"),\n",
        "      \"k\": 10,\n",
        "      \"num_candidates\": 100,\n",
        "      \"filter\": {\n",
        "          \"term\": {\n",
        "              \"publisher\": \"addison-wesley\"\n",
        "          }\n",
        "      }\n",
        "    }\n",
        "})\n",
        "\n",
        "pretty_response(response)"
      ]
    },
    {
      "cell_type": "markdown",
      "id": "YY2SrWDtgnF3",
      "metadata": {
        "id": "YY2SrWDtgnF3"
      },
      "source": [
        "### Example: Advanced Filtering\n",
        "\n",
        "Advanced filtering in Elasticsearch allows for precise search result refinement by applying conditions.\n",
        "It supports a variety of operators and can be used to filter results based on specific fields, ranges, or conditions, boosting the precision and relevance of search outcomes.\n",
        "Learn more in this [query and filter contexts example](https://www.elastic.co/guide/en/elasticsearch/reference/current/query-filter-context.html#query-filter-context-ex)."
      ]
    },
    {
      "cell_type": "code",
      "execution_count": 43,
      "id": "fcDfiJC9g6AX",
      "metadata": {
        "colab": {
          "base_uri": "https://localhost:8080/"
        },
        "id": "fcDfiJC9g6AX",
        "outputId": "0909515a-5b94-4863-94c6-e67015baeadf"
      },
      "outputs": [
        {
          "name": "stdout",
          "output_type": "stream",
          "text": [
            "\n",
            "ID: MOlWP4kB-GB5Evg6zHVx\n",
            "Publication date: 2019-10-29\n",
            "Title: The Pragmatic Programmer: Your Journey to Mastery\n",
            "Summary: A guide to pragmatic programming for software engineers and developers\n",
            "Publisher: addison-wesley\n",
            "Reviews: 30\n",
            "Authors: ['andrew hunt', 'david thomas']\n",
            "Score: 0.61159486\n",
            "\n",
            "ID: N-lWP4kB-GB5Evg6zHVx\n",
            "Publication date: 2011-05-13\n",
            "Title: The Clean Coder: A Code of Conduct for Professional Programmers\n",
            "Summary: A guide to professional conduct in the field of software engineering\n",
            "Publisher: prentice hall\n",
            "Reviews: 20\n",
            "Authors: ['robert c. martin']\n",
            "Score: 0.57042736\n",
            "\n",
            "ID: NulWP4kB-GB5Evg6zHVx\n",
            "Publication date: 1994-10-31\n",
            "Title: Design Patterns: Elements of Reusable Object-Oriented Software\n",
            "Summary: Guide to design patterns that can be used in any object-oriented language\n",
            "Publisher: addison-wesley\n",
            "Reviews: 45\n",
            "Authors: ['erich gamma', 'richard helm', 'ralph johnson', 'john vlissides']\n",
            "Score: 0.56175697\n",
            "\n",
            "ID: M-lWP4kB-GB5Evg6zHVx\n",
            "Publication date: 2008-08-11\n",
            "Title: Clean Code: A Handbook of Agile Software Craftsmanship\n",
            "Summary: A guide to writing code that is easy to read, understand and maintain\n",
            "Publisher: prentice hall\n",
            "Reviews: 55\n",
            "Authors: ['robert c. martin']\n",
            "Score: 0.55407417\n"
          ]
        },
        {
          "name": "stderr",
          "output_type": "stream",
          "text": [
            "<ipython-input-43-9b650e64895f>:1: DeprecationWarning: The 'body' parameter is deprecated and will be removed in a future version. Instead use individual parameters.\n",
            "  response = client.search(index=\"book_index\", body={\n"
          ]
        }
      ],
      "source": [
        "response = client.search(index=\"book_index\", body={\n",
        "    \"knn\": {\n",
        "      \"field\": \"title_vector\",\n",
        "      \"query_vector\": model.encode(\"Best javascript books?\"),\n",
        "      \"k\": 10,\n",
        "      \"num_candidates\": 100,\n",
        "      \"filter\": {\n",
        "          \"bool\": {\n",
        "              \"should\": [\n",
        "                  {\n",
        "                    \"term\": {\n",
        "                        \"publisher\": \"addison-wesley\"\n",
        "                    }\n",
        "                  },\n",
        "                  {\n",
        "                    \"term\": {\n",
        "                        \"authors\": \"robert c. martin\"\n",
        "                    }\n",
        "                  }\n",
        "              ],\n",
        "\n",
        "          }\n",
        "      }\n",
        "    }\n",
        "})\n",
        "\n",
        "pretty_response(response)"
      ]
    },
    {
      "cell_type": "markdown",
      "id": "IUMOK8h-iYrq",
      "metadata": {
        "id": "IUMOK8h-iYrq"
      },
      "source": [
        "## Hybrid Search\n",
        "\n",
        "In this example, we are investigating the combination of two search algorithms: BM25 for text search and HNSW for nearest neighbor search. By combining multiple ranking methods, such as BM25 and an ML model that generates dense vector embeddings, we can achieve the best ranking results. This approach allows us to leverage the strengths of each algorithm and improve the overall search performance.\n",
        "\n",
        "[Reciprocal Rank Fusion (RRF)](https://www.elastic.co/guide/en/elasticsearch/reference/current/rrf.html) is a state-of-the-art ranking algorithm for combining results from different information retrieval strategies.\n",
        "RRF outperforms all other ranking algorithms without calibration.\n",
        "In brief, it enables best-in-class hybrid search, out of the box."
      ]
    },
    {
      "cell_type": "code",
      "execution_count": 51,
      "id": "1BwZ-yjli7xA",
      "metadata": {
        "colab": {
          "base_uri": "https://localhost:8080/"
        },
        "id": "1BwZ-yjli7xA",
        "outputId": "26eea86c-5cda-42d0-ba1e-2904e2b7865a"
      },
      "outputs": [
        {
          "name": "stdout",
          "output_type": "stream",
          "text": [
            "\n",
            "ID: MelWP4kB-GB5Evg6zHVx\n",
            "Publication date: 2019-05-03\n",
            "Title: Python Crash Course\n",
            "Summary: A fast-paced, no-nonsense guide to programming in Python\n",
            "Publisher: no starch press\n",
            "Reviews: 42\n",
            "Authors: ['eric matthes']\n",
            "Score: None\n",
            "\n",
            "ID: MOlWP4kB-GB5Evg6zHVx\n",
            "Publication date: 2019-10-29\n",
            "Title: The Pragmatic Programmer: Your Journey to Mastery\n",
            "Summary: A guide to pragmatic programming for software engineers and developers\n",
            "Publisher: addison-wesley\n",
            "Reviews: 30\n",
            "Authors: ['andrew hunt', 'david thomas']\n",
            "Score: None\n",
            "\n",
            "ID: OelWP4kB-GB5Evg6zHVx\n",
            "Publication date: 2012-06-27\n",
            "Title: Introduction to the Theory of Computation\n",
            "Summary: Introduction to the theory of computation and complexity theory\n",
            "Publisher: cengage learning\n",
            "Reviews: 33\n",
            "Authors: ['michael sipser']\n",
            "Score: None\n",
            "\n",
            "ID: N-lWP4kB-GB5Evg6zHVx\n",
            "Publication date: 2011-05-13\n",
            "Title: The Clean Coder: A Code of Conduct for Professional Programmers\n",
            "Summary: A guide to professional conduct in the field of software engineering\n",
            "Publisher: prentice hall\n",
            "Reviews: 20\n",
            "Authors: ['robert c. martin']\n",
            "Score: None\n",
            "\n",
            "ID: MulWP4kB-GB5Evg6zHVx\n",
            "Publication date: 2020-04-06\n",
            "Title: Artificial Intelligence: A Modern Approach\n",
            "Summary: Comprehensive introduction to the theory and practice of artificial intelligence\n",
            "Publisher: pearson\n",
            "Reviews: 39\n",
            "Authors: ['stuart russell', 'peter norvig']\n",
            "Score: None\n"
          ]
        },
        {
          "name": "stderr",
          "output_type": "stream",
          "text": [
            "<ipython-input-51-3861c4af16a3>:1: DeprecationWarning: The 'body' parameter is deprecated and will be removed in a future version. Instead use individual parameters.\n",
            "  response = client.search(index=\"book_index\", body={\n"
          ]
        }
      ],
      "source": [
        "response = client.search(index=\"book_index\", body={\n",
        "    \"query\": {\n",
        "        \"match\": {\n",
        "            \"summary\": \"python\"\n",
        "        }\n",
        "    },\n",
        "    \"knn\": {\n",
        "        \"field\": \"title_vector\",\n",
        "        # generate embedding for query so it can be compared to `title_vector`\n",
        "        \"query_vector\" : model.encode(\"python programming\").tolist(),\n",
        "        \"k\": 5,\n",
        "        \"num_candidates\": 10\n",
        "    },\n",
        "    \"rank\": {\n",
        "        \"rrf\": {\n",
        "            \"window_size\": 100,\n",
        "            \"rank_constant\": 20\n",
        "        }\n",
        "    }\n",
        "})\n",
        "\n",
        "pretty_response(response)"
      ]
    },
    {
      "cell_type": "code",
      "execution_count": 52,
      "id": "_OAahfg-tqrf",
      "metadata": {
        "colab": {
          "base_uri": "https://localhost:8080/"
        },
        "id": "_OAahfg-tqrf",
        "outputId": "d8f81ba4-cdc9-4e30-edf7-6d5bb16920eb"
      },
      "outputs": [
        {
          "data": {
            "text/plain": [
              "ObjectApiResponse({'acknowledged': True})"
            ]
          },
          "execution_count": 52,
          "metadata": {},
          "output_type": "execute_result"
        }
      ],
      "source": [
        "client.indices.delete(index=\"book_index\")"
      ]
    }
  ],
  "metadata": {
    "colab": {
      "provenance": []
    },
    "kernelspec": {
      "display_name": "Python 3 (ipykernel)",
      "language": "python",
      "name": "python3"
    },
    "language_info": {
      "codemirror_mode": {
        "name": "ipython",
        "version": 3
      },
      "file_extension": ".py",
      "mimetype": "text/x-python",
      "name": "python",
      "nbconvert_exporter": "python",
      "pygments_lexer": "ipython3",
      "version": "3.9.16"
    }
  },
  "nbformat": 4,
  "nbformat_minor": 5
}
