{
  "cells": [
    {
      "cell_type": "markdown",
      "id": "87773ce7",
      "metadata": {
        "id": "87773ce7"
      },
      "source": [
        "# Search using query rules\n",
        "\n",
        "<a target=\"_blank\" href=\"https://colab.research.google.com/github/kderusso/elasticsearch-labs/blob/kderusso/query-rules-notebook/notebooks/search/05-query-rules.ipynb\"><img src=\"https://colab.research.google.com/assets/colab-badge.svg\" alt=\"Open In Colab\"/></a>\n",
        "\n",
        "This interactive notebook will introduce you to how use query rules, using the official [Elasticsearch Python client](https://www.elastic.co/guide/en/elasticsearch/client/python-api/current/connecting.html).\n",
        "You'll store query rules in Elasticsearch using the [query rules API](https://www.elastic.co/guide/en/elasticsearch/reference/current/query-rules-apis.html) and query them using [rule_query](https://www.elastic.co/guide/en/elasticsearch/reference/current/query-dsl-rule-query.html)."
      ]
    },
    {
      "cell_type": "markdown",
      "id": "a32202e2",
      "metadata": {
        "id": "a32202e2"
      },
      "source": [
        "## Create Elastic Cloud deployment\n",
        "\n",
        "If you don't have an Elastic Cloud deployment, sign up [here](https://cloud.elastic.co/registration?fromURI=%2Fhome) for a free trial.\n",
        "\n",
        "- Go to the [Create deployment](https://cloud.elastic.co/deployments/create) page\n",
        "   - Select **Create deployment**"
      ]
    },
    {
      "cell_type": "markdown",
      "id": "52a6a607",
      "metadata": {
        "id": "52a6a607"
      },
      "source": [
        "## Install packages and import modules\n",
        "\n",
        "To get started, we'll need to connect to our Elastic deployment using the Python client.\n",
        "Because we're using an Elastic Cloud deployment, we'll use the **Cloud ID** to identify our deployment.\n",
        "\n",
        "First we need to install the `elasticsearch` Python client."
      ]
    },
    {
      "cell_type": "code",
      "execution_count": null,
      "id": "ffc5fa6f",
      "metadata": {
        "id": "ffc5fa6f",
        "scrolled": false
      },
      "outputs": [],
      "source": [
        "!pip install -qU elasticsearch sentence-transformers==2.2.2"
      ]
    },
    {
      "cell_type": "markdown",
      "id": "0241694c",
      "metadata": {
        "id": "0241694c"
      },
      "source": [
        "## Initialize the Elasticsearch client\n",
        "\n",
        "Now we can instantiate the [Elasticsearch python client](https://www.elastic.co/guide/en/elasticsearch/client/python-api/current/index.html), providing the cloud id and password in your deployment."
      ]
    },
    {
      "cell_type": "code",
      "execution_count": 30,
      "id": "f38e0397",
      "metadata": {
        "colab": {
          "base_uri": "https://localhost:8080/"
        },
        "id": "f38e0397",
        "outputId": "ad6df489-d242-4229-a42a-39c5ca19d124"
      },
      "outputs": [
        {
          "name": "stdout",
          "output_type": "stream",
          "text": [
            "Elastic Cloud ID··········\n",
            "Elastic Password··········\n"
          ]
        }
      ],
      "source": [
        "from elasticsearch import Elasticsearch\n",
        "from getpass import getpass\n",
        "\n",
        "CLOUD_ID = getpass(\"Elastic Cloud ID\")\n",
        "CLOUD_PASSWORD = getpass(\"Elastic Password\")\n",
        "\n",
        "# Create the client instance\n",
        "client = Elasticsearch(\n",
        "    cloud_id=CLOUD_ID,\n",
        "    basic_auth=(\"elastic\", CLOUD_PASSWORD)\n",
        ")"
      ]
    },
    {
      "cell_type": "markdown",
      "id": "fcd165fa",
      "metadata": {
        "id": "fcd165fa"
      },
      "source": [
        "If you're running Elasticsearch locally or self-managed, you can pass in the Elasticsearch host instead. [Read more](https://www.elastic.co/guide/en/elasticsearch/client/python-api/current/connecting.html#_verifying_https_with_certificate_fingerprints_python_3_10_or_later) on how to connect to Elasticsearch locally."
      ]
    },
    {
      "cell_type": "markdown",
      "id": "1462ebd8",
      "metadata": {
        "id": "1462ebd8"
      },
      "source": [
        "Confirm that the client has connected with this test."
      ]
    },
    {
      "cell_type": "code",
      "execution_count": 31,
      "id": "25c618eb",
      "metadata": {
        "colab": {
          "base_uri": "https://localhost:8080/"
        },
        "id": "25c618eb",
        "outputId": "30a6ba5b-5109-4457-ddfe-5633a077ca9b"
      },
      "outputs": [
        {
          "name": "stdout",
          "output_type": "stream",
          "text": [
            "{'name': 'instance-0000000000', 'cluster_name': '1a56ad21587c44d3930932eb9fa1d8e8', 'cluster_uuid': 'gX4zlwtlR4qhZpp1SPm4Yg', 'version': {'number': '8.8.2', 'build_flavor': 'default', 'build_type': 'docker', 'build_hash': '98e1271edf932a480e4262a471281f1ee295ce6b', 'build_date': '2023-06-26T05:16:16.196344851Z', 'build_snapshot': False, 'lucene_version': '9.6.0', 'minimum_wire_compatibility_version': '7.17.0', 'minimum_index_compatibility_version': '7.0.0'}, 'tagline': 'You Know, for Search'}\n"
          ]
        }
      ],
      "source": [
        "print(client.info())"
      ]
    },
    {
      "cell_type": "markdown",
      "id": "61e1e6d8",
      "metadata": {
        "id": "61e1e6d8"
      },
      "source": [
        "## Index some test data\n",
        "\n",
        "Our client is set up and connected to our Elastic deployment.\n",
        "Now we need some data to test out the basics of Elasticsearch queries.\n",
        "We'll use a small index of products with the following fields:\n",
        "\n",
        "- `name`\n",
        "- `description`\n",
        "- `price`\n",
        "- `currency`\n",
        "- `plug_type`\n",
        "- `voltage`"
      ]
    },
    {
      "cell_type": "markdown",
      "id": "075f5eb6",
      "metadata": {
        "id": "075f5eb6"
      },
      "source": [
        "### Index test data\n",
        "\n",
        "Run the following command to upload some sample data."
      ]
    },
    {
      "cell_type": "code",
      "execution_count": null,
      "id": "008d723e",
      "metadata": {
        "id": "008d723e"
      },
      "outputs": [],
      "source": [
        "import json\n",
        "from urllib.request import urlopen\n",
        "\n",
        "url = \"https://raw.githubusercontent.com/kderusso/elasticsearch-labs/kderusso/query-rules-notebook/notebooks/search/query-rules-data.json\"\n",
        "response = urlopen(url)\n",
        "docs = json.loads(response.read())\n",
        "\n",
        "actions = []\n",
        "for doc in docs:\n",
        "    actions.append({\"index\": {\"_index\": \"products_index\", \"_id\": doc[\"id\"]}})\n",
        "    actions.append(doc[\"content\"])\n",
        "client.bulk(index=\"products_index\", operations=actions)\n"
      ]
    },
    {
      "cell_type": "markdown",
      "id": "985c9992",
      "metadata": {},
      "source": [
        "First, let's search our data for a reliable wireless charger. (We'll include a `pretty_response` function to make hard-to-read json output more readable)."
      ]
    },
    {
      "cell_type": "code",
      "execution_count": null,
      "id": "ed5c572a",
      "metadata": {},
      "outputs": [],
      "source": [
        "def pretty_response(response):\n",
        "    for hit in response['hits']['hits']:\n",
        "        id = hit['_id']\n",
        "        score = hit['_score']\n",
        "        name = hit['_source']['name']\n",
        "        description = hit['_source']['description']\n",
        "        price = hit[\"_source\"][\"price\"]\n",
        "        currency = hit[\"_source\"][\"currency\"]\n",
        "        plug_type = hit[\"_source\"][\"plug_type\"]\n",
        "        voltage = hit[\"_source\"][\"voltage\"]\n",
        "        pretty_output = (f\"\\nID: {id}\\nName: {name}\\nDescription: {description}\\nPrice: {price}\\nCurrency: {currency}\\nPlug type: {plug_type}\\nVoltage: {voltage}\\nScore: {score}\")\n",
        "        print(pretty_output)\n",
        "\n",
        "response = client.search(index=\"products_index\", body={\n",
        "    \"query\": {\n",
        "      \"multi_match\": {\n",
        "          \"query\": \"reliable wireless charger for iPhone\",\n",
        "          \"fields\": [ \"name^5\", \"description\" ]\n",
        "      }\n",
        "    }\n",
        "})\n",
        "\n",
        "pretty_response(response)"
      ]
    },
    {
      "cell_type": "markdown",
      "id": "fa1b4af1",
      "metadata": {},
      "source": [
        "As we can see from the response, the European result is ranked first. This might not be desirable if, for example, I know that my searcher is coming from the US or the UK which have different plugs and specifications. \n",
        "\n",
        "Query rules can help here!"
      ]
    },
    {
      "cell_type": "markdown",
      "id": "39bdefe0",
      "metadata": {
        "id": "39bdefe0"
      },
      "source": [
        "## Creating rules\n",
        "\n",
        "Let's assume that separately, we know what country our users are coming from (perhaps geolocation from IP addresses or logged in user account information). Now, we want to create query rules to boost wireless chargers based on that information when people search for anything containing the phrase `wireless charger`."
      ]
    },
    {
      "cell_type": "code",
      "execution_count": null,
      "id": "b109d45d",
      "metadata": {},
      "outputs": [],
      "source": [
        "client.query_ruleset.put(ruleset_id=\"promotion-rules\", rules=[\n",
        "    {\n",
        "      \"rule_id\": \"us-charger\",\n",
        "      \"type\": \"pinned\",\n",
        "      \"criteria\": [\n",
        "        {\n",
        "          \"type\": \"contains\",\n",
        "          \"metadata\": \"my_query\",\n",
        "          \"values\": [\"wireless charger\"]\n",
        "        },\n",
        "        {\n",
        "          \"type\": \"exact\",\n",
        "          \"metadata\": \"country\",\n",
        "          \"values\": [\"us\"]\n",
        "        }\n",
        "      ],\n",
        "      \"actions\": {\n",
        "        \"ids\": [\n",
        "          \"us1\"\n",
        "        ]\n",
        "      }\n",
        "    },\n",
        "    {\n",
        "      \"rule_id\": \"uk-charger\",\n",
        "      \"type\": \"pinned\",\n",
        "      \"criteria\": [\n",
        "        {\n",
        "          \"type\": \"contains\",\n",
        "          \"metadata\": \"my_query\",\n",
        "          \"values\": [\"wireless charger\"]\n",
        "        },\n",
        "        {\n",
        "          \"type\": \"exact\",\n",
        "          \"metadata\": \"country\",\n",
        "          \"values\": [\"uk\"]\n",
        "        }\n",
        "      ],\n",
        "      \"actions\": {\n",
        "        \"ids\": [\n",
        "          \"uk1\"\n",
        "        ]\n",
        "      }\n",
        "    }\n",
        "  ])"
      ]
    },
    {
      "cell_type": "markdown",
      "id": "28ae167a",
      "metadata": {},
      "source": [
        "In order for these rules to match, one of the following must be true:\n",
        "\n",
        "- `my_query` contains the string \"wireless charger\" *AND* `country` is \"us\"\n",
        "- `my_query` contains the string \"wireless charger\" *AND* `country` is \"uk\"\n",
        "\n",
        "We can view our ruleset using the API as well (with another `pretty_ruleset` function for readability):"
      ]
    },
    {
      "cell_type": "code",
      "execution_count": null,
      "id": "dcda4989",
      "metadata": {},
      "outputs": [],
      "source": [
        "def pretty_ruleset(response):\n",
        "    print(\"Ruleset ID: \" + response['ruleset_id'])\n",
        "    for rule in response['rules']:\n",
        "        rule_id = rule['rule_id']\n",
        "        type = rule['type']\n",
        "        print(f\"\\nRule ID: {rule_id}\\n\\tType: {type}\\n\\tCriteria:\")\n",
        "        criteria = rule['criteria']\n",
        "        for rule_criteria in criteria:\n",
        "            criteria_type = rule_criteria['type']\n",
        "            metadata = rule_criteria['metadata']\n",
        "            values = rule_criteria['values']\n",
        "            print(f\"\\t\\t{metadata} {criteria_type} {values}\")\n",
        "        ids = rule['actions']['ids']\n",
        "        print(f\"\\tPinned ids: {ids}\")\n",
        "        \n",
        "response = client.query_ruleset.get(ruleset_id=\"promotion-rules\")\n",
        "pretty_ruleset(response)"
      ]
    },
    {
      "cell_type": "markdown",
      "id": "6369c6fc",
      "metadata": {},
      "source": [
        "Next, we use the rule_query to perform a search using the same organic query as above, but with the addition of query rules:"
      ]
    },
    {
      "cell_type": "code",
      "execution_count": null,
      "id": "Df7hwcIjYwMT",
      "metadata": {
        "colab": {
          "base_uri": "https://localhost:8080/"
        },
        "id": "Df7hwcIjYwMT",
        "outputId": "e63884d7-d4a5-4f5d-ea43-fc2f0793f040"
      },
      "outputs": [],
      "source": [
        "response = client.search(index=\"products_index\", body={\n",
        "    \"query\": {\n",
        "        \"rule_query\": {\n",
        "            \"organic\": {\n",
        "                \"multi_match\": {\n",
        "                    \"query\": \"reliable wireless charger for iPhone\",\n",
        "                    \"fields\": [ \"name^5\", \"description\" ]\n",
        "                }\n",
        "            },\n",
        "            \"match_criteria\": {\n",
        "              \"my_query\": \"reliable wireless charger for iPhone\",\n",
        "              \"country\": \"us\"\n",
        "            },\n",
        "            \"ruleset_id\": \"promotion-rules\"\n",
        "        }\n",
        "    }\n",
        "})\n",
        "\n",
        "pretty_response(response)"
      ]
    },
    {
      "cell_type": "markdown",
      "id": "ac053cf3",
      "metadata": {},
      "source": [
        "Now, the rule query boosts the documents that we want to be displayed first!"
      ]
    }
  ],
  "metadata": {
    "colab": {
      "provenance": []
    },
    "kernelspec": {
      "display_name": "Python 3 (ipykernel)",
      "language": "python",
      "name": "python3"
    },
    "language_info": {
      "codemirror_mode": {
        "name": "ipython",
        "version": 3
      },
      "file_extension": ".py",
      "mimetype": "text/x-python",
      "name": "python",
      "nbconvert_exporter": "python",
      "pygments_lexer": "ipython3",
      "version": "3.9.16"
    }
  },
  "nbformat": 4,
  "nbformat_minor": 5
}
