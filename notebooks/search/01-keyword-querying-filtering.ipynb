{
 "cells": [
  {
   "cell_type": "markdown",
   "metadata": {
    "id": "83LdOUCwwHzs"
   },
   "source": [
    "# Keyword querying and filtering\n",
    "\n",
    "<a target=\"_blank\" href=\"https://colab.research.google.com/github/elasticsearch-labs/blob/main/search/01-keyword-querying-filtering.ipynb\"><img src=\"https://colab.research.google.com/assets/colab-badge.svg\" alt=\"Open In Colab\"/></a>\n",
    "\n",
    "This interactive notebook will introduce you to the basic Elasticsearch queries, using the official Elasticsearch Python client. Before getting started on this section you should work through our [quick start](https://github.com/elastic/elasticsearch-labs/blob/main/notebooks/search/00-quick-start.ipynb), as you will be using the same dataset."
   ]
  },
  {
   "cell_type": "markdown",
   "metadata": {},
   "source": [
    "# Install and import libraries"
   ]
  },
  {
   "cell_type": "code",
   "execution_count": 1,
   "metadata": {},
   "outputs": [],
   "source": [
    "!pip install -qU elasticsearch pandas"
   ]
  },
  {
   "cell_type": "code",
   "execution_count": 2,
   "metadata": {},
   "outputs": [],
   "source": [
    "from elasticsearch import Elasticsearch\n",
    "import pandas as pd\n",
    "import getpass"
   ]
  },
  {
   "cell_type": "markdown",
   "metadata": {},
   "source": [
    "# Create the client instance\n"
   ]
  },
  {
   "cell_type": "code",
   "execution_count": 3,
   "metadata": {},
   "outputs": [
    {
     "name": "stdin",
     "output_type": "stream",
     "text": [
      "Cloud ID:  ········\n",
      "Password:  ········\n"
     ]
    }
   ],
   "source": [
    "cloud_id = getpass.getpass('Cloud ID: ')\n",
    "elastic_username = 'elastic'\n",
    "elastic_password = getpass.getpass('Password: ') \n",
    "client = Elasticsearch(\n",
    "    cloud_id=cloud_id,\n",
    "    basic_auth=(elastic_username, elastic_password)\n",
    ")\n",
    "\n",
    "# pretty print the response\n",
    "def pretty_response_transform(response):\n",
    "    result = []\n",
    "    for hit in response['hits']['hits']:\n",
    "        result.append({\n",
    "            'id' : hit['_id'],\n",
    "            'publication_date' : hit['_source']['publish_date'],\n",
    "            'score' : hit['_score'],\n",
    "            'title' : hit['_source']['title'],\n",
    "            'summary' : hit['_source']['summary']\n",
    "        })\n",
    "    return result"
   ]
  },
  {
   "cell_type": "markdown",
   "metadata": {
    "id": "22onltbgxxGm"
   },
   "source": [
    "## Querying\n",
    "In the query context, a query clause answers the question _“How well does this document match this query clause?”_. In addition to deciding whether or not the document matches, the query clause also calculates a relevance score in the `_score `metadata field.\n",
    "\n",
    "### Full text queries\n",
    "\n",
    "Full text queries enable you to search analyzed text fields such as the body of an email. The query string is processed using the same analyzer that was applied to the field during indexing.\n",
    "\n",
    "* **match**.\n",
    "    The standard query for performing full text queries, including fuzzy matching and phrase or proximity queries.\n",
    "* **multi-match**.\n",
    "    The multi-field version of the match query."
   ]
  },
  {
   "cell_type": "markdown",
   "metadata": {
    "id": "clXQwoFQ6x61"
   },
   "source": [
    "### Match query\n",
    "Returns documents that `match` a provided text, number, date or boolean value. The provided text is analyzed before matching.\n",
    "\n",
    "The `match` query is the standard query for performing a full-text search, including options for fuzzy matching.\n",
    "\n",
    "[Read more](https://www.elastic.co/guide/en/elasticsearch/reference/current/query-dsl-match-query.html#match-query-ex-request).\n",
    "\n"
   ]
  },
  {
   "cell_type": "code",
   "execution_count": 4,
   "metadata": {
    "colab": {
     "base_uri": "https://localhost:8080/",
     "height": 197
    },
    "id": "q_OE0XVx6_qX",
    "outputId": "6a1d7760-5fb9-4809-e060-e35a398ed3c4"
   },
   "outputs": [
    {
     "data": {
      "text/html": [
       "<div>\n",
       "<style scoped>\n",
       "    .dataframe tbody tr th:only-of-type {\n",
       "        vertical-align: middle;\n",
       "    }\n",
       "\n",
       "    .dataframe tbody tr th {\n",
       "        vertical-align: top;\n",
       "    }\n",
       "\n",
       "    .dataframe thead th {\n",
       "        text-align: right;\n",
       "    }\n",
       "</style>\n",
       "<table border=\"1\" class=\"dataframe\">\n",
       "  <thead>\n",
       "    <tr style=\"text-align: right;\">\n",
       "      <th></th>\n",
       "      <th>id</th>\n",
       "      <th>publication_date</th>\n",
       "      <th>score</th>\n",
       "      <th>title</th>\n",
       "      <th>summary</th>\n",
       "    </tr>\n",
       "  </thead>\n",
       "  <tbody>\n",
       "    <tr>\n",
       "      <th>0</th>\n",
       "      <td>FnqHI4sB941uqz8zfa_0</td>\n",
       "      <td>2019-10-29</td>\n",
       "      <td>0.704228</td>\n",
       "      <td>The Pragmatic Programmer: Your Journey to Mastery</td>\n",
       "      <td>A guide to pragmatic programming for software ...</td>\n",
       "    </tr>\n",
       "    <tr>\n",
       "      <th>1</th>\n",
       "      <td>F3qHI4sB941uqz8zfa_0</td>\n",
       "      <td>2019-05-03</td>\n",
       "      <td>0.704228</td>\n",
       "      <td>Python Crash Course</td>\n",
       "      <td>A fast-paced, no-nonsense guide to programming...</td>\n",
       "    </tr>\n",
       "    <tr>\n",
       "      <th>2</th>\n",
       "      <td>HXqHI4sB941uqz8zfa_0</td>\n",
       "      <td>2011-05-13</td>\n",
       "      <td>0.677165</td>\n",
       "      <td>The Clean Coder: A Code of Conduct for Profess...</td>\n",
       "      <td>A guide to professional conduct in the field o...</td>\n",
       "    </tr>\n",
       "    <tr>\n",
       "      <th>3</th>\n",
       "      <td>GXqHI4sB941uqz8zfa_0</td>\n",
       "      <td>2008-08-11</td>\n",
       "      <td>0.628835</td>\n",
       "      <td>Clean Code: A Handbook of Agile Software Craft...</td>\n",
       "      <td>A guide to writing code that is easy to read, ...</td>\n",
       "    </tr>\n",
       "    <tr>\n",
       "      <th>4</th>\n",
       "      <td>HHqHI4sB941uqz8zfa_0</td>\n",
       "      <td>1994-10-31</td>\n",
       "      <td>0.628835</td>\n",
       "      <td>Design Patterns: Elements of Reusable Object-O...</td>\n",
       "      <td>Guide to design patterns that can be used in a...</td>\n",
       "    </tr>\n",
       "  </tbody>\n",
       "</table>\n",
       "</div>"
      ],
      "text/plain": [
       "                     id publication_date     score  \\\n",
       "0  FnqHI4sB941uqz8zfa_0       2019-10-29  0.704228   \n",
       "1  F3qHI4sB941uqz8zfa_0       2019-05-03  0.704228   \n",
       "2  HXqHI4sB941uqz8zfa_0       2011-05-13  0.677165   \n",
       "3  GXqHI4sB941uqz8zfa_0       2008-08-11  0.628835   \n",
       "4  HHqHI4sB941uqz8zfa_0       1994-10-31  0.628835   \n",
       "\n",
       "                                               title  \\\n",
       "0  The Pragmatic Programmer: Your Journey to Mastery   \n",
       "1                                Python Crash Course   \n",
       "2  The Clean Coder: A Code of Conduct for Profess...   \n",
       "3  Clean Code: A Handbook of Agile Software Craft...   \n",
       "4  Design Patterns: Elements of Reusable Object-O...   \n",
       "\n",
       "                                             summary  \n",
       "0  A guide to pragmatic programming for software ...  \n",
       "1  A fast-paced, no-nonsense guide to programming...  \n",
       "2  A guide to professional conduct in the field o...  \n",
       "3  A guide to writing code that is easy to read, ...  \n",
       "4  Guide to design patterns that can be used in a...  "
      ]
     },
     "execution_count": 4,
     "metadata": {},
     "output_type": "execute_result"
    }
   ],
   "source": [
    "response = client.search(index=\"book_index\", query={\n",
    "    \"match\": {\n",
    "        \"summary\": {\n",
    "            \"query\": \"guide\"\n",
    "            }\n",
    "        }\n",
    "    })\n",
    "\n",
    "pd.DataFrame.from_records(pretty_response_transform(response))"
   ]
  },
  {
   "cell_type": "markdown",
   "metadata": {},
   "source": [
    "🔐 NOTE: this query is based on the `book_index` dataset from our [quick start](https://github.com/elastic/elasticsearch-labs/blob/main/notebooks/search/00-quick-start.ipynb). If you haven't worked through it, please follow the steps described there to create an Elasticsearch deployment with this dataset in it, and then come back to run the queries here."
   ]
  },
  {
   "cell_type": "markdown",
   "metadata": {
    "id": "H-n6hoVsfAqc",
    "jp-MarkdownHeadingCollapsed": true
   },
   "source": [
    "### Multi-match query\n",
    "\n",
    "The `multi_match` query builds on the match query to allow multi-field queries.\n",
    "\n",
    "[Read more](https://www.elastic.co/guide/en/elasticsearch/reference/current/query-dsl-multi-match-query.html)."
   ]
  },
  {
   "cell_type": "code",
   "execution_count": 5,
   "metadata": {
    "colab": {
     "base_uri": "https://localhost:8080/",
     "height": 154
    },
    "id": "TRmGYM94gCtb",
    "outputId": "dc58b19f-e585-4d0a-d065-ac3fc18ae123"
   },
   "outputs": [
    {
     "data": {
      "text/html": [
       "<div>\n",
       "<style scoped>\n",
       "    .dataframe tbody tr th:only-of-type {\n",
       "        vertical-align: middle;\n",
       "    }\n",
       "\n",
       "    .dataframe tbody tr th {\n",
       "        vertical-align: top;\n",
       "    }\n",
       "\n",
       "    .dataframe thead th {\n",
       "        text-align: right;\n",
       "    }\n",
       "</style>\n",
       "<table border=\"1\" class=\"dataframe\">\n",
       "  <thead>\n",
       "    <tr style=\"text-align: right;\">\n",
       "      <th></th>\n",
       "      <th>id</th>\n",
       "      <th>publication_date</th>\n",
       "      <th>score</th>\n",
       "      <th>title</th>\n",
       "      <th>summary</th>\n",
       "    </tr>\n",
       "  </thead>\n",
       "  <tbody>\n",
       "    <tr>\n",
       "      <th>0</th>\n",
       "      <td>G3qHI4sB941uqz8zfa_0</td>\n",
       "      <td>2018-12-04</td>\n",
       "      <td>2.030753</td>\n",
       "      <td>Eloquent JavaScript</td>\n",
       "      <td>A modern introduction to programming</td>\n",
       "    </tr>\n",
       "    <tr>\n",
       "      <th>1</th>\n",
       "      <td>HnqHI4sB941uqz8zfa_0</td>\n",
       "      <td>2008-05-15</td>\n",
       "      <td>1.706409</td>\n",
       "      <td>JavaScript: The Good Parts</td>\n",
       "      <td>A deep dive into the parts of JavaScript that ...</td>\n",
       "    </tr>\n",
       "    <tr>\n",
       "      <th>2</th>\n",
       "      <td>GnqHI4sB941uqz8zfa_0</td>\n",
       "      <td>2015-03-27</td>\n",
       "      <td>1.636058</td>\n",
       "      <td>You Don't Know JS: Up &amp; Going</td>\n",
       "      <td>Introduction to JavaScript and programming as ...</td>\n",
       "    </tr>\n",
       "  </tbody>\n",
       "</table>\n",
       "</div>"
      ],
      "text/plain": [
       "                     id publication_date     score  \\\n",
       "0  G3qHI4sB941uqz8zfa_0       2018-12-04  2.030753   \n",
       "1  HnqHI4sB941uqz8zfa_0       2008-05-15  1.706409   \n",
       "2  GnqHI4sB941uqz8zfa_0       2015-03-27  1.636058   \n",
       "\n",
       "                           title  \\\n",
       "0            Eloquent JavaScript   \n",
       "1     JavaScript: The Good Parts   \n",
       "2  You Don't Know JS: Up & Going   \n",
       "\n",
       "                                             summary  \n",
       "0               A modern introduction to programming  \n",
       "1  A deep dive into the parts of JavaScript that ...  \n",
       "2  Introduction to JavaScript and programming as ...  "
      ]
     },
     "execution_count": 5,
     "metadata": {},
     "output_type": "execute_result"
    }
   ],
   "source": [
    "response = client.search(index=\"book_index\", query={\n",
    "    \"multi_match\": {\n",
    "        \"query\": \"javascript\",\n",
    "        \"fields\": [\"summary\", \"title\"]\n",
    "        }\n",
    "    })\n",
    "\n",
    "pd.DataFrame.from_records(pretty_response_transform(response))"
   ]
  },
  {
   "cell_type": "markdown",
   "metadata": {
    "id": "FnBeBIVKiPnS"
   },
   "source": [
    "Individual fields can be boosted with the caret (^) notation."
   ]
  },
  {
   "cell_type": "code",
   "execution_count": 6,
   "metadata": {
    "colab": {
     "base_uri": "https://localhost:8080/",
     "height": 154
    },
    "id": "_aI7hnH0ixkG",
    "outputId": "2af27f3d-f9fd-4c7a-cab5-7cb06132582c"
   },
   "outputs": [
    {
     "data": {
      "text/html": [
       "<div>\n",
       "<style scoped>\n",
       "    .dataframe tbody tr th:only-of-type {\n",
       "        vertical-align: middle;\n",
       "    }\n",
       "\n",
       "    .dataframe tbody tr th {\n",
       "        vertical-align: top;\n",
       "    }\n",
       "\n",
       "    .dataframe thead th {\n",
       "        text-align: right;\n",
       "    }\n",
       "</style>\n",
       "<table border=\"1\" class=\"dataframe\">\n",
       "  <thead>\n",
       "    <tr style=\"text-align: right;\">\n",
       "      <th></th>\n",
       "      <th>id</th>\n",
       "      <th>publication_date</th>\n",
       "      <th>score</th>\n",
       "      <th>title</th>\n",
       "      <th>summary</th>\n",
       "    </tr>\n",
       "  </thead>\n",
       "  <tbody>\n",
       "    <tr>\n",
       "      <th>0</th>\n",
       "      <td>G3qHI4sB941uqz8zfa_0</td>\n",
       "      <td>2018-12-04</td>\n",
       "      <td>6.092258</td>\n",
       "      <td>Eloquent JavaScript</td>\n",
       "      <td>A modern introduction to programming</td>\n",
       "    </tr>\n",
       "    <tr>\n",
       "      <th>1</th>\n",
       "      <td>HnqHI4sB941uqz8zfa_0</td>\n",
       "      <td>2008-05-15</td>\n",
       "      <td>5.119226</td>\n",
       "      <td>JavaScript: The Good Parts</td>\n",
       "      <td>A deep dive into the parts of JavaScript that ...</td>\n",
       "    </tr>\n",
       "    <tr>\n",
       "      <th>2</th>\n",
       "      <td>GnqHI4sB941uqz8zfa_0</td>\n",
       "      <td>2015-03-27</td>\n",
       "      <td>1.636058</td>\n",
       "      <td>You Don't Know JS: Up &amp; Going</td>\n",
       "      <td>Introduction to JavaScript and programming as ...</td>\n",
       "    </tr>\n",
       "  </tbody>\n",
       "</table>\n",
       "</div>"
      ],
      "text/plain": [
       "                     id publication_date     score  \\\n",
       "0  G3qHI4sB941uqz8zfa_0       2018-12-04  6.092258   \n",
       "1  HnqHI4sB941uqz8zfa_0       2008-05-15  5.119226   \n",
       "2  GnqHI4sB941uqz8zfa_0       2015-03-27  1.636058   \n",
       "\n",
       "                           title  \\\n",
       "0            Eloquent JavaScript   \n",
       "1     JavaScript: The Good Parts   \n",
       "2  You Don't Know JS: Up & Going   \n",
       "\n",
       "                                             summary  \n",
       "0               A modern introduction to programming  \n",
       "1  A deep dive into the parts of JavaScript that ...  \n",
       "2  Introduction to JavaScript and programming as ...  "
      ]
     },
     "execution_count": 6,
     "metadata": {},
     "output_type": "execute_result"
    }
   ],
   "source": [
    "response = client.search(index=\"book_index\", query={\n",
    "    \"multi_match\": {\n",
    "        \"query\": \"javascript\",\n",
    "        \"fields\": [\"summary\", \"title^3\"]\n",
    "        }\n",
    "    })\n",
    "\n",
    "pd.DataFrame.from_records(pretty_response_transform(response))"
   ]
  },
  {
   "cell_type": "markdown",
   "metadata": {
    "id": "yXipv0xSk-nK"
   },
   "source": [
    "### Prefix search\n",
    "\n",
    "Returns documents that contain a specific prefix in a provided field.\n",
    "\n",
    "[Read more](https://www.elastic.co/guide/en/elasticsearch/reference/current/query-dsl-prefix-query.html)"
   ]
  },
  {
   "cell_type": "code",
   "execution_count": 7,
   "metadata": {
    "colab": {
     "base_uri": "https://localhost:8080/",
     "height": 133
    },
    "id": "dCr1pwlqlOE7",
    "outputId": "ae55cd66-0ded-4868-dac5-5815ea317c44"
   },
   "outputs": [
    {
     "data": {
      "text/html": [
       "<div>\n",
       "<style scoped>\n",
       "    .dataframe tbody tr th:only-of-type {\n",
       "        vertical-align: middle;\n",
       "    }\n",
       "\n",
       "    .dataframe tbody tr th {\n",
       "        vertical-align: top;\n",
       "    }\n",
       "\n",
       "    .dataframe thead th {\n",
       "        text-align: right;\n",
       "    }\n",
       "</style>\n",
       "<table border=\"1\" class=\"dataframe\">\n",
       "  <thead>\n",
       "    <tr style=\"text-align: right;\">\n",
       "      <th></th>\n",
       "      <th>id</th>\n",
       "      <th>publication_date</th>\n",
       "      <th>score</th>\n",
       "      <th>title</th>\n",
       "      <th>summary</th>\n",
       "    </tr>\n",
       "  </thead>\n",
       "  <tbody>\n",
       "    <tr>\n",
       "      <th>0</th>\n",
       "      <td>G3qHI4sB941uqz8zfa_0</td>\n",
       "      <td>2018-12-04</td>\n",
       "      <td>1.0</td>\n",
       "      <td>Eloquent JavaScript</td>\n",
       "      <td>A modern introduction to programming</td>\n",
       "    </tr>\n",
       "    <tr>\n",
       "      <th>1</th>\n",
       "      <td>HnqHI4sB941uqz8zfa_0</td>\n",
       "      <td>2008-05-15</td>\n",
       "      <td>1.0</td>\n",
       "      <td>JavaScript: The Good Parts</td>\n",
       "      <td>A deep dive into the parts of JavaScript that ...</td>\n",
       "    </tr>\n",
       "  </tbody>\n",
       "</table>\n",
       "</div>"
      ],
      "text/plain": [
       "                     id publication_date  score                       title  \\\n",
       "0  G3qHI4sB941uqz8zfa_0       2018-12-04    1.0         Eloquent JavaScript   \n",
       "1  HnqHI4sB941uqz8zfa_0       2008-05-15    1.0  JavaScript: The Good Parts   \n",
       "\n",
       "                                             summary  \n",
       "0               A modern introduction to programming  \n",
       "1  A deep dive into the parts of JavaScript that ...  "
      ]
     },
     "execution_count": 7,
     "metadata": {},
     "output_type": "execute_result"
    }
   ],
   "source": [
    "response = client.search(index=\"book_index\", query={\n",
    "    \"prefix\": {\n",
    "        \"title\": {\n",
    "            \"value\": 'java'\n",
    "            }\n",
    "        }\n",
    "    })\n",
    "\n",
    "pd.DataFrame.from_records(pretty_response_transform(response))"
   ]
  },
  {
   "cell_type": "markdown",
   "metadata": {
    "id": "a606YcCmmLHW"
   },
   "source": [
    "### Fuzzy search\n",
    "\n",
    "Returns documents that contain terms similar to the search term, as measured by a Levenshtein edit distance.\n",
    "\n",
    "An edit distance is the number of one-character changes needed to turn one term into another. These changes can include:\n",
    "\n",
    "* Changing a character (box → fox)\n",
    "* Removing a character (black → lack)\n",
    "* Inserting a character (sic → sick)\n",
    "* Transposing two adjacent characters (act → cat)\n",
    "\n",
    "[Read more](https://www.elastic.co/guide/en/elasticsearch/reference/current/query-dsl-fuzzy-query.html)\n",
    "\n"
   ]
  },
  {
   "cell_type": "code",
   "execution_count": 8,
   "metadata": {
    "colab": {
     "base_uri": "https://localhost:8080/",
     "height": 133
    },
    "id": "dTMc-IxPmbtC",
    "outputId": "9acf74fd-bc16-45df-80f3-49504860b10a"
   },
   "outputs": [
    {
     "data": {
      "text/html": [
       "<div>\n",
       "<style scoped>\n",
       "    .dataframe tbody tr th:only-of-type {\n",
       "        vertical-align: middle;\n",
       "    }\n",
       "\n",
       "    .dataframe tbody tr th {\n",
       "        vertical-align: top;\n",
       "    }\n",
       "\n",
       "    .dataframe thead th {\n",
       "        text-align: right;\n",
       "    }\n",
       "</style>\n",
       "<table border=\"1\" class=\"dataframe\">\n",
       "  <thead>\n",
       "    <tr style=\"text-align: right;\">\n",
       "      <th></th>\n",
       "      <th>id</th>\n",
       "      <th>publication_date</th>\n",
       "      <th>score</th>\n",
       "      <th>title</th>\n",
       "      <th>summary</th>\n",
       "    </tr>\n",
       "  </thead>\n",
       "  <tbody>\n",
       "    <tr>\n",
       "      <th>0</th>\n",
       "      <td>G3qHI4sB941uqz8zfa_0</td>\n",
       "      <td>2018-12-04</td>\n",
       "      <td>1.624602</td>\n",
       "      <td>Eloquent JavaScript</td>\n",
       "      <td>A modern introduction to programming</td>\n",
       "    </tr>\n",
       "    <tr>\n",
       "      <th>1</th>\n",
       "      <td>HnqHI4sB941uqz8zfa_0</td>\n",
       "      <td>2008-05-15</td>\n",
       "      <td>1.365127</td>\n",
       "      <td>JavaScript: The Good Parts</td>\n",
       "      <td>A deep dive into the parts of JavaScript that ...</td>\n",
       "    </tr>\n",
       "  </tbody>\n",
       "</table>\n",
       "</div>"
      ],
      "text/plain": [
       "                     id publication_date     score  \\\n",
       "0  G3qHI4sB941uqz8zfa_0       2018-12-04  1.624602   \n",
       "1  HnqHI4sB941uqz8zfa_0       2008-05-15  1.365127   \n",
       "\n",
       "                        title  \\\n",
       "0         Eloquent JavaScript   \n",
       "1  JavaScript: The Good Parts   \n",
       "\n",
       "                                             summary  \n",
       "0               A modern introduction to programming  \n",
       "1  A deep dive into the parts of JavaScript that ...  "
      ]
     },
     "execution_count": 8,
     "metadata": {},
     "output_type": "execute_result"
    }
   ],
   "source": [
    "response = client.search(index=\"book_index\", query={\n",
    "    \"fuzzy\": {\n",
    "        \"title\": {\n",
    "            \"value\": 'pyvascript'\n",
    "            }\n",
    "        }\n",
    "    })\n",
    "\n",
    "pd.DataFrame.from_records(pretty_response_transform(response))"
   ]
  },
  {
   "cell_type": "markdown",
   "metadata": {
    "id": "PG9TYqL-8H29"
   },
   "source": [
    "## Filtering\n",
    "\n",
    "In a filter context, a query clause answers the question *“Does this document match this query clause?”* The answer is a simple Yes or No — no scores are calculated. Filter context is mostly used for filtering structured data, for example:\n",
    "* Does this `timestamp` fall into the range 2015 to 2016?\n",
    "* Is the `status` field set to `\"published\"`?\n",
    "\n",
    "Filter context is in effect whenever a query clause is passed to a `filter` parameter, such as the `filter` or `must_not` parameters in the `bool` query.\n",
    "\n",
    "[Read more](https://www.elastic.co/guide/en/elasticsearch/reference/current/query-dsl-bool-query.html)"
   ]
  },
  {
   "cell_type": "markdown",
   "metadata": {
    "id": "7do0lmxA_v25"
   },
   "source": [
    "### **bool.must**\n",
    "The clause (query) must appear in matching documents and will contribute to the score."
   ]
  },
  {
   "cell_type": "code",
   "execution_count": 9,
   "metadata": {
    "colab": {
     "base_uri": "https://localhost:8080/",
     "height": 111
    },
    "id": "8_C-JHRQFDl7",
    "outputId": "be59d18b-5e20-4db0-8697-2e7746251742"
   },
   "outputs": [
    {
     "data": {
      "text/html": [
       "<div>\n",
       "<style scoped>\n",
       "    .dataframe tbody tr th:only-of-type {\n",
       "        vertical-align: middle;\n",
       "    }\n",
       "\n",
       "    .dataframe tbody tr th {\n",
       "        vertical-align: top;\n",
       "    }\n",
       "\n",
       "    .dataframe thead th {\n",
       "        text-align: right;\n",
       "    }\n",
       "</style>\n",
       "<table border=\"1\" class=\"dataframe\">\n",
       "  <thead>\n",
       "    <tr style=\"text-align: right;\">\n",
       "      <th></th>\n",
       "      <th>id</th>\n",
       "      <th>publication_date</th>\n",
       "      <th>score</th>\n",
       "      <th>title</th>\n",
       "      <th>summary</th>\n",
       "    </tr>\n",
       "  </thead>\n",
       "  <tbody>\n",
       "    <tr>\n",
       "      <th>0</th>\n",
       "      <td>GXqHI4sB941uqz8zfa_0</td>\n",
       "      <td>2008-08-11</td>\n",
       "      <td>1.97297</td>\n",
       "      <td>Clean Code: A Handbook of Agile Software Craft...</td>\n",
       "      <td>A guide to writing code that is easy to read, ...</td>\n",
       "    </tr>\n",
       "  </tbody>\n",
       "</table>\n",
       "</div>"
      ],
      "text/plain": [
       "                     id publication_date    score  \\\n",
       "0  GXqHI4sB941uqz8zfa_0       2008-08-11  1.97297   \n",
       "\n",
       "                                               title  \\\n",
       "0  Clean Code: A Handbook of Agile Software Craft...   \n",
       "\n",
       "                                             summary  \n",
       "0  A guide to writing code that is easy to read, ...  "
      ]
     },
     "execution_count": 9,
     "metadata": {},
     "output_type": "execute_result"
    }
   ],
   "source": [
    "response = client.search(index=\"book_index\", query={\n",
    "    \"bool\": {\n",
    "        \"must\": [{\n",
    "            \"term\": {\n",
    "                \"summary\": \"guide\"\n",
    "                }\n",
    "            }, {\n",
    "            \"term\": {\n",
    "                \"summary\": \"code\"\n",
    "                }\n",
    "            }]\n",
    "        }\n",
    "    })\n",
    "\n",
    "pd.DataFrame.from_records(pretty_response_transform(response))"
   ]
  },
  {
   "cell_type": "markdown",
   "metadata": {
    "id": "eNlncytRIl9h"
   },
   "source": [
    "### **bool.should**\n",
    "\n",
    "The clause (query) should appear in the matching document."
   ]
  },
  {
   "cell_type": "code",
   "execution_count": 10,
   "metadata": {
    "colab": {
     "base_uri": "https://localhost:8080/",
     "height": 219
    },
    "id": "GRm9T1vfIsmF",
    "outputId": "d9fb6936-3ffb-4fff-9467-1f7ac7b41490"
   },
   "outputs": [
    {
     "data": {
      "text/html": [
       "<div>\n",
       "<style scoped>\n",
       "    .dataframe tbody tr th:only-of-type {\n",
       "        vertical-align: middle;\n",
       "    }\n",
       "\n",
       "    .dataframe tbody tr th {\n",
       "        vertical-align: top;\n",
       "    }\n",
       "\n",
       "    .dataframe thead th {\n",
       "        text-align: right;\n",
       "    }\n",
       "</style>\n",
       "<table border=\"1\" class=\"dataframe\">\n",
       "  <thead>\n",
       "    <tr style=\"text-align: right;\">\n",
       "      <th></th>\n",
       "      <th>id</th>\n",
       "      <th>publication_date</th>\n",
       "      <th>score</th>\n",
       "      <th>title</th>\n",
       "      <th>summary</th>\n",
       "    </tr>\n",
       "  </thead>\n",
       "  <tbody>\n",
       "    <tr>\n",
       "      <th>0</th>\n",
       "      <td>GXqHI4sB941uqz8zfa_0</td>\n",
       "      <td>2008-08-11</td>\n",
       "      <td>1.972970</td>\n",
       "      <td>Clean Code: A Handbook of Agile Software Craft...</td>\n",
       "      <td>A guide to writing code that is easy to read, ...</td>\n",
       "    </tr>\n",
       "    <tr>\n",
       "      <th>1</th>\n",
       "      <td>HnqHI4sB941uqz8zfa_0</td>\n",
       "      <td>2008-05-15</td>\n",
       "      <td>1.254593</td>\n",
       "      <td>JavaScript: The Good Parts</td>\n",
       "      <td>A deep dive into the parts of JavaScript that ...</td>\n",
       "    </tr>\n",
       "    <tr>\n",
       "      <th>2</th>\n",
       "      <td>FnqHI4sB941uqz8zfa_0</td>\n",
       "      <td>2019-10-29</td>\n",
       "      <td>0.704228</td>\n",
       "      <td>The Pragmatic Programmer: Your Journey to Mastery</td>\n",
       "      <td>A guide to pragmatic programming for software ...</td>\n",
       "    </tr>\n",
       "    <tr>\n",
       "      <th>3</th>\n",
       "      <td>F3qHI4sB941uqz8zfa_0</td>\n",
       "      <td>2019-05-03</td>\n",
       "      <td>0.704228</td>\n",
       "      <td>Python Crash Course</td>\n",
       "      <td>A fast-paced, no-nonsense guide to programming...</td>\n",
       "    </tr>\n",
       "    <tr>\n",
       "      <th>4</th>\n",
       "      <td>HXqHI4sB941uqz8zfa_0</td>\n",
       "      <td>2011-05-13</td>\n",
       "      <td>0.677165</td>\n",
       "      <td>The Clean Coder: A Code of Conduct for Profess...</td>\n",
       "      <td>A guide to professional conduct in the field o...</td>\n",
       "    </tr>\n",
       "    <tr>\n",
       "      <th>5</th>\n",
       "      <td>HHqHI4sB941uqz8zfa_0</td>\n",
       "      <td>1994-10-31</td>\n",
       "      <td>0.628835</td>\n",
       "      <td>Design Patterns: Elements of Reusable Object-O...</td>\n",
       "      <td>Guide to design patterns that can be used in a...</td>\n",
       "    </tr>\n",
       "  </tbody>\n",
       "</table>\n",
       "</div>"
      ],
      "text/plain": [
       "                     id publication_date     score  \\\n",
       "0  GXqHI4sB941uqz8zfa_0       2008-08-11  1.972970   \n",
       "1  HnqHI4sB941uqz8zfa_0       2008-05-15  1.254593   \n",
       "2  FnqHI4sB941uqz8zfa_0       2019-10-29  0.704228   \n",
       "3  F3qHI4sB941uqz8zfa_0       2019-05-03  0.704228   \n",
       "4  HXqHI4sB941uqz8zfa_0       2011-05-13  0.677165   \n",
       "5  HHqHI4sB941uqz8zfa_0       1994-10-31  0.628835   \n",
       "\n",
       "                                               title  \\\n",
       "0  Clean Code: A Handbook of Agile Software Craft...   \n",
       "1                         JavaScript: The Good Parts   \n",
       "2  The Pragmatic Programmer: Your Journey to Mastery   \n",
       "3                                Python Crash Course   \n",
       "4  The Clean Coder: A Code of Conduct for Profess...   \n",
       "5  Design Patterns: Elements of Reusable Object-O...   \n",
       "\n",
       "                                             summary  \n",
       "0  A guide to writing code that is easy to read, ...  \n",
       "1  A deep dive into the parts of JavaScript that ...  \n",
       "2  A guide to pragmatic programming for software ...  \n",
       "3  A fast-paced, no-nonsense guide to programming...  \n",
       "4  A guide to professional conduct in the field o...  \n",
       "5  Guide to design patterns that can be used in a...  "
      ]
     },
     "execution_count": 10,
     "metadata": {},
     "output_type": "execute_result"
    }
   ],
   "source": [
    "response = client.search(index=\"book_index\", query={\n",
    "    \"bool\": {\n",
    "        \"should\": [{\n",
    "            \"term\": {\n",
    "                \"summary\": \"guide\"\n",
    "                }\n",
    "            }, {\n",
    "              \"term\": {\n",
    "                  \"summary\": \"code\"\n",
    "                  }\n",
    "            }]\n",
    "        }\n",
    "    })\n",
    "\n",
    "pd.DataFrame.from_records(pretty_response_transform(response))"
   ]
  },
  {
   "cell_type": "markdown",
   "metadata": {
    "id": "PGTFXUIkJG4t"
   },
   "source": [
    "### **bool.filter**\n",
    "\n",
    "The clause (query) must appear in matching documents. **However unlike `must` the `score` of the query will be ignored.** Filter clauses are executed in filter context, meaning that scoring is ignored and clauses are considered for caching."
   ]
  },
  {
   "cell_type": "code",
   "execution_count": 11,
   "metadata": {
    "colab": {
     "base_uri": "https://localhost:8080/",
     "height": 197
    },
    "id": "6RH0OALLJPHv",
    "outputId": "338419b0-3e60-4ac9-ddeb-67cac6202ca2"
   },
   "outputs": [
    {
     "data": {
      "text/html": [
       "<div>\n",
       "<style scoped>\n",
       "    .dataframe tbody tr th:only-of-type {\n",
       "        vertical-align: middle;\n",
       "    }\n",
       "\n",
       "    .dataframe tbody tr th {\n",
       "        vertical-align: top;\n",
       "    }\n",
       "\n",
       "    .dataframe thead th {\n",
       "        text-align: right;\n",
       "    }\n",
       "</style>\n",
       "<table border=\"1\" class=\"dataframe\">\n",
       "  <thead>\n",
       "    <tr style=\"text-align: right;\">\n",
       "      <th></th>\n",
       "      <th>id</th>\n",
       "      <th>publication_date</th>\n",
       "      <th>score</th>\n",
       "      <th>title</th>\n",
       "      <th>summary</th>\n",
       "    </tr>\n",
       "  </thead>\n",
       "  <tbody>\n",
       "    <tr>\n",
       "      <th>0</th>\n",
       "      <td>FnqHI4sB941uqz8zfa_0</td>\n",
       "      <td>2019-10-29</td>\n",
       "      <td>0.0</td>\n",
       "      <td>The Pragmatic Programmer: Your Journey to Mastery</td>\n",
       "      <td>A guide to pragmatic programming for software ...</td>\n",
       "    </tr>\n",
       "    <tr>\n",
       "      <th>1</th>\n",
       "      <td>F3qHI4sB941uqz8zfa_0</td>\n",
       "      <td>2019-05-03</td>\n",
       "      <td>0.0</td>\n",
       "      <td>Python Crash Course</td>\n",
       "      <td>A fast-paced, no-nonsense guide to programming...</td>\n",
       "    </tr>\n",
       "    <tr>\n",
       "      <th>2</th>\n",
       "      <td>GXqHI4sB941uqz8zfa_0</td>\n",
       "      <td>2008-08-11</td>\n",
       "      <td>0.0</td>\n",
       "      <td>Clean Code: A Handbook of Agile Software Craft...</td>\n",
       "      <td>A guide to writing code that is easy to read, ...</td>\n",
       "    </tr>\n",
       "    <tr>\n",
       "      <th>3</th>\n",
       "      <td>HHqHI4sB941uqz8zfa_0</td>\n",
       "      <td>1994-10-31</td>\n",
       "      <td>0.0</td>\n",
       "      <td>Design Patterns: Elements of Reusable Object-O...</td>\n",
       "      <td>Guide to design patterns that can be used in a...</td>\n",
       "    </tr>\n",
       "    <tr>\n",
       "      <th>4</th>\n",
       "      <td>HXqHI4sB941uqz8zfa_0</td>\n",
       "      <td>2011-05-13</td>\n",
       "      <td>0.0</td>\n",
       "      <td>The Clean Coder: A Code of Conduct for Profess...</td>\n",
       "      <td>A guide to professional conduct in the field o...</td>\n",
       "    </tr>\n",
       "  </tbody>\n",
       "</table>\n",
       "</div>"
      ],
      "text/plain": [
       "                     id publication_date  score  \\\n",
       "0  FnqHI4sB941uqz8zfa_0       2019-10-29    0.0   \n",
       "1  F3qHI4sB941uqz8zfa_0       2019-05-03    0.0   \n",
       "2  GXqHI4sB941uqz8zfa_0       2008-08-11    0.0   \n",
       "3  HHqHI4sB941uqz8zfa_0       1994-10-31    0.0   \n",
       "4  HXqHI4sB941uqz8zfa_0       2011-05-13    0.0   \n",
       "\n",
       "                                               title  \\\n",
       "0  The Pragmatic Programmer: Your Journey to Mastery   \n",
       "1                                Python Crash Course   \n",
       "2  Clean Code: A Handbook of Agile Software Craft...   \n",
       "3  Design Patterns: Elements of Reusable Object-O...   \n",
       "4  The Clean Coder: A Code of Conduct for Profess...   \n",
       "\n",
       "                                             summary  \n",
       "0  A guide to pragmatic programming for software ...  \n",
       "1  A fast-paced, no-nonsense guide to programming...  \n",
       "2  A guide to writing code that is easy to read, ...  \n",
       "3  Guide to design patterns that can be used in a...  \n",
       "4  A guide to professional conduct in the field o...  "
      ]
     },
     "execution_count": 11,
     "metadata": {},
     "output_type": "execute_result"
    }
   ],
   "source": [
    "response = client.search(index=\"book_index\", query={\n",
    "    \"bool\": {\n",
    "        \"filter\": [{\n",
    "            \"term\": {\n",
    "                \"summary\": \"guide\"\n",
    "                }\n",
    "            }]\n",
    "        }\n",
    "    })\n",
    "\n",
    "pd.DataFrame.from_records(pretty_response_transform(response))"
   ]
  }
 ],
 "metadata": {
  "colab": {
   "provenance": []
  },
  "kernelspec": {
   "display_name": "Python 3 (ipykernel)",
   "language": "python",
   "name": "python3"
  },
  "language_info": {
   "codemirror_mode": {
    "name": "ipython",
    "version": 3
   },
   "file_extension": ".py",
   "mimetype": "text/x-python",
   "name": "python",
   "nbconvert_exporter": "python",
   "pygments_lexer": "ipython3",
   "version": "3.11.6"
  },
  "vscode": {
   "interpreter": {
    "hash": "b0fa6594d8f4cbf19f97940f81e996739fb7646882a419484c72d19e05852a7e"
   }
  }
 },
 "nbformat": 4,
 "nbformat_minor": 4
}
