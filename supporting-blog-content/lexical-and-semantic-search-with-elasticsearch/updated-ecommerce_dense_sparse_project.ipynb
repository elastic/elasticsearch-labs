{
 "cells": [
  {
   "cell_type": "markdown",
   "id": "r8OKk3QOGBXl",
   "metadata": {
    "id": "r8OKk3QOGBXl"
   },
   "source": [
    "# **Lexical and Semantic Search with Elasticsearch**\n",
    "\n",
    "In this example, you will explore various approaches to retrieving information using Elasticsearch, focusing specifically on text, lexical and semantic search.\n",
    "\n",
    "To accomplish this, this example demonstrates various search scenarios on a dataset generated to simulate e-commerce product information.\n",
    "\n",
    "This dataset contains over 2,500 products, each with a description. These products are categorized into 76 distinct product categories, with each category containing a varying number of products.\n",
    "\n",
    "## **🧰 Requirements**\n",
    "\n",
    "For this example, you will need:\n",
    "\n",
    "- Python 3.11 or later\n",
    "- The Elastic Python client\n",
    "- Elastic 9.0 deployment or later, with 8GB memory machine learning node\n",
    "\n",
    "\n",
    "We'll be using [Elastic Cloud](https://www.elastic.co/guide/en/cloud/current/ec-getting-started.html), a [free trial](https://cloud.elastic.co/registration?onboarding_token=vectorsearch&utm_source=github&utm_content=elasticsearch-labs-notebook) is available."
   ]
  },
  {
   "cell_type": "markdown",
   "id": "hmMWo2e-IkTB",
   "metadata": {
    "id": "hmMWo2e-IkTB"
   },
   "source": [
    "## Setup Elasticsearch environment:\n",
    "\n",
    "To get started, we'll need to connect to our Elastic deployment using the Python client.\n",
    "\n",
    "Because we're using an Elastic Cloud deployment, we'll use the **Cloud Endpoint** and **Cloud API Key** to identify our deployment.\n"
   ]
  },
  {
   "cell_type": "code",
   "execution_count": null,
   "id": "e8d24cd8-a437-4bd2-a1f0-93e535ccf8a9",
   "metadata": {
    "id": "e8d24cd8-a437-4bd2-a1f0-93e535ccf8a9"
   },
   "outputs": [],
   "source": [
    "!pip install elasticsearch"
   ]
  },
  {
   "cell_type": "code",
   "execution_count": null,
   "id": "eaf90bc8-647e-4ada-9aa9-5cb9e60762b7",
   "metadata": {
    "id": "eaf90bc8-647e-4ada-9aa9-5cb9e60762b7"
   },
   "outputs": [],
   "source": [
    "# import the Elasticsearch client and bulk function\n",
    "from elasticsearch import Elasticsearch\n",
    "from elasticsearch.helpers import bulk\n",
    "\n",
    "# import json module to read JSON file of products\n",
    "import json  # module for handling JSON data\n",
    "\n",
    "import getpass  # handling password input\n",
    "\n",
    "# display search results in a table\n",
    "import pandas as pd\n",
    "from IPython.display import display, Markdown"
   ]
  },
  {
   "cell_type": "markdown",
   "id": "ea1VkDBXJIQR",
   "metadata": {
    "id": "ea1VkDBXJIQR"
   },
   "source": [
    "Now we can instantiate the Python Elasticsearch client.\n",
    "\n",
    "First we prompt the user for their password and Cloud ID.\n",
    "\n",
    "🔐 NOTE: `getpass` enables us to securely prompt the user for credentials without echoing them to the terminal, or storing it in memory.\n",
    "\n",
    "Then we create a `client` object that instantiates an instance of the `Elasticsearch` class."
   ]
  },
  {
   "cell_type": "code",
   "execution_count": null,
   "id": "6907a2bf-4927-428e-9ca8-9df3dd35a2cc",
   "metadata": {
    "id": "6907a2bf-4927-428e-9ca8-9df3dd35a2cc"
   },
   "outputs": [],
   "source": [
    "# your endpoint for your Elasticsearch instance\n",
    "ELASTIC_ENDPOINT = getpass.getpass(\"Enter Elastic Endpoint:  \")\n",
    "\n",
    "# your Elastic API Key for Elasticsearch\n",
    "ELASTIC_API_KEY = getpass.getpass(\"Enter Elastic API Key:  \")\n",
    "\n",
    "# create the Elasticsearch client instance\n",
    "client = Elasticsearch(\n",
    "    hosts=[ELASTIC_ENDPOINT], api_key=ELASTIC_API_KEY, request_timeout=3600\n",
    ")"
   ]
  },
  {
   "cell_type": "markdown",
   "id": "9d05a473",
   "metadata": {},
   "source": [
    "Let's verify that our client is connected."
   ]
  },
  {
   "cell_type": "code",
   "execution_count": 183,
   "id": "8980e76b",
   "metadata": {},
   "outputs": [
    {
     "name": "stdout",
     "output_type": "stream",
     "text": [
      "Connected: True\n"
     ]
    }
   ],
   "source": [
    "resp = client.ping()\n",
    "print(f\"Connected: {resp}\")"
   ]
  },
  {
   "cell_type": "markdown",
   "id": "BH-N6epTJarM",
   "metadata": {
    "id": "BH-N6epTJarM"
   },
   "source": [
    "## Define our embedding model\n",
    "\n",
    "Next we upload the all-mpnet-base-v2 embedding model into Elasticsearch and create an ingest pipeline with inference processors for text embedding and text expansion, using the description field for both. This field contains the description of each product."
   ]
  },
  {
   "cell_type": "code",
   "execution_count": null,
   "id": "7f6f3f5a-2b93-4a0c-93c8-c887ca80f687",
   "metadata": {
    "id": "7f6f3f5a-2b93-4a0c-93c8-c887ca80f687"
   },
   "outputs": [
    {
     "name": "stdout",
     "output_type": "stream",
     "text": [
      "Model ID: .multilingual-e5-small\n",
      "Description: E5 small multilingual\n",
      "Version: 12.0.0\n",
      "------\n",
      "Inference Endpoint ID: .multilingual-e5-small-elasticsearch\n",
      "Model ID: .multilingual-e5-small_linux-x86_64\n",
      "Task Type: text_embedding\n"
     ]
    }
   ],
   "source": [
    "# set the model to .multilingual-e5-small-elasticsearch\n",
    "es_model_id = \".multilingual-e5-small\"\n",
    "es_model_endpoint = \".multilingual-e5-small-elasticsearch\"\n",
    "\n",
    "# verify the model is loaded, deployed, and ready to use\n",
    "models = client.ml.get_trained_models()\n",
    "for model in models[\"trained_model_configs\"]:\n",
    "    if model[\"model_id\"] == es_model_id:\n",
    "        print(f\"Model ID: {model['model_id']}\")\n",
    "        print(f\"Description: {model.get('description', 'No description')}\")\n",
    "        print(f\"Version: {model.get('version', 'N/A')}\")\n",
    "        break\n",
    "else:\n",
    "    print(f\"Model {es_model_id} not found.\")\n",
    "\n",
    "print(\"------\")\n",
    "\n",
    "# verify the inference endpoint is ready to use\n",
    "inference_endpoint = client.inference.get(inference_id=es_model_endpoint)\n",
    "inference_endpoint = inference_endpoint[\"endpoints\"][0]\n",
    "print(f\"Inference Endpoint ID: {es_model_endpoint}\")\n",
    "print(\n",
    "    f\"Model ID: {inference_endpoint.get('service_settings', {}).get('model_id', 'N/A')}\"\n",
    ")\n",
    "print(f\"Task Type: {inference_endpoint['task_type']}\")"
   ]
  },
  {
   "cell_type": "markdown",
   "id": "80506477",
   "metadata": {},
   "source": [
    "## Create an inference pipeline\n",
    "This function will create an ingest pipeline with inference processors to use `ELSER` (sparse_vector) and `e5_multilingual_small` (dense_vector) to infer against data that will be ingested in the pipeline."
   ]
  },
  {
   "cell_type": "code",
   "execution_count": 200,
   "id": "6739f55b-6983-4b48-9349-6e0111b313fe",
   "metadata": {
    "id": "6739f55b-6983-4b48-9349-6e0111b313fe"
   },
   "outputs": [
    {
     "data": {
      "text/plain": [
       "ObjectApiResponse({'acknowledged': True})"
      ]
     },
     "execution_count": 200,
     "metadata": {},
     "output_type": "execute_result"
    }
   ],
   "source": [
    "client.ingest.put_pipeline(\n",
    "    id=\"ecommerce-pipeline\",\n",
    "    processors=[\n",
    "        {\n",
    "            \"inference\": {\n",
    "                \"model_id\": \".elser-2-elasticsearch\",  # inference endpoint ID\n",
    "                \"input_output\": [\n",
    "                    {\n",
    "                        \"input_field\": \"description\",  # source field\n",
    "                        \"output_field\": \"elser_description_vector\",  # destination vector field\n",
    "                    }\n",
    "                ],\n",
    "            }\n",
    "        },\n",
    "        {\n",
    "            \"inference\": {\n",
    "                \"model_id\": \".multilingual-e5-small-elasticsearch\",  # inference endpoint ID\n",
    "                \"input_output\": [\n",
    "                    {\n",
    "                        \"input_field\": \"description\",  # source field\n",
    "                        \"output_field\": \"e5_description_vector\",  # destination vector field\n",
    "                    }\n",
    "                ],\n",
    "                \"inference_config\": {\"text_embedding\": {}},\n",
    "            }\n",
    "        },\n",
    "    ],\n",
    ")"
   ]
  },
  {
   "cell_type": "markdown",
   "id": "QUQ1nCaiKIQr",
   "metadata": {
    "id": "QUQ1nCaiKIQr"
   },
   "source": [
    "## Index documents\n",
    "The `ecommerce-search` index we are creating will include fields to support dense and sparse vector storage and search. \n",
    "\n",
    "We define the `e5_description_vector` and the `elser_description_vector` fields to store the inference pipeline results. The field type in `e5_description_vector` is a `dense_vector`. The `.e5_multilingual_small` model has embedding_size of 384, so the dimension of the fector (dims) is set to 384. \n",
    "\n",
    "We also add a `elser_description_vector` field type to support the `sparse_vector` output from our `.elser_model_2_linux-x86_64` model. No further configuration is needed for this field for our use case."
   ]
  },
  {
   "cell_type": "code",
   "execution_count": 221,
   "id": "9b53b39e-d74e-4fa8-a364-e2c3caf37418",
   "metadata": {
    "id": "9b53b39e-d74e-4fa8-a364-e2c3caf37418"
   },
   "outputs": [
    {
     "data": {
      "text/plain": [
       "ObjectApiResponse({'acknowledged': True})"
      ]
     },
     "execution_count": 221,
     "metadata": {},
     "output_type": "execute_result"
    }
   ],
   "source": [
    "# define the index name and mapping\n",
    "commerce_index = \"ecommerce-search\"\n",
    "mappings = {\n",
    "    \"properties\": {\n",
    "        \"product\": {\n",
    "            \"type\": \"text\",\n",
    "        },\n",
    "        \"description\": {\n",
    "            \"type\": \"text\",\n",
    "        },\n",
    "        \"category\": {\n",
    "            \"type\": \"text\",\n",
    "        },\n",
    "        \"elser_description_vector\": {\"type\": \"sparse_vector\"},\n",
    "        \"e5_description_vector\": {\n",
    "            \"type\": \"dense_vector\",\n",
    "            \"dims\": 384,\n",
    "            \"index\": \"true\",\n",
    "            \"similarity\": \"cosine\",\n",
    "        },\n",
    "    },\n",
    "}\n",
    "\n",
    "\n",
    "if client.indices.exists(index=commerce_index):\n",
    "    client.indices.delete(index=commerce_index)\n",
    "client.indices.create(\n",
    "    index=commerce_index,\n",
    "    mappings=mappings,\n",
    ")\n",
    "\n",
    "# set the ecommerce-pipeline as a the default pipeline for the ecommerce-search index\n",
    "client.indices.put_settings(\n",
    "    index=commerce_index,\n",
    "    body={\"default_pipeline\": \"ecommerce-pipeline\"},\n",
    ")"
   ]
  },
  {
   "cell_type": "markdown",
   "id": "Vo-LKu8TOT5j",
   "metadata": {
    "id": "Vo-LKu8TOT5j"
   },
   "source": [
    "## Load documents\n",
    "\n",
    "Then we load `products-ecommerce.json` into the `ecommerce-search` index. We will use the `bulk` helper function to index our documents en masse. "
   ]
  },
  {
   "cell_type": "code",
   "execution_count": 222,
   "id": "3cfdc3b7-7e4f-4111-997b-c333ac8938ba",
   "metadata": {
    "id": "3cfdc3b7-7e4f-4111-997b-c333ac8938ba"
   },
   "outputs": [
    {
     "name": "stdout",
     "output_type": "stream",
     "text": [
      "Indexing documents...\n",
      "Documents indexed successfully.\n"
     ]
    }
   ],
   "source": [
    "# Load the dataset\n",
    "with open(\"products-ecommerce.json\", \"r\") as f:\n",
    "    data_json = json.load(f)\n",
    "\n",
    "\n",
    "# helper function to create bulk indexing body\n",
    "def create_index_body(doc):\n",
    "    return {\n",
    "        \"_index\": \"ecommerce-search\",\n",
    "        \"_source\": doc,\n",
    "    }\n",
    "\n",
    "\n",
    "# prepare the documents to be indexed\n",
    "documents = [create_index_body(doc) for doc in data_json]\n",
    "\n",
    "# use bulk function to index\n",
    "try:\n",
    "    print(\"Indexing documents...\")\n",
    "    bulk(client, documents)\n",
    "    print(\"Documents indexed successfully.\")\n",
    "except Exception as e:\n",
    "    print(f\"Error indexing documents: {e}\")"
   ]
  },
  {
   "cell_type": "markdown",
   "id": "-qUXNuOvPDsI",
   "metadata": {
    "id": "-qUXNuOvPDsI"
   },
   "source": [
    "## Text Analysis with Standard Analyzer"
   ]
  },
  {
   "cell_type": "code",
   "execution_count": 169,
   "id": "829ae6e8-807d-4f0d-ada6-fee86748b91a",
   "metadata": {
    "id": "829ae6e8-807d-4f0d-ada6-fee86748b91a"
   },
   "outputs": [
    {
     "name": "stdout",
     "output_type": "stream",
     "text": [
      "Analyzed Tokens: ['comfortable', 'furniture', 'for', 'a', 'large', 'balcony']\n"
     ]
    }
   ],
   "source": [
    "# Performs text analysis on a string and returns the resulting tokens.\n",
    "\n",
    "# Define the text to be analyzed\n",
    "text = \"Comfortable furniture for a large balcony\"\n",
    "\n",
    "# Define the analyze request\n",
    "request_body = {\"analyzer\": \"standard\", \"text\": text}  # Standard Analyzer\n",
    "\n",
    "# Perform the analyze request\n",
    "response = client.indices.analyze(\n",
    "    analyzer=request_body[\"analyzer\"], text=request_body[\"text\"]\n",
    ")\n",
    "\n",
    "# Extract and display the analyzed tokens\n",
    "tokens = [token[\"token\"] for token in response[\"tokens\"]]\n",
    "print(\"Analyzed Tokens:\", tokens)"
   ]
  },
  {
   "cell_type": "markdown",
   "id": "12u70NLmPyNV",
   "metadata": {
    "id": "12u70NLmPyNV"
   },
   "source": [
    "## Text Analysis with Stop Analyzer"
   ]
  },
  {
   "cell_type": "code",
   "execution_count": null,
   "id": "55b602d1-f1e4-4b70-9273-5fc701ac9039",
   "metadata": {
    "id": "55b602d1-f1e4-4b70-9273-5fc701ac9039"
   },
   "outputs": [
    {
     "name": "stdout",
     "output_type": "stream",
     "text": [
      "Analyzed Tokens: ['comfortable', 'furniture', 'large', 'balcony']\n"
     ]
    }
   ],
   "source": [
    "# Performs text analysis on a string and returns the resulting tokens.\n",
    "# TODO: Partial Smoosh together\n",
    "# Define the text to be analyzed\n",
    "text = \"Comfortable furniture for a large balcony\"\n",
    "\n",
    "# Define the analyze request\n",
    "request_body = {\"analyzer\": \"stop\", \"text\": text}  # Stop Analyzer\n",
    "\n",
    "# Perform the analyze request\n",
    "response = client.indices.analyze(\n",
    "    analyzer=request_body[\"analyzer\"], text=request_body[\"text\"]\n",
    ")\n",
    "\n",
    "# Extract and display the analyzed tokens\n",
    "tokens = [token[\"token\"] for token in response[\"tokens\"]]\n",
    "print(\"Analyzed Tokens:\", tokens)"
   ]
  },
  {
   "cell_type": "markdown",
   "id": "8G8MKcUvP0zs",
   "metadata": {
    "id": "8G8MKcUvP0zs"
   },
   "source": [
    "## Lexical Search"
   ]
  },
  {
   "cell_type": "code",
   "execution_count": 225,
   "id": "f4984f6c-ceec-46a4-b64c-f749e6b1b04f",
   "metadata": {
    "id": "f4984f6c-ceec-46a4-b64c-f749e6b1b04f"
   },
   "outputs": [
    {
     "name": "stdout",
     "output_type": "stream",
     "text": [
      "\n",
      "Score: 13.408413\n",
      "Product: Barbie Dreamhouse\n",
      "Category: Toys\n",
      "Description: is a classic Barbie playset with multiple rooms, furniture, a large balcony, a pool, and accessories. It allows kids to create their dream Barbie world.\n",
      "\n",
      "\n",
      "Score: 7.5048585\n",
      "Product: Rattan Patio Conversation Set\n",
      "Category: Outdoor Furniture\n",
      "Description: is a stylish and comfortable outdoor furniture set, including a sofa, two chairs, and a coffee table, all made of durable rattan material.\n",
      "\n"
     ]
    }
   ],
   "source": [
    "results_list = []\n",
    "\n",
    "# Regular BM25 (Lexical) Search\n",
    "resp = client.search(\n",
    "    size=2,\n",
    "    index=\"ecommerce-search\",\n",
    "    query={\n",
    "        \"match\": {\n",
    "            \"description\": {\n",
    "                \"query\": \"Comfortable furniture for a large balcony\",\n",
    "                \"analyzer\": \"stop\",\n",
    "            }\n",
    "        }\n",
    "    },\n",
    "    source_excludes=[\"*_description_vector\"],  # Exclude vector fields from response\n",
    ")\n",
    "\n",
    "lexical_search_results = resp[\"hits\"][\"hits\"]\n",
    "results_list.append({\"lexical_search\": lexical_search_results})\n",
    "\n",
    "if not lexical_search_results:\n",
    "    print(\"No matches found\")\n",
    "else:\n",
    "    for hit in lexical_search_results:\n",
    "        score = hit[\"_score\"]\n",
    "        product = hit[\"_source\"][\"product\"]\n",
    "        category = hit[\"_source\"][\"category\"]\n",
    "        description = hit[\"_source\"][\"description\"]\n",
    "        print(\n",
    "            f\"\\nScore: {score}\\nProduct: {product}\\nCategory: {category}\\nDescription: {description}\\n\"\n",
    "        )"
   ]
  },
  {
   "cell_type": "markdown",
   "id": "xiywcf_-P39a",
   "metadata": {
    "id": "xiywcf_-P39a"
   },
   "source": [
    "## Semantic Search with Dense Vector"
   ]
  },
  {
   "cell_type": "code",
   "execution_count": 226,
   "id": "72187c9a-14c1-4084-a080-4e5c1e614f22",
   "metadata": {
    "id": "72187c9a-14c1-4084-a080-4e5c1e614f22"
   },
   "outputs": [
    {
     "name": "stdout",
     "output_type": "stream",
     "text": [
      "\n",
      "Score: 0.93147576\n",
      "Product: Metal Garden Bench with Cushion\n",
      "Category: Garden Furniture\n",
      "Description: is a stylish and comfortable metal garden bench, complete with a cushion for added support.\n",
      "\n",
      "\n",
      "Score: 0.9304026\n",
      "Product: Garden Dining Set with Swivel Chairs\n",
      "Category: Garden Furniture\n",
      "Description: is a functional and comfortable garden dining set, including a table and chairs with swivel seats for convenience.\n",
      "\n"
     ]
    }
   ],
   "source": [
    "# KNN\n",
    "# TODO: Add Semantic_Text type?\n",
    "response = client.search(\n",
    "    index=\"ecommerce-search\",\n",
    "    size=2,\n",
    "    knn={\n",
    "        \"field\": \"e5_description_vector\",\n",
    "        \"k\": 50,  # Number of nearest neighbors to return as top hits.\n",
    "        \"num_candidates\": 500,  # Number of nearest neighbor candidates to consider per shard. Increasing num_candidates tends to improve the accuracy of the final k results.\n",
    "        \"query_vector_builder\": {  # Object indicating how to build a query_vector. kNN search enables you to perform semantic search by using a previously deployed text embedding model.\n",
    "            \"text_embedding\": {\n",
    "                \"model_id\": \".multilingual-e5-small-elasticsearch\",  # Text embedding model id\n",
    "                \"model_text\": \"Comfortable furniture for a large balcony\",  # Query\n",
    "            }\n",
    "        },\n",
    "    },\n",
    "    source_excludes=[\"*_description_vector\"],  # Exclude vector fields from response\n",
    ")\n",
    "\n",
    "dense_semantic_search_results = response[\"hits\"][\"hits\"]\n",
    "results_list.append({\"dense_semantic_search\": dense_semantic_search_results})\n",
    "\n",
    "for hit in dense_semantic_search_results:\n",
    "\n",
    "    score = hit[\"_score\"]\n",
    "    product = hit[\"_source\"][\"product\"]\n",
    "    category = hit[\"_source\"][\"category\"]\n",
    "    description = hit[\"_source\"][\"description\"]\n",
    "    print(\n",
    "        f\"\\nScore: {score}\\nProduct: {product}\\nCategory: {category}\\nDescription: {description}\\n\"\n",
    "    )"
   ]
  },
  {
   "cell_type": "markdown",
   "id": "QlWFdngRQFbv",
   "metadata": {
    "id": "QlWFdngRQFbv"
   },
   "source": [
    "## Semantic Search with Sparse Vector"
   ]
  },
  {
   "cell_type": "code",
   "execution_count": 227,
   "id": "2c0bf5fc-ab32-4f33-8f26-904ff10635a5",
   "metadata": {
    "id": "2c0bf5fc-ab32-4f33-8f26-904ff10635a5"
   },
   "outputs": [
    {
     "name": "stdout",
     "output_type": "stream",
     "text": [
      "\n",
      "Score: 11.1893\n",
      "Product: Garden Lounge Chair with Sunshade\n",
      "Category: Garden Furniture\n",
      "Description: is a comfortable and versatile garden lounge chair with a built-in sunshade, perfect for hot sunny days.\n",
      "\n",
      "\n",
      "Score: 11.187605\n",
      "Product: Rattan Patio Conversation Set\n",
      "Category: Outdoor Furniture\n",
      "Description: is a stylish and comfortable outdoor furniture set, including a sofa, two chairs, and a coffee table, all made of durable rattan material.\n",
      "\n"
     ]
    }
   ],
   "source": [
    "# Elastic Learned Sparse Encoder - ELSER\n",
    "\n",
    "resp = client.search(\n",
    "    index=\"ecommerce-search\",\n",
    "    size=2,\n",
    "    query={\n",
    "        \"sparse_vector\": {\n",
    "            \"field\": \"elser_description_vector\",\n",
    "            \"inference_id\": \".elser-2-elasticsearch\",\n",
    "            \"query\": \"Comfortable furniture for a large balcony\",\n",
    "        }\n",
    "    },\n",
    "    source_excludes=[\"*_description_vector\"],  # Exclude vector fields from response\n",
    ")\n",
    "\n",
    "\n",
    "sparse_semantic_search_results = resp[\"hits\"][\"hits\"]\n",
    "results_list.append({\"sparse_semantic_search\": sparse_semantic_search_results})\n",
    "\n",
    "for hit in sparse_semantic_search_results:\n",
    "\n",
    "    score = hit[\"_score\"]\n",
    "    product = hit[\"_source\"][\"product\"]\n",
    "    category = hit[\"_source\"][\"category\"]\n",
    "    description = hit[\"_source\"][\"description\"]\n",
    "    print(\n",
    "        f\"\\nScore: {score}\\nProduct: {product}\\nCategory: {category}\\nDescription: {description}\\n\"\n",
    "    )"
   ]
  },
  {
   "cell_type": "markdown",
   "id": "kz9deDBYQJxr",
   "metadata": {
    "id": "kz9deDBYQJxr"
   },
   "source": [
    "## Hybrid Search - BM25+KNN linear combination"
   ]
  },
  {
   "cell_type": "code",
   "execution_count": 229,
   "id": "f84aa16b-49c5-4abf-a049-d556c225542e",
   "metadata": {
    "id": "f84aa16b-49c5-4abf-a049-d556c225542e"
   },
   "outputs": [
    {
     "name": "stdout",
     "output_type": "stream",
     "text": [
      "\n",
      "Score: 18.161213\n",
      "Product: Garden Dining Set with Swivel Chairs\n",
      "Category: Garden Furniture\n",
      "Description: is a functional and comfortable garden dining set, including a table and chairs with swivel seats for convenience.\n",
      "\n",
      "\n",
      "Score: 17.770641\n",
      "Product: Garden Dining Set with Swivel Rockers\n",
      "Category: Garden Furniture\n",
      "Description: is a functional and comfortable garden dining set, including a table and chairs with swivel rockers for easy movement.\n",
      "\n"
     ]
    }
   ],
   "source": [
    "# BM25 + KNN (Linear Combination)\n",
    "query = \"A dining table and comfortable chairs for a large balcony\"\n",
    "resp = client.search(\n",
    "    index=\"ecommerce-search\",\n",
    "    size=2,\n",
    "    query={\n",
    "        \"bool\": {\n",
    "            \"should\": [\n",
    "                {\n",
    "                    \"match\": {\n",
    "                        \"description\": {\n",
    "                            \"query\": query,\n",
    "                            \"boost\": 1,\n",
    "                        }\n",
    "                    }\n",
    "                }\n",
    "            ]\n",
    "        }\n",
    "    },\n",
    "    knn={\n",
    "        \"field\": \"e5_description_vector\",\n",
    "        \"k\": 2,\n",
    "        \"num_candidates\": 20,\n",
    "        \"boost\": 1,\n",
    "        \"query_vector_builder\": {\n",
    "            \"text_embedding\": {\n",
    "                \"model_id\": \".multilingual-e5-small-elasticsearch\",\n",
    "                \"model_text\": query,\n",
    "            }\n",
    "        },\n",
    "    },\n",
    "    source_excludes=[\"*_description_vector\"],  # Exclude vector fields from response\n",
    ")\n",
    "\n",
    "dense_linear_search_results = resp[\"hits\"][\"hits\"]\n",
    "results_list.append({\"dense_linear_search\": dense_linear_search_results})\n",
    "\n",
    "for hit in dense_linear_search_results:\n",
    "\n",
    "    score = hit[\"_score\"]\n",
    "    product = hit[\"_source\"][\"product\"]\n",
    "    category = hit[\"_source\"][\"category\"]\n",
    "    description = hit[\"_source\"][\"description\"]\n",
    "    print(\n",
    "        f\"\\nScore: {score}\\nProduct: {product}\\nCategory: {category}\\nDescription: {description}\\n\"\n",
    "    )"
   ]
  },
  {
   "cell_type": "markdown",
   "id": "cybkWjmpQV8g",
   "metadata": {
    "id": "cybkWjmpQV8g"
   },
   "source": [
    "## Hybrid Search - BM25+KNN RRF"
   ]
  },
  {
   "cell_type": "code",
   "execution_count": 230,
   "id": "aa2e072d-37bb-43fd-a83f-e1cb55a24861",
   "metadata": {
    "id": "aa2e072d-37bb-43fd-a83f-e1cb55a24861"
   },
   "outputs": [
    {
     "name": "stdout",
     "output_type": "stream",
     "text": [
      "Score: 0.0952381\n",
      "Product: Garden Dining Set with Swivel Chairs\n",
      "Category: Garden Furniture\n",
      "Description: is a functional and comfortable garden dining set, including a table and chairs with swivel seats for convenience.\n",
      "\n",
      "Score: 0.045454547\n",
      "Product: Patio Dining Set with Bench\n",
      "Category: Outdoor Furniture\n",
      "Description: is a spacious and functional patio dining set, including a dining table, chairs, and a bench for additional seating.\n",
      "\n"
     ]
    }
   ],
   "source": [
    "# BM25 + KNN (RRF)\n",
    "top_k = 2\n",
    "resp = client.search(\n",
    "    index=\"ecommerce-search\",\n",
    "    retriever={\n",
    "        \"rrf\": {\n",
    "            \"retrievers\": [\n",
    "                {\n",
    "                    \"standard\": {\n",
    "                        \"query\": {\n",
    "                            \"match\": {\n",
    "                                \"description\": \"A dining table and comfortable chairs for a large balcony\"\n",
    "                            }\n",
    "                        }\n",
    "                    }\n",
    "                },\n",
    "                {\n",
    "                    \"knn\": {\n",
    "                        \"field\": \"e5_description_vector\",\n",
    "                        \"query_vector_builder\": {\n",
    "                            \"text_embedding\": {\n",
    "                                \"model_id\": \".multilingual-e5-small\",\n",
    "                                \"model_text\": \"A dining table and comfortable chairs for a large balcony\",\n",
    "                            }\n",
    "                        },\n",
    "                        \"k\": 2,\n",
    "                        \"num_candidates\": 20,\n",
    "                    }\n",
    "                },\n",
    "            ],\n",
    "            \"rank_window_size\": 2,\n",
    "            \"rank_constant\": 20,\n",
    "        }\n",
    "    },\n",
    "    source_excludes=[\"*_description_vector\"],  # Exclude vector fields from response\n",
    ")\n",
    "\n",
    "dense_rrf_search_results = resp[\"hits\"][\"hits\"]\n",
    "results_list.append({\"dense_rrf_search\": dense_rrf_search_results})\n",
    "\n",
    "for hit in dense_rrf_search_results:\n",
    "\n",
    "    score = hit[\"_score\"]\n",
    "    category = hit[\"_source\"][\"category\"]\n",
    "    product = hit[\"_source\"][\"product\"]\n",
    "    description = hit[\"_source\"][\"description\"]\n",
    "    print(\n",
    "        f\"Score: {score}\\nProduct: {product}\\nCategory: {category}\\nDescription: {description}\\n\"\n",
    "    )"
   ]
  },
  {
   "cell_type": "markdown",
   "id": "LyKI2Z-XQbI6",
   "metadata": {
    "id": "LyKI2Z-XQbI6"
   },
   "source": [
    "## Hybrid Search - BM25+ELSER linear combination"
   ]
  },
  {
   "cell_type": "code",
   "execution_count": 232,
   "id": "bd842732-b20a-4c7a-b735-e1f558a9b922",
   "metadata": {
    "id": "bd842732-b20a-4c7a-b735-e1f558a9b922"
   },
   "outputs": [
    {
     "name": "stdout",
     "output_type": "stream",
     "text": [
      "\n",
      "Score: 33.896286\n",
      "Product: Garden Dining Set with Swivel Chairs\n",
      "Category: Garden Furniture\n",
      "Description: is a functional and comfortable garden dining set, including a table and chairs with swivel seats for convenience.\n",
      "\n",
      "\n",
      "Score: 32.462887\n",
      "Product: Patio Dining Set with Bench\n",
      "Category: Outdoor Furniture\n",
      "Description: is a spacious and functional patio dining set, including a dining table, chairs, and a bench for additional seating.\n",
      "\n"
     ]
    }
   ],
   "source": [
    "# BM25 + Elastic Learned Sparse Encoder (Linear Combination)\n",
    "\n",
    "resp = client.search(\n",
    "    index=\"ecommerce-search\",\n",
    "    size=2,\n",
    "    query={\n",
    "        \"bool\": {\n",
    "            \"should\": [\n",
    "                {\n",
    "                    \"match\": {\n",
    "                        \"description\": {\n",
    "                            \"query\": \"A dining table and comfortable chairs for a large balcony\",\n",
    "                            \"boost\": 1,  # You can adjust the boost value\n",
    "                        }\n",
    "                    }\n",
    "                },\n",
    "                {\n",
    "                    \"sparse_vector\": {\n",
    "                        \"field\": \"elser_description_vector\",\n",
    "                        \"inference_id\": \".elser-2-elasticsearch\",\n",
    "                        \"query\": \"A dining table and comfortable chairs for a large balcony\",\n",
    "                    }\n",
    "                },\n",
    "            ]\n",
    "        }\n",
    "    },\n",
    "    source_excludes=[\"*_description_vector\"],  # Exclude vector fields from response\n",
    ")\n",
    "\n",
    "sparse_linear_search_results = resp[\"hits\"][\"hits\"]\n",
    "results_list.append({\"sparse_linear_search\": sparse_linear_search_results})\n",
    "\n",
    "for hit in sparse_linear_search_results:\n",
    "    score = hit[\"_score\"]\n",
    "    product = hit[\"_source\"][\"product\"]\n",
    "    category = hit[\"_source\"][\"category\"]\n",
    "    description = hit[\"_source\"][\"description\"]\n",
    "    print(\n",
    "        f\"\\nScore: {score}\\nProduct: {product}\\nCategory: {category}\\nDescription: {description}\\n\"\n",
    "    )"
   ]
  },
  {
   "cell_type": "markdown",
   "id": "e3d5e4e9",
   "metadata": {},
   "source": [
    "## Hybrid Search - BM25+ELSER RRF"
   ]
  },
  {
   "cell_type": "code",
   "execution_count": 233,
   "id": "199c5c60",
   "metadata": {},
   "outputs": [
    {
     "name": "stdout",
     "output_type": "stream",
     "text": [
      "Score: 0.0952381\n",
      "Product: Garden Dining Set with Swivel Chairs\n",
      "Category: Garden Furniture\n",
      "Description: is a functional and comfortable garden dining set, including a table and chairs with swivel seats for convenience.\n",
      "\n",
      "Score: 0.045454547\n",
      "Product: Patio Dining Set with Bench\n",
      "Category: Outdoor Furniture\n",
      "Description: is a spacious and functional patio dining set, including a dining table, chairs, and a bench for additional seating.\n",
      "\n"
     ]
    }
   ],
   "source": [
    "# BM25 + ELSER (RRF)\n",
    "top_k = 2\n",
    "resp = client.search(\n",
    "    index=\"ecommerce-search\",\n",
    "    retriever={\n",
    "        \"rrf\": {\n",
    "            \"retrievers\": [\n",
    "                {\n",
    "                    \"standard\": {\n",
    "                        \"query\": {\n",
    "                            \"match\": {\n",
    "                                \"description\": \"A dining table and comfortable chairs for a large balcony\"\n",
    "                            }\n",
    "                        }\n",
    "                    }\n",
    "                },\n",
    "                {\n",
    "                    \"standard\": {\n",
    "                        \"query\": {\n",
    "                            \"sparse_vector\": {\n",
    "                                \"field\": \"elser_description_vector\",\n",
    "                                \"inference_id\": \".elser-2-elasticsearch\",\n",
    "                                \"query\": \"A dining table and comfortable chairs for a large balcony\",\n",
    "                            }\n",
    "                        }\n",
    "                    }\n",
    "                },\n",
    "            ],\n",
    "            \"rank_window_size\": 2,\n",
    "            \"rank_constant\": 20,\n",
    "        }\n",
    "    },\n",
    "    source_excludes=[\"*_description_vector\"],  # Exclude vector fields from response\n",
    ")\n",
    "\n",
    "sparse_rrf_search_results = resp[\"hits\"][\"hits\"]\n",
    "results_list.append({\"sparse_rrf_search_results\": sparse_rrf_search_results})\n",
    "\n",
    "for hit in sparse_rrf_search_results:\n",
    "\n",
    "    score = hit[\"_score\"]\n",
    "    category = hit[\"_source\"][\"category\"]\n",
    "    product = hit[\"_source\"][\"product\"]\n",
    "    description = hit[\"_source\"][\"description\"]\n",
    "    print(\n",
    "        f\"Score: {score}\\nProduct: {product}\\nCategory: {category}\\nDescription: {description}\\n\"\n",
    "    )"
   ]
  },
  {
   "cell_type": "markdown",
   "id": "7b95f9b8",
   "metadata": {},
   "source": [
    "TODO: \n",
    "- Semantic Text / Query BUilder (ask Serena)\n",
    "- Table of Results\n",
    "- Conclusion\n",
    "- Next steps\n"
   ]
  },
  {
   "cell_type": "code",
   "execution_count": null,
   "id": "1162a857",
   "metadata": {},
   "outputs": [
    {
     "data": {
      "text/markdown": [
       "### Dense Linear Search"
      ],
      "text/plain": [
       "<IPython.core.display.Markdown object>"
      ]
     },
     "metadata": {},
     "output_type": "display_data"
    },
    {
     "data": {
      "text/html": [
       "<style type=\"text/css\">\n",
       "#T_e0b71_row0_col2, #T_e0b71_row1_col2, #T_e0b71_row2_col2, #T_e0b71_row3_col2 {\n",
       "  white-space: pre-wrap;\n",
       "  word-break: break-word;\n",
       "}\n",
       "</style>\n",
       "<table id=\"T_e0b71\">\n",
       "  <thead>\n",
       "    <tr>\n",
       "      <th class=\"blank level0\" >&nbsp;</th>\n",
       "      <th id=\"T_e0b71_level0_col0\" class=\"col_heading level0 col0\" >product</th>\n",
       "      <th id=\"T_e0b71_level0_col1\" class=\"col_heading level0 col1\" >category</th>\n",
       "      <th id=\"T_e0b71_level0_col2\" class=\"col_heading level0 col2\" >description</th>\n",
       "      <th id=\"T_e0b71_level0_col3\" class=\"col_heading level0 col3\" >score</th>\n",
       "    </tr>\n",
       "  </thead>\n",
       "  <tbody>\n",
       "    <tr>\n",
       "      <th id=\"T_e0b71_level0_row0\" class=\"row_heading level0 row0\" >0</th>\n",
       "      <td id=\"T_e0b71_row0_col0\" class=\"data row0 col0\" >Garden Dining Set with Swivel Chairs</td>\n",
       "      <td id=\"T_e0b71_row0_col1\" class=\"data row0 col1\" >Garden Furniture</td>\n",
       "      <td id=\"T_e0b71_row0_col2\" class=\"data row0 col2\" >is a functional and comfortable garden dining set, including a table and chairs with swivel seats for convenience.</td>\n",
       "      <td id=\"T_e0b71_row0_col3\" class=\"data row0 col3\" >18.161213</td>\n",
       "    </tr>\n",
       "    <tr>\n",
       "      <th id=\"T_e0b71_level0_row1\" class=\"row_heading level0 row1\" >1</th>\n",
       "      <td id=\"T_e0b71_row1_col0\" class=\"data row1 col0\" >Garden Dining Set with Swivel Rockers</td>\n",
       "      <td id=\"T_e0b71_row1_col1\" class=\"data row1 col1\" >Garden Furniture</td>\n",
       "      <td id=\"T_e0b71_row1_col2\" class=\"data row1 col2\" >is a functional and comfortable garden dining set, including a table and chairs with swivel rockers for easy movement.</td>\n",
       "      <td id=\"T_e0b71_row1_col3\" class=\"data row1 col3\" >17.770641</td>\n",
       "    </tr>\n",
       "    <tr>\n",
       "      <th id=\"T_e0b71_level0_row2\" class=\"row_heading level0 row2\" >2</th>\n",
       "      <td id=\"T_e0b71_row2_col0\" class=\"data row2 col0\" >Garden Dining Set with Swivel Chairs</td>\n",
       "      <td id=\"T_e0b71_row2_col1\" class=\"data row2 col1\" >Garden Furniture</td>\n",
       "      <td id=\"T_e0b71_row2_col2\" class=\"data row2 col2\" >is a functional and comfortable garden dining set, including a table and chairs with swivel seats for convenience.</td>\n",
       "      <td id=\"T_e0b71_row2_col3\" class=\"data row2 col3\" >18.161213</td>\n",
       "    </tr>\n",
       "    <tr>\n",
       "      <th id=\"T_e0b71_level0_row3\" class=\"row_heading level0 row3\" >3</th>\n",
       "      <td id=\"T_e0b71_row3_col0\" class=\"data row3 col0\" >Garden Dining Set with Swivel Rockers</td>\n",
       "      <td id=\"T_e0b71_row3_col1\" class=\"data row3 col1\" >Garden Furniture</td>\n",
       "      <td id=\"T_e0b71_row3_col2\" class=\"data row3 col2\" >is a functional and comfortable garden dining set, including a table and chairs with swivel rockers for easy movement.</td>\n",
       "      <td id=\"T_e0b71_row3_col3\" class=\"data row3 col3\" >17.770641</td>\n",
       "    </tr>\n",
       "  </tbody>\n",
       "</table>\n"
      ],
      "text/plain": [
       "<pandas.io.formats.style.Styler at 0x13ece3290>"
      ]
     },
     "metadata": {},
     "output_type": "display_data"
    },
    {
     "data": {
      "text/markdown": [
       "### Dense Rrf Search"
      ],
      "text/plain": [
       "<IPython.core.display.Markdown object>"
      ]
     },
     "metadata": {},
     "output_type": "display_data"
    },
    {
     "data": {
      "text/html": [
       "<style type=\"text/css\">\n",
       "#T_f12b1_row0_col2, #T_f12b1_row1_col2 {\n",
       "  white-space: pre-wrap;\n",
       "  word-break: break-word;\n",
       "}\n",
       "</style>\n",
       "<table id=\"T_f12b1\">\n",
       "  <thead>\n",
       "    <tr>\n",
       "      <th class=\"blank level0\" >&nbsp;</th>\n",
       "      <th id=\"T_f12b1_level0_col0\" class=\"col_heading level0 col0\" >product</th>\n",
       "      <th id=\"T_f12b1_level0_col1\" class=\"col_heading level0 col1\" >category</th>\n",
       "      <th id=\"T_f12b1_level0_col2\" class=\"col_heading level0 col2\" >description</th>\n",
       "      <th id=\"T_f12b1_level0_col3\" class=\"col_heading level0 col3\" >score</th>\n",
       "    </tr>\n",
       "  </thead>\n",
       "  <tbody>\n",
       "    <tr>\n",
       "      <th id=\"T_f12b1_level0_row0\" class=\"row_heading level0 row0\" >0</th>\n",
       "      <td id=\"T_f12b1_row0_col0\" class=\"data row0 col0\" >Garden Dining Set with Swivel Chairs</td>\n",
       "      <td id=\"T_f12b1_row0_col1\" class=\"data row0 col1\" >Garden Furniture</td>\n",
       "      <td id=\"T_f12b1_row0_col2\" class=\"data row0 col2\" >is a functional and comfortable garden dining set, including a table and chairs with swivel seats for convenience.</td>\n",
       "      <td id=\"T_f12b1_row0_col3\" class=\"data row0 col3\" >0.095238</td>\n",
       "    </tr>\n",
       "    <tr>\n",
       "      <th id=\"T_f12b1_level0_row1\" class=\"row_heading level0 row1\" >1</th>\n",
       "      <td id=\"T_f12b1_row1_col0\" class=\"data row1 col0\" >Patio Dining Set with Bench</td>\n",
       "      <td id=\"T_f12b1_row1_col1\" class=\"data row1 col1\" >Outdoor Furniture</td>\n",
       "      <td id=\"T_f12b1_row1_col2\" class=\"data row1 col2\" >is a spacious and functional patio dining set, including a dining table, chairs, and a bench for additional seating.</td>\n",
       "      <td id=\"T_f12b1_row1_col3\" class=\"data row1 col3\" >0.045455</td>\n",
       "    </tr>\n",
       "  </tbody>\n",
       "</table>\n"
      ],
      "text/plain": [
       "<pandas.io.formats.style.Styler at 0x118b94350>"
      ]
     },
     "metadata": {},
     "output_type": "display_data"
    },
    {
     "data": {
      "text/markdown": [
       "### Dense Semantic Search"
      ],
      "text/plain": [
       "<IPython.core.display.Markdown object>"
      ]
     },
     "metadata": {},
     "output_type": "display_data"
    },
    {
     "data": {
      "text/html": [
       "<style type=\"text/css\">\n",
       "#T_a14bf_row0_col2, #T_a14bf_row1_col2 {\n",
       "  white-space: pre-wrap;\n",
       "  word-break: break-word;\n",
       "}\n",
       "</style>\n",
       "<table id=\"T_a14bf\">\n",
       "  <thead>\n",
       "    <tr>\n",
       "      <th class=\"blank level0\" >&nbsp;</th>\n",
       "      <th id=\"T_a14bf_level0_col0\" class=\"col_heading level0 col0\" >product</th>\n",
       "      <th id=\"T_a14bf_level0_col1\" class=\"col_heading level0 col1\" >category</th>\n",
       "      <th id=\"T_a14bf_level0_col2\" class=\"col_heading level0 col2\" >description</th>\n",
       "      <th id=\"T_a14bf_level0_col3\" class=\"col_heading level0 col3\" >score</th>\n",
       "    </tr>\n",
       "  </thead>\n",
       "  <tbody>\n",
       "    <tr>\n",
       "      <th id=\"T_a14bf_level0_row0\" class=\"row_heading level0 row0\" >0</th>\n",
       "      <td id=\"T_a14bf_row0_col0\" class=\"data row0 col0\" >Metal Garden Bench with Cushion</td>\n",
       "      <td id=\"T_a14bf_row0_col1\" class=\"data row0 col1\" >Garden Furniture</td>\n",
       "      <td id=\"T_a14bf_row0_col2\" class=\"data row0 col2\" >is a stylish and comfortable metal garden bench, complete with a cushion for added support.</td>\n",
       "      <td id=\"T_a14bf_row0_col3\" class=\"data row0 col3\" >0.931476</td>\n",
       "    </tr>\n",
       "    <tr>\n",
       "      <th id=\"T_a14bf_level0_row1\" class=\"row_heading level0 row1\" >1</th>\n",
       "      <td id=\"T_a14bf_row1_col0\" class=\"data row1 col0\" >Garden Dining Set with Swivel Chairs</td>\n",
       "      <td id=\"T_a14bf_row1_col1\" class=\"data row1 col1\" >Garden Furniture</td>\n",
       "      <td id=\"T_a14bf_row1_col2\" class=\"data row1 col2\" >is a functional and comfortable garden dining set, including a table and chairs with swivel seats for convenience.</td>\n",
       "      <td id=\"T_a14bf_row1_col3\" class=\"data row1 col3\" >0.930403</td>\n",
       "    </tr>\n",
       "  </tbody>\n",
       "</table>\n"
      ],
      "text/plain": [
       "<pandas.io.formats.style.Styler at 0x14fb026f0>"
      ]
     },
     "metadata": {},
     "output_type": "display_data"
    },
    {
     "data": {
      "text/markdown": [
       "### Lexical Search"
      ],
      "text/plain": [
       "<IPython.core.display.Markdown object>"
      ]
     },
     "metadata": {},
     "output_type": "display_data"
    },
    {
     "data": {
      "text/html": [
       "<style type=\"text/css\">\n",
       "#T_c77a2_row0_col2, #T_c77a2_row1_col2 {\n",
       "  white-space: pre-wrap;\n",
       "  word-break: break-word;\n",
       "}\n",
       "</style>\n",
       "<table id=\"T_c77a2\">\n",
       "  <thead>\n",
       "    <tr>\n",
       "      <th class=\"blank level0\" >&nbsp;</th>\n",
       "      <th id=\"T_c77a2_level0_col0\" class=\"col_heading level0 col0\" >product</th>\n",
       "      <th id=\"T_c77a2_level0_col1\" class=\"col_heading level0 col1\" >category</th>\n",
       "      <th id=\"T_c77a2_level0_col2\" class=\"col_heading level0 col2\" >description</th>\n",
       "      <th id=\"T_c77a2_level0_col3\" class=\"col_heading level0 col3\" >score</th>\n",
       "    </tr>\n",
       "  </thead>\n",
       "  <tbody>\n",
       "    <tr>\n",
       "      <th id=\"T_c77a2_level0_row0\" class=\"row_heading level0 row0\" >0</th>\n",
       "      <td id=\"T_c77a2_row0_col0\" class=\"data row0 col0\" >Barbie Dreamhouse</td>\n",
       "      <td id=\"T_c77a2_row0_col1\" class=\"data row0 col1\" >Toys</td>\n",
       "      <td id=\"T_c77a2_row0_col2\" class=\"data row0 col2\" >is a classic Barbie playset with multiple rooms, furniture, a large balcony, a pool, and accessories. It allows kids to create their dream Barbie world.</td>\n",
       "      <td id=\"T_c77a2_row0_col3\" class=\"data row0 col3\" >13.408413</td>\n",
       "    </tr>\n",
       "    <tr>\n",
       "      <th id=\"T_c77a2_level0_row1\" class=\"row_heading level0 row1\" >1</th>\n",
       "      <td id=\"T_c77a2_row1_col0\" class=\"data row1 col0\" >Rattan Patio Conversation Set</td>\n",
       "      <td id=\"T_c77a2_row1_col1\" class=\"data row1 col1\" >Outdoor Furniture</td>\n",
       "      <td id=\"T_c77a2_row1_col2\" class=\"data row1 col2\" >is a stylish and comfortable outdoor furniture set, including a sofa, two chairs, and a coffee table, all made of durable rattan material.</td>\n",
       "      <td id=\"T_c77a2_row1_col3\" class=\"data row1 col3\" >7.504859</td>\n",
       "    </tr>\n",
       "  </tbody>\n",
       "</table>\n"
      ],
      "text/plain": [
       "<pandas.io.formats.style.Styler at 0x13ece3290>"
      ]
     },
     "metadata": {},
     "output_type": "display_data"
    },
    {
     "data": {
      "text/markdown": [
       "### Sparse Linear Search"
      ],
      "text/plain": [
       "<IPython.core.display.Markdown object>"
      ]
     },
     "metadata": {},
     "output_type": "display_data"
    },
    {
     "data": {
      "text/html": [
       "<style type=\"text/css\">\n",
       "#T_8d565_row0_col2, #T_8d565_row1_col2, #T_8d565_row2_col2, #T_8d565_row3_col2 {\n",
       "  white-space: pre-wrap;\n",
       "  word-break: break-word;\n",
       "}\n",
       "</style>\n",
       "<table id=\"T_8d565\">\n",
       "  <thead>\n",
       "    <tr>\n",
       "      <th class=\"blank level0\" >&nbsp;</th>\n",
       "      <th id=\"T_8d565_level0_col0\" class=\"col_heading level0 col0\" >product</th>\n",
       "      <th id=\"T_8d565_level0_col1\" class=\"col_heading level0 col1\" >category</th>\n",
       "      <th id=\"T_8d565_level0_col2\" class=\"col_heading level0 col2\" >description</th>\n",
       "      <th id=\"T_8d565_level0_col3\" class=\"col_heading level0 col3\" >score</th>\n",
       "    </tr>\n",
       "  </thead>\n",
       "  <tbody>\n",
       "    <tr>\n",
       "      <th id=\"T_8d565_level0_row0\" class=\"row_heading level0 row0\" >0</th>\n",
       "      <td id=\"T_8d565_row0_col0\" class=\"data row0 col0\" >Garden Dining Set with Swivel Chairs</td>\n",
       "      <td id=\"T_8d565_row0_col1\" class=\"data row0 col1\" >Garden Furniture</td>\n",
       "      <td id=\"T_8d565_row0_col2\" class=\"data row0 col2\" >is a functional and comfortable garden dining set, including a table and chairs with swivel seats for convenience.</td>\n",
       "      <td id=\"T_8d565_row0_col3\" class=\"data row0 col3\" >33.896286</td>\n",
       "    </tr>\n",
       "    <tr>\n",
       "      <th id=\"T_8d565_level0_row1\" class=\"row_heading level0 row1\" >1</th>\n",
       "      <td id=\"T_8d565_row1_col0\" class=\"data row1 col0\" >Patio Dining Set with Bench</td>\n",
       "      <td id=\"T_8d565_row1_col1\" class=\"data row1 col1\" >Outdoor Furniture</td>\n",
       "      <td id=\"T_8d565_row1_col2\" class=\"data row1 col2\" >is a spacious and functional patio dining set, including a dining table, chairs, and a bench for additional seating.</td>\n",
       "      <td id=\"T_8d565_row1_col3\" class=\"data row1 col3\" >32.462887</td>\n",
       "    </tr>\n",
       "    <tr>\n",
       "      <th id=\"T_8d565_level0_row2\" class=\"row_heading level0 row2\" >2</th>\n",
       "      <td id=\"T_8d565_row2_col0\" class=\"data row2 col0\" >Garden Dining Set with Swivel Chairs</td>\n",
       "      <td id=\"T_8d565_row2_col1\" class=\"data row2 col1\" >Garden Furniture</td>\n",
       "      <td id=\"T_8d565_row2_col2\" class=\"data row2 col2\" >is a functional and comfortable garden dining set, including a table and chairs with swivel seats for convenience.</td>\n",
       "      <td id=\"T_8d565_row2_col3\" class=\"data row2 col3\" >33.896286</td>\n",
       "    </tr>\n",
       "    <tr>\n",
       "      <th id=\"T_8d565_level0_row3\" class=\"row_heading level0 row3\" >3</th>\n",
       "      <td id=\"T_8d565_row3_col0\" class=\"data row3 col0\" >Patio Dining Set with Bench</td>\n",
       "      <td id=\"T_8d565_row3_col1\" class=\"data row3 col1\" >Outdoor Furniture</td>\n",
       "      <td id=\"T_8d565_row3_col2\" class=\"data row3 col2\" >is a spacious and functional patio dining set, including a dining table, chairs, and a bench for additional seating.</td>\n",
       "      <td id=\"T_8d565_row3_col3\" class=\"data row3 col3\" >32.462887</td>\n",
       "    </tr>\n",
       "  </tbody>\n",
       "</table>\n"
      ],
      "text/plain": [
       "<pandas.io.formats.style.Styler at 0x13f1ce6f0>"
      ]
     },
     "metadata": {},
     "output_type": "display_data"
    },
    {
     "data": {
      "text/markdown": [
       "### Sparse Rrf Search Results"
      ],
      "text/plain": [
       "<IPython.core.display.Markdown object>"
      ]
     },
     "metadata": {},
     "output_type": "display_data"
    },
    {
     "data": {
      "text/html": [
       "<style type=\"text/css\">\n",
       "#T_1ad03_row0_col2, #T_1ad03_row1_col2 {\n",
       "  white-space: pre-wrap;\n",
       "  word-break: break-word;\n",
       "}\n",
       "</style>\n",
       "<table id=\"T_1ad03\">\n",
       "  <thead>\n",
       "    <tr>\n",
       "      <th class=\"blank level0\" >&nbsp;</th>\n",
       "      <th id=\"T_1ad03_level0_col0\" class=\"col_heading level0 col0\" >product</th>\n",
       "      <th id=\"T_1ad03_level0_col1\" class=\"col_heading level0 col1\" >category</th>\n",
       "      <th id=\"T_1ad03_level0_col2\" class=\"col_heading level0 col2\" >description</th>\n",
       "      <th id=\"T_1ad03_level0_col3\" class=\"col_heading level0 col3\" >score</th>\n",
       "    </tr>\n",
       "  </thead>\n",
       "  <tbody>\n",
       "    <tr>\n",
       "      <th id=\"T_1ad03_level0_row0\" class=\"row_heading level0 row0\" >0</th>\n",
       "      <td id=\"T_1ad03_row0_col0\" class=\"data row0 col0\" >Garden Dining Set with Swivel Chairs</td>\n",
       "      <td id=\"T_1ad03_row0_col1\" class=\"data row0 col1\" >Garden Furniture</td>\n",
       "      <td id=\"T_1ad03_row0_col2\" class=\"data row0 col2\" >is a functional and comfortable garden dining set, including a table and chairs with swivel seats for convenience.</td>\n",
       "      <td id=\"T_1ad03_row0_col3\" class=\"data row0 col3\" >0.095238</td>\n",
       "    </tr>\n",
       "    <tr>\n",
       "      <th id=\"T_1ad03_level0_row1\" class=\"row_heading level0 row1\" >1</th>\n",
       "      <td id=\"T_1ad03_row1_col0\" class=\"data row1 col0\" >Patio Dining Set with Bench</td>\n",
       "      <td id=\"T_1ad03_row1_col1\" class=\"data row1 col1\" >Outdoor Furniture</td>\n",
       "      <td id=\"T_1ad03_row1_col2\" class=\"data row1 col2\" >is a spacious and functional patio dining set, including a dining table, chairs, and a bench for additional seating.</td>\n",
       "      <td id=\"T_1ad03_row1_col3\" class=\"data row1 col3\" >0.045455</td>\n",
       "    </tr>\n",
       "  </tbody>\n",
       "</table>\n"
      ],
      "text/plain": [
       "<pandas.io.formats.style.Styler at 0x14fb026f0>"
      ]
     },
     "metadata": {},
     "output_type": "display_data"
    },
    {
     "data": {
      "text/markdown": [
       "### Sparse Semantic Search"
      ],
      "text/plain": [
       "<IPython.core.display.Markdown object>"
      ]
     },
     "metadata": {},
     "output_type": "display_data"
    },
    {
     "data": {
      "text/html": [
       "<style type=\"text/css\">\n",
       "#T_476d2_row0_col2, #T_476d2_row1_col2 {\n",
       "  white-space: pre-wrap;\n",
       "  word-break: break-word;\n",
       "}\n",
       "</style>\n",
       "<table id=\"T_476d2\">\n",
       "  <thead>\n",
       "    <tr>\n",
       "      <th class=\"blank level0\" >&nbsp;</th>\n",
       "      <th id=\"T_476d2_level0_col0\" class=\"col_heading level0 col0\" >product</th>\n",
       "      <th id=\"T_476d2_level0_col1\" class=\"col_heading level0 col1\" >category</th>\n",
       "      <th id=\"T_476d2_level0_col2\" class=\"col_heading level0 col2\" >description</th>\n",
       "      <th id=\"T_476d2_level0_col3\" class=\"col_heading level0 col3\" >score</th>\n",
       "    </tr>\n",
       "  </thead>\n",
       "  <tbody>\n",
       "    <tr>\n",
       "      <th id=\"T_476d2_level0_row0\" class=\"row_heading level0 row0\" >0</th>\n",
       "      <td id=\"T_476d2_row0_col0\" class=\"data row0 col0\" >Garden Lounge Chair with Sunshade</td>\n",
       "      <td id=\"T_476d2_row0_col1\" class=\"data row0 col1\" >Garden Furniture</td>\n",
       "      <td id=\"T_476d2_row0_col2\" class=\"data row0 col2\" >is a comfortable and versatile garden lounge chair with a built-in sunshade, perfect for hot sunny days.</td>\n",
       "      <td id=\"T_476d2_row0_col3\" class=\"data row0 col3\" >11.189300</td>\n",
       "    </tr>\n",
       "    <tr>\n",
       "      <th id=\"T_476d2_level0_row1\" class=\"row_heading level0 row1\" >1</th>\n",
       "      <td id=\"T_476d2_row1_col0\" class=\"data row1 col0\" >Rattan Patio Conversation Set</td>\n",
       "      <td id=\"T_476d2_row1_col1\" class=\"data row1 col1\" >Outdoor Furniture</td>\n",
       "      <td id=\"T_476d2_row1_col2\" class=\"data row1 col2\" >is a stylish and comfortable outdoor furniture set, including a sofa, two chairs, and a coffee table, all made of durable rattan material.</td>\n",
       "      <td id=\"T_476d2_row1_col3\" class=\"data row1 col3\" >11.187605</td>\n",
       "    </tr>\n",
       "  </tbody>\n",
       "</table>\n"
      ],
      "text/plain": [
       "<pandas.io.formats.style.Styler at 0x11f229e50>"
      ]
     },
     "metadata": {},
     "output_type": "display_data"
    }
   ],
   "source": [
    "# Flatten results for each search type\n",
    "rows = []\n",
    "for result in results_list:\n",
    "    search_type = list(result.keys())[0]\n",
    "\n",
    "    for doc in result[search_type]:\n",
    "        row = {\n",
    "            \"search_type\": search_type,\n",
    "            \"product\": doc[\"_source\"].get(\"product\"),\n",
    "            \"category\": doc[\"_source\"].get(\"category\"),\n",
    "            \"description\": doc[\"_source\"].get(\"description\"),\n",
    "            \"score\": doc.get(\"_score\"),\n",
    "        }\n",
    "        rows.append(row)\n",
    "\n",
    "df = pd.DataFrame(rows)\n",
    "\n",
    "for search_type, group in df.groupby(\"search_type\"):\n",
    "    display(Markdown(f\"### {search_type.replace('_', ' ').title()}\"))\n",
    "    styled = (\n",
    "        group.drop(columns=\"search_type\")\n",
    "        .reset_index(drop=True)\n",
    "        .style.set_properties(\n",
    "            subset=[\"description\"],\n",
    "            **{\"white-space\": \"pre-wrap\", \"word-break\": \"break-word\"},\n",
    "        )\n",
    "    )\n",
    "    display(styled)"
   ]
  }
 ],
 "metadata": {
  "colab": {
   "provenance": []
  },
  "kernelspec": {
   "display_name": "Python 3 (ipykernel)",
   "language": "python",
   "name": "python3"
  },
  "language_info": {
   "codemirror_mode": {
    "name": "ipython",
    "version": 3
   },
   "file_extension": ".py",
   "mimetype": "text/x-python",
   "name": "python",
   "nbconvert_exporter": "python",
   "pygments_lexer": "ipython3",
   "version": "3.12.3"
  }
 },
 "nbformat": 4,
 "nbformat_minor": 5
}
