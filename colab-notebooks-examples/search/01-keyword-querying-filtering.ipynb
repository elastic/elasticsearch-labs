{
  "nbformat": 4,
  "nbformat_minor": 0,
  "metadata": {
    "colab": {
      "provenance": [],
      "authorship_tag": "ABX9TyN01omVTQq7mKw4jc4XyLDm"
    },
    "kernelspec": {
      "name": "python3",
      "display_name": "Python 3"
    },
    "language_info": {
      "name": "python"
    }
  },
  "cells": [
    {
      "cell_type": "markdown",
      "metadata": {
        "id": "view-in-github",
        "colab_type": "text"
      },
      "source": [
        "<a href=\"https://colab.research.google.com/github/yansavitski/elasticsearch-labs/blob/notebooks-guides/colab-notebooks-examples/search/01-keyword-querying-filtering.ipynb\" target=\"_parent\"><img src=\"https://colab.research.google.com/assets/colab-badge.svg\" alt=\"Open In Colab\"/></a>"
      ]
    },
    {
      "cell_type": "code",
      "execution_count": null,
      "metadata": {
        "colab": {
          "base_uri": "https://localhost:8080/"
        },
        "id": "cSj1acY8uPR2",
        "outputId": "2c4f9385-17a8-4de0-a843-da7d0d3babb9"
      },
      "outputs": [
        {
          "output_type": "stream",
          "name": "stdout",
          "text": [
            "\u001b[?25l     \u001b[90m━━━━━━━━━━━━━━━━━━━━━━━━━━━━━━━━━━━━━━━━\u001b[0m \u001b[32m0.0/393.8 kB\u001b[0m \u001b[31m?\u001b[0m eta \u001b[36m-:--:--\u001b[0m\r\u001b[2K     \u001b[90m━━━━━━━━━━━━━━━━━━━━━━━━━━━━━━━━━━━━━━\u001b[0m \u001b[32m393.8/393.8 kB\u001b[0m \u001b[31m22.5 MB/s\u001b[0m eta \u001b[36m0:00:00\u001b[0m\n",
            "\u001b[2K     \u001b[90m━━━━━━━━━━━━━━━━━━━━━━━━━━━━━━━━━━━━━━━━\u001b[0m \u001b[32m86.0/86.0 kB\u001b[0m \u001b[31m9.4 MB/s\u001b[0m eta \u001b[36m0:00:00\u001b[0m\n",
            "\u001b[?25h  Preparing metadata (setup.py) ... \u001b[?25l\u001b[?25hdone\n",
            "\u001b[2K     \u001b[90m━━━━━━━━━━━━━━━━━━━━━━━━━━━━━━━━━━━━━━━━\u001b[0m \u001b[32m7.2/7.2 MB\u001b[0m \u001b[31m71.3 MB/s\u001b[0m eta \u001b[36m0:00:00\u001b[0m\n",
            "\u001b[2K     \u001b[90m━━━━━━━━━━━━━━━━━━━━━━━━━━━━━━━━━━━━━━━━\u001b[0m \u001b[32m1.3/1.3 MB\u001b[0m \u001b[31m61.9 MB/s\u001b[0m eta \u001b[36m0:00:00\u001b[0m\n",
            "\u001b[2K     \u001b[90m━━━━━━━━━━━━━━━━━━━━━━━━━━━━━━━━━━━━━━\u001b[0m \u001b[32m268.5/268.5 kB\u001b[0m \u001b[31m23.3 MB/s\u001b[0m eta \u001b[36m0:00:00\u001b[0m\n",
            "\u001b[2K     \u001b[90m━━━━━━━━━━━━━━━━━━━━━━━━━━━━━━━━━━━━━━━━\u001b[0m \u001b[32m59.5/59.5 kB\u001b[0m \u001b[31m6.2 MB/s\u001b[0m eta \u001b[36m0:00:00\u001b[0m\n",
            "\u001b[2K     \u001b[90m━━━━━━━━━━━━━━━━━━━━━━━━━━━━━━━━━━━━━━━━\u001b[0m \u001b[32m7.8/7.8 MB\u001b[0m \u001b[31m82.7 MB/s\u001b[0m eta \u001b[36m0:00:00\u001b[0m\n",
            "\u001b[2K     \u001b[90m━━━━━━━━━━━━━━━━━━━━━━━━━━━━━━━━━━━━━━━━\u001b[0m \u001b[32m1.3/1.3 MB\u001b[0m \u001b[31m69.2 MB/s\u001b[0m eta \u001b[36m0:00:00\u001b[0m\n",
            "\u001b[?25h  Building wheel for sentence-transformers (setup.py) ... \u001b[?25l\u001b[?25hdone\n"
          ]
        }
      ],
      "source": [
        "!pip install -qU elasticsearch sentence-transformers==2.2.2\n",
        "from elasticsearch import Elasticsearch\n",
        "# Create the client instance\n",
        "client = Elasticsearch(\n",
        "    cloud_id=\"\",\n",
        "    basic_auth=(\"elastic\", \"\")\n",
        ")\n",
        "print(client.info())"
      ]
    },
    {
      "cell_type": "markdown",
      "source": [
        "[Quick Start](https://github.com/yansavitski/elasticsearch-labs/blob/notebooks-guides/colab-notebooks-examples/search/00-quick-start.ipynb) || **Keyword Quering Filtering** || [Hubrid search with RRF](https://github.com/yansavitski/elasticsearch-labs/blob/notebooks-guides/colab-notebooks-examples/search/02-hybrid-search-with-rrf.ipynb) || [ELSER](https://github.com/yansavitski/elasticsearch-labs/blob/notebooks-guides/colab-notebooks-examples/search/03-ELSER.ipynb)"
      ],
      "metadata": {
        "id": "0wgbLWl2udLQ"
      }
    },
    {
      "cell_type": "markdown",
      "source": [
        "# Keyword Quering Filtering\n",
        "\n",
        "<a target=\"_blank\" href=\"https://colab.research.google.com/github/elasticsearch-labs/colab-notebooks-examples/blob/notebooks-guides/search/01-keyword-querying-filtering.ipynb\"><img src=\"https://colab.research.google.com/assets/colab-badge.svg\" alt=\"Open In Colab\"/></a>\n",
        "\n",
        "This interactive notebook will introduce you to the Elasticsearch queries, using the official Elasticsearch Python client. Before getting start this section we highly recomented firstly finish [quick start](https://github.com/yansavitski/elasticsearch-labs/blob/notebooks-guides/colab-notebooks-examples/search/00-quick-start.ipynb)"
      ],
      "metadata": {
        "id": "83LdOUCwwHzs"
      }
    },
    {
      "cell_type": "code",
      "execution_count": null,
      "metadata": {
        "id": "cSj1acY8uPR2"
      },
      "outputs": [],
      "source": [
        "!pip install -qU elasticsearch sentence-transformers==2.2.2\n",
        "from elasticsearch import Elasticsearch\n",
        "# Create the client instance\n",
        "client = Elasticsearch(\n",
        "    cloud_id=\"<cloud_id>\",\n",
        "    basic_auth=(\"elastic\", \"<password>\")\n",
        ")\n",
        "print(client.info())"
      ]
    },
    {
      "cell_type": "markdown",
      "source": [
        "## Querying\n",
        "In the query context, a query clause answers the question “How well does this document match this query clause?” Besides deciding whether or not the document matches, the query clause also calculates a relevance score in the _score metadata field.\n",
        "\n",
        "### Full text queries\n",
        "\n",
        "The full text queries enable you to search analyzed text fields such as the body of an email. The query string is processed using the same analyzer that was applied to the field during indexing.\n",
        "\n",
        "* **match**.\n",
        "    The standard query for performing full text queries, including fuzzy matching and phrase or proximity queries.\n",
        "* **multi-match**.\n",
        "    The multi-field version of the match query.\n",
        "\n",
        "### Compound query\n",
        "* **boosting query**.\n",
        "    Return documents which match a positive query, but reduce the score of documents which also match a negative query."
      ],
      "metadata": {
        "id": "22onltbgxxGm"
      }
    },
    {
      "cell_type": "markdown",
      "source": [
        "### Match query\n",
        "Returns documents that match a provided text, number, date or boolean value. The provided text is analyzed before matching.\n",
        "\n",
        "The match query is the standard query for performing a full-text search, including options for fuzzy matching.\n",
        "\n",
        "[Read more](https://www.elastic.co/guide/en/elasticsearch/reference/current/query-dsl-match-query.html#match-query-ex-request)\n",
        "\n"
      ],
      "metadata": {
        "id": "clXQwoFQ6x61"
      }
    },
    {
      "cell_type": "code",
      "source": [
        "def pretty_response(response):\n",
        "    for hit in response['hits']['hits']:\n",
        "        id = hit['_id']\n",
        "        publication_date = hit['_source']['publish_date']\n",
        "        score = hit['_score']\n",
        "        title = hit['_source']['title']\n",
        "        summary = hit['_source']['summary']\n",
        "        pretty_output = (f\"\\nID: {id}\\nPublication date: {publication_date}\\nTitle: {title}\\nSummary: {summary}\\nScore: {score}\")\n",
        "        print(pretty_output)\n",
        "\n",
        "response = client.search(index=\"book_index\", query={\"match\": {\"summary\": \"guide\"}})\n",
        "\n",
        "pretty_response(response)"
      ],
      "metadata": {
        "id": "q_OE0XVx6_qX"
      },
      "execution_count": null,
      "outputs": []
    }
  ]
}