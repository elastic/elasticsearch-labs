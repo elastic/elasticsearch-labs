{
  "nbformat": 4,
  "nbformat_minor": 0,
  "metadata": {
    "colab": {
      "provenance": [],
      "authorship_tag": "ABX9TyPOqgOPOA1DSGVkeag6R90n"
    },
    "kernelspec": {
      "name": "python3",
      "display_name": "Python 3"
    },
    "language_info": {
      "name": "python"
    }
  },
  "cells": [
    {
      "cell_type": "markdown",
      "source": [
        "[Quick Start](https://github.com/yansavitski/elasticsearch-labs/blob/notebooks-guides/colab-notebooks-examples/search/00-quick-start.ipynb) || **Keyword Quering Filtering** || [Hubrid search with RRF](https://github.com/yansavitski/elasticsearch-labs/blob/notebooks-guides/colab-notebooks-examples/search/02-hybrid-search-with-rrf.ipynb) || [ELSER](https://github.com/yansavitski/elasticsearch-labs/blob/notebooks-guides/colab-notebooks-examples/search/03-ELSER.ipynb)"
      ],
      "metadata": {
        "id": "0wgbLWl2udLQ"
      }
    },
    {
      "cell_type": "markdown",
      "source": [
        "# Keyword Quering Filtering\n",
        "\n",
        "<a target=\"_blank\" href=\"https://colab.research.google.com/github/elasticsearch-labs/colab-notebooks-examples/blob/notebooks-guides/search/01-keyword-querying-filtering.ipynb\"><img src=\"https://colab.research.google.com/assets/colab-badge.svg\" alt=\"Open In Colab\"/></a>\n",
        "\n",
        "This interactive notebook will introduce you to the Elasticsearch queries, using the official Elasticsearch Python client. Before getting start this section we highly recomented firstly finish [quick start](https://github.com/yansavitski/elasticsearch-labs/blob/notebooks-guides/colab-notebooks-examples/search/00-quick-start.ipynb)"
      ],
      "metadata": {
        "id": "83LdOUCwwHzs"
      }
    },
    {
      "cell_type": "code",
      "execution_count": null,
      "metadata": {
        "id": "cSj1acY8uPR2"
      },
      "outputs": [],
      "source": [
        "!pip install -qU elasticsearch sentence-transformers==2.2.2\n",
        "from elasticsearch import Elasticsearch\n",
        "# Create the client instance\n",
        "cloud_id = '\\u003Ccloud_id>' #@param {type:\"string\"}\n",
        "elastic_username = 'elastic' #@param {type:\"string\"}\n",
        "elastic_password = '\\u003Cpassword>' #@param {type: \"string\"}\n",
        "client = Elasticsearch(\n",
        "    cloud_id=cloud_id,\n",
        "    basic_auth=(elastic_username, elastic_password)\n",
        ")\n",
        "print(client.info())"
      ]
    },
    {
      "cell_type": "markdown",
      "source": [
        "## Querying\n",
        "In the query context, a query clause answers the question “How well does this document match this query clause?” Besides deciding whether or not the document matches, the query clause also calculates a relevance score in the _score metadata field.\n",
        "\n",
        "### Full text queries\n",
        "\n",
        "The full text queries enable you to search analyzed text fields such as the body of an email. The query string is processed using the same analyzer that was applied to the field during indexing.\n",
        "\n",
        "* **match**.\n",
        "    The standard query for performing full text queries, including fuzzy matching and phrase or proximity queries.\n",
        "* **multi-match**.\n",
        "    The multi-field version of the match query.\n",
        "\n",
        "### Compound query\n",
        "* **boosting query**.\n",
        "    Return documents which match a positive query, but reduce the score of documents which also match a negative query."
      ],
      "metadata": {
        "id": "22onltbgxxGm"
      }
    },
    {
      "cell_type": "markdown",
      "source": [
        "### Match query\n",
        "Returns documents that match a provided text, number, date or boolean value. The provided text is analyzed before matching.\n",
        "\n",
        "The match query is the standard query for performing a full-text search, including options for fuzzy matching.\n",
        "\n",
        "[Read more](https://www.elastic.co/guide/en/elasticsearch/reference/current/query-dsl-match-query.html#match-query-ex-request)\n",
        "\n"
      ],
      "metadata": {
        "id": "clXQwoFQ6x61"
      }
    },
    {
      "cell_type": "code",
      "source": [
        "def pretty_response(response):\n",
        "    for hit in response['hits']['hits']:\n",
        "        id = hit['_id']\n",
        "        publication_date = hit['_source']['publish_date']\n",
        "        score = hit['_score']\n",
        "        title = hit['_source']['title']\n",
        "        summary = hit['_source']['summary']\n",
        "        pretty_output = (f\"\\nID: {id}\\nPublication date: {publication_date}\\nTitle: {title}\\nSummary: {summary}\\nScore: {score}\")\n",
        "        print(pretty_output)\n",
        "\n",
        "response = client.search(index=\"book_index\", query={\"match\": {\"summary\": \"guide\"}})\n",
        "\n",
        "pretty_response(response)"
      ],
      "metadata": {
        "id": "q_OE0XVx6_qX"
      },
      "execution_count": null,
      "outputs": []
    }
  ]
}