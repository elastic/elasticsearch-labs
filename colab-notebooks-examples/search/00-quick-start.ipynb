{
  "cells": [
    {
      "cell_type": "markdown",
      "id": "87773ce7",
      "metadata": {
        "id": "87773ce7"
      },
      "source": [
        "# Elasticsearch Quick Start\n",
        "\n",
        "<a target=\"_blank\" href=\"https://colab.research.google.com/github/elasticsearch-labs/colab-notebooks-examples/blob/notebooks-guides/search/00-quick-start.ipynb\"><img src=\"https://colab.research.google.com/assets/colab-badge.svg\" alt=\"Open In Colab\"/></a>\n",
        "\n",
        "This interactive notebook will introduce you to the very basics of getting started with simple Elasticsearch queries, using the official [Elasticsearch Python client](https://www.elastic.co/guide/en/elasticsearch/client/python-api/current/connecting.html).\n",
        "We'll run through getting the client up and running, indexing a small data set into Elasticsearch, and performing basic searches against your data."
      ]
    },
    {
      "cell_type": "markdown",
      "id": "a32202e2",
      "metadata": {
        "id": "a32202e2"
      },
      "source": [
        "## Create Elastic Cloud deployment\n",
        "\n",
        "If you don't have an Elastic Cloud deployment, sign up [here](https://cloud.elastic.co/registration?fromURI=%2Fhome) for a free trial.\n",
        "\n",
        "- Go to the [Create deployment](https://cloud.elastic.co/deployments/create) page\n",
        "   - Select **Create deployment**"
      ]
    },
    {
      "cell_type": "markdown",
      "id": "52a6a607",
      "metadata": {
        "id": "52a6a607"
      },
      "source": [
        "## Install packages and import modules\n",
        "\n",
        "To get started, we'll need to connect to our Elastic deployment using the Python client.\n",
        "Because we're using an Elastic Cloud deployment, we'll use the **Cloud ID** to identify our deployment.\n",
        "\n",
        "First we need to install the `elasticsearch` Python client."
      ]
    },
    {
      "cell_type": "code",
      "execution_count": null,
      "id": "ffc5fa6f",
      "metadata": {
        "id": "ffc5fa6f",
        "scrolled": false
      },
      "outputs": [],
      "source": [
        "!pip install -qU elasticsearch sentence-transformers==2.2.2"
      ]
    },
    {
      "cell_type": "markdown",
      "id": "d9cb4609",
      "metadata": {
        "id": "d9cb4609"
      },
      "source": [
        "Next we need to import the modules we need."
      ]
    },
    {
      "cell_type": "code",
      "execution_count": null,
      "id": "099415ba",
      "metadata": {
        "id": "099415ba"
      },
      "outputs": [],
      "source": [
        "from elasticsearch import Elasticsearch\n",
        "from urllib.request import urlopen"
      ]
    },
    {
      "cell_type": "markdown",
      "id": "28AH8LhI-0UD",
      "metadata": {
        "id": "28AH8LhI-0UD"
      },
      "source": [
        "and add the sentence transformer"
      ]
    },
    {
      "cell_type": "code",
      "execution_count": null,
      "id": "WHC3hHGW-wbI",
      "metadata": {
        "id": "WHC3hHGW-wbI"
      },
      "outputs": [],
      "source": [
        "from sentence_transformers import SentenceTransformer\n",
        "import torch\n",
        "\n",
        "device = 'cuda' if torch.cuda.is_available() else 'cpu'\n",
        "\n",
        "model = SentenceTransformer('all-MiniLM-L6-v2', device=device)\n",
        "model"
      ]
    },
    {
      "cell_type": "markdown",
      "id": "0241694c",
      "metadata": {
        "id": "0241694c"
      },
      "source": [
        "## Initialize the Elasticsearch client\n",
        "\n",
        "Now we can instantiate the [Elasticsearch python client](https://www.elastic.co/guide/en/elasticsearch/client/python-api/current/index.html), providing the cloud id and password in your deployment."
      ]
    },
    {
      "cell_type": "code",
      "execution_count": null,
      "id": "f38e0397",
      "metadata": {
        "id": "f38e0397"
      },
      "outputs": [],
      "source": [
        "# Create the client instance\n",
        "client = Elasticsearch(\n",
        "    cloud_id=\"<cloud_id>\",\n",
        "    basic_auth=(\"elastic\", \"<password>\")\n",
        ")"
      ]
    },
    {
      "cell_type": "markdown",
      "id": "fcd165fa",
      "metadata": {
        "id": "fcd165fa"
      },
      "source": [
        "If you're running Elasticsearch locally or self-managed, you can pass in the Elasticsearch host instead. [Read more](https://www.elastic.co/guide/en/elasticsearch/client/python-api/current/connecting.html#_verifying_https_with_certificate_fingerprints_python_3_10_or_later) on how to connect to Elasticsearch locally"
      ]
    },
    {
      "cell_type": "markdown",
      "id": "1462ebd8",
      "metadata": {
        "id": "1462ebd8"
      },
      "source": [
        "Confirm that the client has connected with this test."
      ]
    },
    {
      "cell_type": "code",
      "execution_count": null,
      "id": "25c618eb",
      "metadata": {
        "id": "25c618eb"
      },
      "outputs": [],
      "source": [
        "print(client.info())"
      ]
    },
    {
      "cell_type": "markdown",
      "id": "61e1e6d8",
      "metadata": {
        "id": "61e1e6d8"
      },
      "source": [
        "## Index some test data\n",
        "\n",
        "Our client is set up and connected to our Elastic deployment.\n",
        "Now we need some data to test out the basics of Elasticsearch queries.\n",
        "We'll use a small index of books with the following fields:\n",
        "\n",
        "- `title`\n",
        "- `authors`\n",
        "- `publish_date`\n",
        "- `num_reviews`\n",
        "- `publisher`\n",
        "\n",
        "### Create index\n",
        "\n",
        "Let's create an Elasticsearch index with the correct mappings for our test data."
      ]
    },
    {
      "cell_type": "code",
      "execution_count": null,
      "id": "6bc95238",
      "metadata": {
        "id": "6bc95238"
      },
      "outputs": [],
      "source": [
        "# Define the mapping\n",
        "mapping = {\n",
        "    \"mappings\": {\n",
        "        \"properties\": {\n",
        "            \"title\": {\"type\": \"text\"},\n",
        "            \"authors\": {\"type\": \"keyword\"},\n",
        "            \"summary\": {\"type\": \"text\"},\n",
        "            \"publish_date\": {\"type\": \"date\"},\n",
        "            \"num_reviews\": {\"type\": \"integer\"},\n",
        "            \"publisher\": {\"type\": \"keyword\"},\n",
        "            \"title_vector\": {\n",
        "                \"type\": \"dense_vector\",\n",
        "                \"dims\": 384,\n",
        "                \"index\": \"true\",\n",
        "                \"similarity\": \"dot_product\"\n",
        "            }\n",
        "        }\n",
        "    }\n",
        "}\n",
        "\n",
        "# Create the index\n",
        "client.indices.create(index='book_index', body=mapping)\n"
      ]
    },
    {
      "cell_type": "markdown",
      "id": "075f5eb6",
      "metadata": {
        "id": "075f5eb6"
      },
      "source": [
        "### Index test data\n",
        "\n",
        "Run the following command to upload some test data, containing information about 10 popular programming books."
      ]
    },
    {
      "cell_type": "code",
      "execution_count": null,
      "id": "008d723e",
      "metadata": {
        "id": "008d723e"
      },
      "outputs": [],
      "source": [
        "books = [\n",
        "    {\n",
        "        \"title\": \"The Pragmatic Programmer: Your Journey to Mastery\",\n",
        "        \"authors\": [\"andrew hunt\", \"david thomas\"],\n",
        "        \"summary\": \"A guide to pragmatic programming for software engineers and developers\",\n",
        "        \"publish_date\": \"2019-10-29\",\n",
        "        \"num_reviews\": 30,\n",
        "        \"publisher\": \"addison-wesley\"\n",
        "    },\n",
        "    {\n",
        "        \"title\": \"Python Crash Course\",\n",
        "        \"authors\": [\"eric matthes\"],\n",
        "        \"summary\": \"A fast-paced, no-nonsense guide to programming in Python\",\n",
        "        \"publish_date\": \"2019-05-03\",\n",
        "        \"num_reviews\": 42,\n",
        "        \"publisher\": \"no starch press\"\n",
        "    },\n",
        "    {\n",
        "        \"title\": \"Artificial Intelligence: A Modern Approach\",\n",
        "        \"authors\": [\"stuart russell\", \"peter norvig\"],\n",
        "        \"summary\": \"Comprehensive introduction to the theory and practice of artificial intelligence\",\n",
        "        \"publish_date\": \"2020-04-06\",\n",
        "        \"num_reviews\": 39,\n",
        "        \"publisher\": \"pearson\"\n",
        "    },\n",
        "    {\n",
        "        \"title\": \"Clean Code: A Handbook of Agile Software Craftsmanship\",\n",
        "        \"authors\": [\"robert c. martin\"],\n",
        "        \"summary\": \"A guide to writing code that is easy to read, understand and maintain\",\n",
        "        \"publish_date\": \"2008-08-11\",\n",
        "        \"num_reviews\": 55,\n",
        "        \"publisher\": \"prentice hall\"\n",
        "    },\n",
        "    {\n",
        "        \"title\": \"You Don't Know JS: Up & Going\",\n",
        "        \"authors\": [\"kyle simpson\"],\n",
        "        \"summary\": \"Introduction to JavaScript and programming as a whole\",\n",
        "        \"publish_date\": \"2015-03-27\",\n",
        "        \"num_reviews\": 36,\n",
        "        \"publisher\": \"oreilly\"\n",
        "    },\n",
        "    {\n",
        "        \"title\": \"Eloquent JavaScript\",\n",
        "        \"authors\": [\"marijn haverbeke\"],\n",
        "        \"summary\": \"A modern introduction to programming\",\n",
        "        \"publish_date\": \"2018-12-04\",\n",
        "        \"num_reviews\": 38,\n",
        "        \"publisher\": \"no starch press\"\n",
        "    },\n",
        "    {\n",
        "        \"title\": \"Design Patterns: Elements of Reusable Object-Oriented Software\",\n",
        "        \"authors\": [\"erich gamma\", \"richard helm\", \"ralph johnson\", \"john vlissides\"],\n",
        "        \"summary\": \"Guide to design patterns that can be used in any object-oriented language\",\n",
        "        \"publish_date\": \"1994-10-31\",\n",
        "        \"num_reviews\": 45,\n",
        "        \"publisher\": \"addison-wesley\"\n",
        "    },\n",
        "    {\n",
        "        \"title\": \"The Clean Coder: A Code of Conduct for Professional Programmers\",\n",
        "        \"authors\": [\"robert c. martin\"],\n",
        "        \"summary\": \"A guide to professional conduct in the field of software engineering\",\n",
        "        \"publish_date\": \"2011-05-13\",\n",
        "        \"num_reviews\": 20,\n",
        "        \"publisher\": \"prentice hall\"\n",
        "    },\n",
        "    {\n",
        "        \"title\": \"JavaScript: The Good Parts\",\n",
        "        \"authors\": [\"douglas crockford\"],\n",
        "        \"summary\": \"A deep dive into the parts of JavaScript that are essential to writing maintainable code\",\n",
        "        \"publish_date\": \"2008-05-15\",\n",
        "        \"num_reviews\": 51,\n",
        "        \"publisher\": \"oreilly\"\n",
        "    },\n",
        "    {\n",
        "        \"title\": \"Introduction to the Theory of Computation\",\n",
        "        \"authors\": [\"michael sipser\"],\n",
        "        \"summary\": \"Introduction to the theory of computation and complexity theory\",\n",
        "        \"publish_date\": \"2012-06-27\",\n",
        "        \"num_reviews\": 33,\n",
        "        \"publisher\": \"cengage learning\"\n",
        "    },\n",
        "]\n",
        "\n",
        "actions = []\n",
        "for book in books:\n",
        "    actions.append({\"index\": {\"_index\": \"book_index\"}})\n",
        "    titleEmbedding = model.encode(book[\"title\"]).tolist()\n",
        "    book[\"title_vector\"] = titleEmbedding\n",
        "    actions.append(book)\n",
        "\n",
        "client.bulk(index=\"book_index\", operations=actions)\n"
      ]
    },
    {
      "cell_type": "markdown",
      "id": "cd8b03e0",
      "metadata": {
        "id": "cd8b03e0"
      },
      "source": [
        "## Aside: Pretty printing Elasticsearch responses\n",
        "\n",
        "Your API calls will return hard-to-read nested JSON.\n",
        "We'll create a little function called `pretty_response` to return nice, human-readable outputs from our examples."
      ]
    },
    {
      "cell_type": "code",
      "execution_count": null,
      "id": "f12ce2c9",
      "metadata": {
        "id": "f12ce2c9"
      },
      "outputs": [],
      "source": [
        "def pretty_response(response):\n",
        "    for hit in response['hits']['hits']:\n",
        "        id = hit['_id']\n",
        "        publication_date = hit['_source']['publish_date']\n",
        "        score = hit['_score']\n",
        "        title = hit['_source']['title']\n",
        "        summary = hit['_source']['summary']\n",
        "        pretty_output = (f\"\\nID: {id}\\nPublication date: {publication_date}\\nTitle: {title}\\nSummary: {summary}\\nScore: {score}\")\n",
        "        print(pretty_output)"
      ]
    },
    {
      "cell_type": "markdown",
      "id": "39bdefe0",
      "metadata": {
        "id": "39bdefe0"
      },
      "source": [
        "##Querying\n",
        "\n",
        "Let's start by looking at simple queries which search for a particular value in a particular field."
      ]
    },
    {
      "cell_type": "code",
      "execution_count": null,
      "id": "Df7hwcIjYwMT",
      "metadata": {
        "colab": {
          "base_uri": "https://localhost:8080/"
        },
        "id": "Df7hwcIjYwMT",
        "outputId": "a5569fa1-163a-45a0-d9d6-bc779feb59db"
      },
      "outputs": [
        {
          "name": "stderr",
          "output_type": "stream",
          "text": [
            "<ipython-input-11-a3b0b73f7f11>:11: DeprecationWarning: The 'body' parameter is deprecated and will be removed in a future version. Instead use individual parameters.\n",
            "  response = client.search(index=\"book_index\", body={\n"
          ]
        },
        {
          "name": "stdout",
          "output_type": "stream",
          "text": [
            "\n",
            "ID: fGsDIIkB6SgI-NN4Uquf\n",
            "Publication date: 2008-08-11\n",
            "Title: Clean Code: A Handbook of Agile Software Craftsmanship\n",
            "Summary: A guide to writing code that is easy to read, understand and maintain\n",
            "Score: 0.6285683\n",
            "\n",
            "ID: eWsDIIkB6SgI-NN4Uquf\n",
            "Publication date: 2019-10-29\n",
            "Title: The Pragmatic Programmer: Your Journey to Mastery\n",
            "Summary: A guide to pragmatic programming for software engineers and developers\n",
            "Score: 0.62295747\n",
            "\n",
            "ID: gGsDIIkB6SgI-NN4Uquf\n",
            "Publication date: 2011-05-13\n",
            "Title: The Clean Coder: A Code of Conduct for Professional Programmers\n",
            "Summary: A guide to professional conduct in the field of software engineering\n",
            "Score: 0.5932041\n",
            "\n",
            "ID: f2sDIIkB6SgI-NN4Uquf\n",
            "Publication date: 1994-10-31\n",
            "Title: Design Patterns: Elements of Reusable Object-Oriented Software\n",
            "Summary: Guide to design patterns that can be used in any object-oriented language\n",
            "Score: 0.5909667\n",
            "\n",
            "ID: gmsDIIkB6SgI-NN4Uquf\n",
            "Publication date: 2012-06-27\n",
            "Title: Introduction to the Theory of Computation\n",
            "Summary: Introduction to the theory of computation and complexity theory\n",
            "Score: 0.5843217\n",
            "\n",
            "ID: gWsDIIkB6SgI-NN4Uquf\n",
            "Publication date: 2008-05-15\n",
            "Title: JavaScript: The Good Parts\n",
            "Summary: A deep dive into the parts of JavaScript that are essential to writing maintainable code\n",
            "Score: 0.5775348\n",
            "\n",
            "ID: e2sDIIkB6SgI-NN4Uquf\n",
            "Publication date: 2020-04-06\n",
            "Title: Artificial Intelligence: A Modern Approach\n",
            "Summary: Comprehensive introduction to the theory and practice of artificial intelligence\n",
            "Score: 0.5705365\n",
            "\n",
            "ID: emsDIIkB6SgI-NN4Uquf\n",
            "Publication date: 2019-05-03\n",
            "Title: Python Crash Course\n",
            "Summary: A fast-paced, no-nonsense guide to programming in Python\n",
            "Score: 0.55375147\n",
            "\n",
            "ID: fmsDIIkB6SgI-NN4Uquf\n",
            "Publication date: 2018-12-04\n",
            "Title: Eloquent JavaScript\n",
            "Summary: A modern introduction to programming\n",
            "Score: 0.531436\n",
            "\n",
            "ID: fWsDIIkB6SgI-NN4Uquf\n",
            "Publication date: 2015-03-27\n",
            "Title: You Don't Know JS: Up & Going\n",
            "Summary: Introduction to JavaScript and programming as a whole\n",
            "Score: 0.52609706\n"
          ]
        }
      ],
      "source": [
        "response = client.search(index=\"book_index\", body={\n",
        "    \"knn\": {\n",
        "      \"field\": \"title_vector\",\n",
        "      \"query_vector\": model.encode(\"Best Project management books?\"),\n",
        "      \"k\": 10,\n",
        "      \"num_candidates\": 100\n",
        "    }\n",
        "})\n",
        "\n",
        "pretty_response(response)"
      ]
    },
    {
      "cell_type": "code",
      "execution_count": null,
      "id": "pWYkmofeaSk8",
      "metadata": {
        "id": "pWYkmofeaSk8"
      },
      "outputs": [],
      "source": [
        "client.indices.delete(index=\"book_index\")"
      ]
    }
  ],
  "metadata": {
    "colab": {
      "provenance": []
    },
    "kernelspec": {
      "display_name": "Python 3 (ipykernel)",
      "language": "python",
      "name": "python3"
    },
    "language_info": {
      "codemirror_mode": {
        "name": "ipython",
        "version": 3
      },
      "file_extension": ".py",
      "mimetype": "text/x-python",
      "name": "python",
      "nbconvert_exporter": "python",
      "pygments_lexer": "ipython3",
      "version": "3.9.16"
    }
  },
  "nbformat": 4,
  "nbformat_minor": 5
}