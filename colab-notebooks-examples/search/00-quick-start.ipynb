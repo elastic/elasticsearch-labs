{
  "cells": [
    {
      "attachments": {},
      "cell_type": "markdown",
      "id": "87773ce7",
      "metadata": {
        "id": "87773ce7"
      },
      "source": [
        "# Elasticsearch Quick Start\n",
        "\n",
        "<a target=\"_blank\" href=\"https://colab.research.google.com/github/elasticsearch-labs/colab-notebooks-examples/blob/notebooks-guides/search/00-quick-start.ipynb\"><img src=\"https://colab.research.google.com/assets/colab-badge.svg\" alt=\"Open In Colab\"/></a>\n",
        "\n",
        "This interactive notebook will introduce you to the very basics of getting started with simple Elasticsearch queries, using the official [Elasticsearch Python client](https://www.elastic.co/guide/en/elasticsearch/client/python-api/current/connecting.html).\n",
        "We'll run through getting the client up and running, indexing a small data set into Elasticsearch, and performing basic searches against your data."
      ]
    },
    {
      "attachments": {},
      "cell_type": "markdown",
      "id": "a32202e2",
      "metadata": {
        "id": "a32202e2"
      },
      "source": [
        "## Create Elastic Cloud deployment\n",
        "\n",
        "If you don't have an Elastic Cloud deployment, sign up [here](https://cloud.elastic.co/registration?fromURI=%2Fhome) for a free trial.\n",
        "\n",
        "- Go to the [Create deployment](https://cloud.elastic.co/deployments/create) page\n",
        "   - Select **Create deployment**"
      ]
    },
    {
      "cell_type": "markdown",
      "id": "52a6a607",
      "metadata": {
        "id": "52a6a607"
      },
      "source": [
        "## Install packages and import modules\n",
        "\n",
        "To get started, we'll need to connect to our Elastic deployment using the Python client.\n",
        "Because we're using an Elastic Cloud deployment, we'll use the **Cloud ID** to identify our deployment.\n",
        "\n",
        "First we need to install the `elasticsearch` Python client."
      ]
    },
    {
      "cell_type": "code",
      "execution_count": 1,
      "id": "ffc5fa6f",
      "metadata": {
        "id": "ffc5fa6f",
        "scrolled": false
      },
      "outputs": [
        {
          "name": "stdout",
          "output_type": "stream",
          "text": [
            "zsh:1: command not found: pip\n"
          ]
        }
      ],
      "source": [
        "!pip install -qU elasticsearch sentence-transformers==2.2.2"
      ]
    },
    {
      "attachments": {},
      "cell_type": "markdown",
      "id": "d9cb4609",
      "metadata": {
        "id": "d9cb4609"
      },
      "source": [
        "Next we need to import the modules we need."
      ]
    },
    {
      "cell_type": "code",
      "execution_count": null,
      "id": "099415ba",
      "metadata": {
        "id": "099415ba"
      },
      "outputs": [],
      "source": [
        "from elasticsearch import Elasticsearch, helpers\n",
        "from urllib.request import urlopen"
      ]
    },
    {
      "attachments": {},
      "cell_type": "markdown",
      "id": "0241694c",
      "metadata": {
        "id": "0241694c"
      },
      "source": [
        "## Initialize the Elasticsearch client\n",
        "\n",
        "Now we can instantiate the [Elasticsearch python client](https://www.elastic.co/guide/en/elasticsearch/client/python-api/current/index.html), providing the cloud id and password in your deployment."
      ]
    },
    {
      "cell_type": "code",
      "execution_count": null,
      "id": "f38e0397",
      "metadata": {
        "id": "f38e0397"
      },
      "outputs": [],
      "source": [
        "# Create the client instance\n",
        "client = Elasticsearch(\n",
        "    cloud_id=\"<CLOUD_ID>\",\n",
        "    basic_auth=(\"elastic\", \"<PASSWORD>\")\n",
        ")"
      ]
    },
    {
      "attachments": {},
      "cell_type": "markdown",
      "id": "fcd165fa",
      "metadata": {
        "id": "fcd165fa"
      },
      "source": [
        "If you're running Elasticsearch locally or self-managed, you can pass in the Elasticsearch host instead. [Read more](https://www.elastic.co/guide/en/elasticsearch/client/python-api/current/connecting.html#_verifying_https_with_certificate_fingerprints_python_3_10_or_later) on how to connect to Elasticsearch locally"
      ]
    },
    {
      "attachments": {},
      "cell_type": "markdown",
      "id": "1462ebd8",
      "metadata": {
        "id": "1462ebd8"
      },
      "source": [
        "Confirm that the client has connected with this test."
      ]
    },
    {
      "cell_type": "code",
      "execution_count": null,
      "id": "25c618eb",
      "metadata": {
        "id": "25c618eb"
      },
      "outputs": [],
      "source": [
        "print(client.info())"
      ]
    },
    {
      "attachments": {},
      "cell_type": "markdown",
      "id": "61e1e6d8",
      "metadata": {
        "id": "61e1e6d8"
      },
      "source": [
        "## Index some test data\n",
        "\n",
        "Our client is set up and connected to our Elastic deployment.\n",
        "Now we need some data to test out the basics of Elasticsearch queries.\n",
        "We'll use a small index of books with the following fields:\n",
        "\n",
        "- `title`\n",
        "- `authors`\n",
        "- `publish_date`\n",
        "- `num_reviews`\n",
        "- `publisher`\n",
        "\n",
        "### Create index\n",
        "\n",
        "Let's create an Elasticsearch index with the correct mappings for our test data."
      ]
    },
    {
      "cell_type": "code",
      "execution_count": null,
      "id": "6bc95238",
      "metadata": {
        "id": "6bc95238"
      },
      "outputs": [],
      "source": [
        "# Define the mapping\n",
        "mapping = {\n",
        "    \"mappings\": {\n",
        "        \"properties\": {\n",
        "            \"title\": {\"type\": \"text\"},\n",
        "            \"authors\": {\"type\": \"keyword\"},\n",
        "            \"summary\": {\"type\": \"text\"},\n",
        "            \"publish_date\": {\"type\": \"date\"},\n",
        "            \"num_reviews\": {\"type\": \"integer\"},\n",
        "            \"publisher\": {\"type\": \"keyword\"}\n",
        "        }\n",
        "    }\n",
        "}\n",
        "\n",
        "# Create the index\n",
        "client.indices.create(index='book_index', body=mapping)\n"
      ]
    },
    {
      "attachments": {},
      "cell_type": "markdown",
      "id": "075f5eb6",
      "metadata": {
        "id": "075f5eb6"
      },
      "source": [
        "### Index test data\n",
        "\n",
        "Run the following command to upload some test data, containing information about 10 popular programming books.\n",
        "\n",
        "ℹ️ If you'd like to upload your own data from a URL, refer to the following [notebook](https://github.com/leemthompo/notebook-tests/blob/main/load-data-from-url.ipynb) for an example."
      ]
    },
    {
      "cell_type": "code",
      "execution_count": null,
      "id": "008d723e",
      "metadata": {
        "id": "008d723e"
      },
      "outputs": [],
      "source": [
        "books = [\n",
        "    {\n",
        "        \"title\": \"The Pragmatic Programmer: Your Journey to Mastery\",\n",
        "        \"authors\": [\"andrew hunt\", \"david thomas\"],\n",
        "        \"summary\": \"A guide to pragmatic programming for software engineers and developers\",\n",
        "        \"publish_date\": \"2019-10-29\",\n",
        "        \"num_reviews\": 30,\n",
        "        \"publisher\": \"addison-wesley\"\n",
        "    },\n",
        "    {\n",
        "        \"title\": \"Python Crash Course\",\n",
        "        \"authors\": [\"eric matthes\"],\n",
        "        \"summary\": \"A fast-paced, no-nonsense guide to programming in Python\",\n",
        "        \"publish_date\": \"2019-05-03\",\n",
        "        \"num_reviews\": 42,\n",
        "        \"publisher\": \"no starch press\"\n",
        "    },\n",
        "    {\n",
        "        \"title\": \"Artificial Intelligence: A Modern Approach\",\n",
        "        \"authors\": [\"stuart russell\", \"peter norvig\"],\n",
        "        \"summary\": \"Comprehensive introduction to the theory and practice of artificial intelligence\",\n",
        "        \"publish_date\": \"2020-04-06\",\n",
        "        \"num_reviews\": 39,\n",
        "        \"publisher\": \"pearson\"\n",
        "    },\n",
        "    {\n",
        "        \"title\": \"Clean Code: A Handbook of Agile Software Craftsmanship\",\n",
        "        \"authors\": [\"robert c. martin\"],\n",
        "        \"summary\": \"A guide to writing code that is easy to read, understand and maintain\",\n",
        "        \"publish_date\": \"2008-08-11\",\n",
        "        \"num_reviews\": 55,\n",
        "        \"publisher\": \"prentice hall\"\n",
        "    },\n",
        "    {\n",
        "        \"title\": \"You Don't Know JS: Up & Going\",\n",
        "        \"authors\": [\"kyle simpson\"],\n",
        "        \"summary\": \"Introduction to JavaScript and programming as a whole\",\n",
        "        \"publish_date\": \"2015-03-27\",\n",
        "        \"num_reviews\": 36,\n",
        "        \"publisher\": \"oreilly\"\n",
        "    },\n",
        "    {\n",
        "        \"title\": \"Eloquent JavaScript\",\n",
        "        \"authors\": [\"marijn haverbeke\"],\n",
        "        \"summary\": \"A modern introduction to programming\",\n",
        "        \"publish_date\": \"2018-12-04\",\n",
        "        \"num_reviews\": 38,\n",
        "        \"publisher\": \"no starch press\"\n",
        "    },\n",
        "    {\n",
        "        \"title\": \"Design Patterns: Elements of Reusable Object-Oriented Software\",\n",
        "        \"authors\": [\"erich gamma\", \"richard helm\", \"ralph johnson\", \"john vlissides\"],\n",
        "        \"summary\": \"Guide to design patterns that can be used in any object-oriented language\",\n",
        "        \"publish_date\": \"1994-10-31\",\n",
        "        \"num_reviews\": 45,\n",
        "        \"publisher\": \"addison-wesley\"\n",
        "    },\n",
        "    {\n",
        "        \"title\": \"The Clean Coder: A Code of Conduct for Professional Programmers\",\n",
        "        \"authors\": [\"robert c. martin\"],\n",
        "        \"summary\": \"A guide to professional conduct in the field of software engineering\",\n",
        "        \"publish_date\": \"2011-05-13\",\n",
        "        \"num_reviews\": 20,\n",
        "        \"publisher\": \"prentice hall\"\n",
        "    },\n",
        "    {\n",
        "        \"title\": \"JavaScript: The Good Parts\",\n",
        "        \"authors\": [\"douglas crockford\"],\n",
        "        \"summary\": \"A deep dive into the parts of JavaScript that are essential to writing maintainable code\",\n",
        "        \"publish_date\": \"2008-05-15\",\n",
        "        \"num_reviews\": 51,\n",
        "        \"publisher\": \"oreilly\"\n",
        "    },\n",
        "    {\n",
        "        \"title\": \"Introduction to the Theory of Computation\",\n",
        "        \"authors\": [\"michael sipser\"],\n",
        "        \"summary\": \"Introduction to the theory of computation and complexity theory\",\n",
        "        \"publish_date\": \"2012-06-27\",\n",
        "        \"num_reviews\": 33,\n",
        "        \"publisher\": \"cengage learning\"\n",
        "    },\n",
        "]\n",
        "\n",
        "    actions = []\n",
        "    for book in books:\n",
        "        actions.append({\"index\": {\"_index\": \"book_index\"})\n",
        "        actions.append(doc)\n",
        "\n",
        "    client.bulk(index=\"book_index\", operations=actions)\n"
      ]
    },
    {
      "attachments": {},
      "cell_type": "markdown",
      "id": "cd8b03e0",
      "metadata": {
        "id": "cd8b03e0"
      },
      "source": [
        "## Aside: Pretty printing Elasticsearch responses\n",
        "\n",
        "Your API calls will return hard-to-read nested JSON.\n",
        "We'll create a little function called `pretty_response` to return nice, human-readable outputs from our examples."
      ]
    },
    {
      "cell_type": "code",
      "execution_count": null,
      "id": "f12ce2c9",
      "metadata": {
        "id": "f12ce2c9"
      },
      "outputs": [],
      "source": [
        "def pretty_response(response):\n",
        "    for hit in response['hits']['hits']:\n",
        "        id = hit['_id']\n",
        "        publication_date = hit['_source']['publish_date']\n",
        "        score = hit['_score']\n",
        "        title = hit['_source']['title']\n",
        "        summary = hit['_source']['summary']\n",
        "        pretty_output = (f\"\\nID: {id}\\nPublication date: {publication_date}\\nTitle: {title}\\nSummary: {summary}\\nScore: {score}\")\n",
        "        print(pretty_output)"
      ]
    },
    {
      "attachments": {},
      "cell_type": "markdown",
      "id": "39bdefe0",
      "metadata": {
        "id": "39bdefe0"
      },
      "source": [
        "## Simple queries\n",
        "\n",
        "Let's start by looking at simple queries which search for a particular value in a particular field."
      ]
    },
    {
      "attachments": {},
      "cell_type": "markdown",
      "id": "a4bf32e8",
      "metadata": {
        "id": "a4bf32e8"
      },
      "source": [
        "### `match` query\n",
        "\n",
        "The match query is the standard query for performing a full-text search.\n",
        "Returns documents that match a provided text, number, date or boolean value.\n",
        "The provided text is [analyzed](https://www.elastic.co/guide/en/elasticsearch/reference/current/analysis-overview.html#analysis-overview) before matching.\n",
        "\n",
        "For multiple word queries, Elasticsearch searches for each word using OR logic.\n",
        "So 'deep dive' and 'deep drive' will still return a match in our index."
      ]
    },
    {
      "cell_type": "code",
      "execution_count": null,
      "id": "cd9a164c",
      "metadata": {
        "id": "cd9a164c",
        "scrolled": true
      },
      "outputs": [],
      "source": [
        "response = client.search(index=\"book_index\",\n",
        "              query={\n",
        "                  'match': {\n",
        "                      'summary': 'deep dive'\n",
        "                  }})\n",
        "\n",
        "pretty_response(response)"
      ]
    },
    {
      "attachments": {},
      "cell_type": "markdown",
      "id": "LdAZE1M7cMMi",
      "metadata": {
        "id": "LdAZE1M7cMMi"
      },
      "source": [
        "if you need to match the query on multiple fields, you can use multi_match"
      ]
    },
    {
      "cell_type": "code",
      "execution_count": null,
      "id": "69d78b71",
      "metadata": {
        "id": "69d78b71"
      },
      "outputs": [],
      "source": [
        "response = client.search(\n",
        "   query= {\n",
        "            \"multi_match\": {\n",
        "                \"query\": \"javascript\",\n",
        "                \"fields\": [\"summary\", \"title\"],\n",
        "            }\n",
        "        }\n",
        ")\n",
        "pretty_response(response)"
      ]
    },
    {
      "attachments": {},
      "cell_type": "markdown",
      "id": "c7234ecb",
      "metadata": {
        "id": "c7234ecb"
      },
      "source": [
        "### `term` query\n",
        "\n",
        "Returns documents that contain an exact term in a provided field.\n",
        "\n",
        "You can use the term query to find documents based on a precise value such as a price, a product ID, or a username.\n",
        "\n",
        "⚠️ Avoid using the `term` query for [text](https://www.elastic.co/guide/en/elasticsearch/reference/current/text.html) fields, because these fields are modified by analysis.\n",
        "To search text field values, use the `match` query instead.\n",
        "\n",
        "Let's say we want to search for an exact book ID:\n"
      ]
    },
    {
      "cell_type": "code",
      "execution_count": null,
      "id": "cbb4972e",
      "metadata": {
        "id": "cbb4972e"
      },
      "outputs": [],
      "source": [
        "query =  {\n",
        "        \"term\": {\n",
        "            \"_id\": {\n",
        "                \"value\": \"_eTh_IgBM7k8MFjP03ir\",\n",
        "                \"boost\": 1.0\n",
        "            }\n",
        "        }\n",
        "    }\n",
        "\n",
        "response = client.search(query=query, index=\"book_index\")\n",
        "pretty_response(response)"
      ]
    },
    {
      "attachments": {},
      "cell_type": "markdown",
      "id": "dd081dd7",
      "metadata": {
        "id": "dd081dd7"
      },
      "source": [
        "Note that if you just searched for a substring like `gBM7k8` here, you would not get a match!\n",
        "Use `term` queries to match full, exact values on non-`text` fields."
      ]
    },
    {
      "attachments": {},
      "cell_type": "markdown",
      "id": "f7861ad8",
      "metadata": {
        "id": "f7861ad8"
      },
      "source": [
        "### `range` query\n",
        "\n",
        "Returns documents that contain terms within a provided range.\n",
        "Let's say we want to find all books published between January 1st 2019 and January 1st 2020."
      ]
    },
    {
      "cell_type": "code",
      "execution_count": null,
      "id": "851561c1",
      "metadata": {
        "id": "851561c1"
      },
      "outputs": [],
      "source": [
        "query =  {\n",
        "        \"range\": {\n",
        "            \"publish_date\": {\n",
        "                \"gte\": \"2019-01-01\", # gte = greater than or equal to\n",
        "                \"lte\": \"2020-01-01\", # lte = less than or equal to\n",
        "            }\n",
        "        }\n",
        "    }\n",
        "\n",
        "response = client.search(query=query, index=\"book_index\")\n",
        "pretty_response(response)"
      ]
    }
  ],
  "metadata": {
    "colab": {
      "provenance": []
    },
    "kernelspec": {
      "display_name": "Python 3 (ipykernel)",
      "language": "python",
      "name": "python3"
    },
    "language_info": {
      "codemirror_mode": {
        "name": "ipython",
        "version": 3
      },
      "file_extension": ".py",
      "mimetype": "text/x-python",
      "name": "python",
      "nbconvert_exporter": "python",
      "pygments_lexer": "ipython3",
      "version": "3.9.6"
    }
  },
  "nbformat": 4,
  "nbformat_minor": 5
}
