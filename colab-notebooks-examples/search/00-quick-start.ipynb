{
  "cells": [
    {
      "cell_type": "markdown",
      "id": "87773ce7",
      "metadata": {
        "id": "87773ce7"
      },
      "source": [
        "# Elasticsearch Quick Start\n",
        "\n",
        "<a target=\"_blank\" href=\"https://colab.research.google.com/github/elasticsearch-labs/colab-notebooks-examples/blob/notebooks-guides/search/00-quick-start.ipynb\"><img src=\"https://colab.research.google.com/assets/colab-badge.svg\" alt=\"Open In Colab\"/></a>\n",
        "\n",
        "This interactive notebook will introduce you to the very basics of getting started with simple Elasticsearch queries, using the official [Elasticsearch Python client](https://www.elastic.co/guide/en/elasticsearch/client/python-api/current/connecting.html).\n",
        "We'll run through getting the client up and running, indexing a small data set into Elasticsearch, and performing basic searches against your data."
      ]
    },
    {
      "cell_type": "markdown",
      "id": "a32202e2",
      "metadata": {
        "id": "a32202e2"
      },
      "source": [
        "## Create Elastic Cloud deployment\n",
        "\n",
        "If you don't have an Elastic Cloud deployment, sign up [here](https://cloud.elastic.co/registration?fromURI=%2Fhome) for a free trial.\n",
        "\n",
        "- Go to the [Create deployment](https://cloud.elastic.co/deployments/create) page\n",
        "   - Select **Create deployment**"
      ]
    },
    {
      "cell_type": "markdown",
      "id": "52a6a607",
      "metadata": {
        "id": "52a6a607"
      },
      "source": [
        "## Install packages and import modules\n",
        "\n",
        "To get started, we'll need to connect to our Elastic deployment using the Python client.\n",
        "Because we're using an Elastic Cloud deployment, we'll use the **Cloud ID** to identify our deployment.\n",
        "\n",
        "First we need to install the `elasticsearch` Python client."
      ]
    },
    {
      "cell_type": "code",
      "execution_count": null,
      "id": "ffc5fa6f",
      "metadata": {
        "id": "ffc5fa6f",
        "scrolled": false
      },
      "outputs": [],
      "source": [
        "!pip install -qU elasticsearch sentence-transformers==2.2.2"
      ]
    },
    {
      "cell_type": "markdown",
      "id": "28AH8LhI-0UD",
      "metadata": {
        "id": "28AH8LhI-0UD"
      },
      "source": [
        "# Setup the Embedding Model\n",
        "For this example, we're using the all-MiniLM-L6-v2, part of the sentence_transformers library. You can read more about this model in [hugging face](https://huggingface.co/sentence-transformers/all-MiniLM-L6-v2)."
      ]
    },
    {
      "cell_type": "code",
      "execution_count": null,
      "id": "WHC3hHGW-wbI",
      "metadata": {
        "id": "WHC3hHGW-wbI"
      },
      "outputs": [],
      "source": [
        "from sentence_transformers import SentenceTransformer\n",
        "import torch\n",
        "\n",
        "device = 'cuda' if torch.cuda.is_available() else 'cpu'\n",
        "\n",
        "model = SentenceTransformer('all-MiniLM-L6-v2', device=device)\n",
        "model"
      ]
    },
    {
      "cell_type": "markdown",
      "id": "0241694c",
      "metadata": {
        "id": "0241694c"
      },
      "source": [
        "## Initialize the Elasticsearch client\n",
        "\n",
        "Now we can instantiate the [Elasticsearch python client](https://www.elastic.co/guide/en/elasticsearch/client/python-api/current/index.html), providing the cloud id and password in your deployment."
      ]
    },
    {
      "cell_type": "code",
      "execution_count": null,
      "id": "f38e0397",
      "metadata": {
        "id": "f38e0397"
      },
      "outputs": [],
      "source": [
        "from elasticsearch import Elasticsearch\n",
        "from getpass import getpass\n",
        "\n",
        "CLOUD_ID = getpass(\"Elastic Cloud ID\")\n",
        "CLOUD_PASSWORD = getpass(\"Elastic Password\")\n",
        "\n",
        "# Create the client instance\n",
        "client = Elasticsearch(\n",
        "    cloud_id=CLOUD_ID,\n",
        "    basic_auth=(\"elastic\", CLOUD_PASSWORD)\n",
        ")"
      ]
    },
    {
      "cell_type": "markdown",
      "id": "fcd165fa",
      "metadata": {
        "id": "fcd165fa"
      },
      "source": [
        "If you're running Elasticsearch locally or self-managed, you can pass in the Elasticsearch host instead. [Read more](https://www.elastic.co/guide/en/elasticsearch/client/python-api/current/connecting.html#_verifying_https_with_certificate_fingerprints_python_3_10_or_later) on how to connect to Elasticsearch locally"
      ]
    },
    {
      "cell_type": "markdown",
      "id": "1462ebd8",
      "metadata": {
        "id": "1462ebd8"
      },
      "source": [
        "Confirm that the client has connected with this test."
      ]
    },
    {
      "cell_type": "code",
      "execution_count": null,
      "id": "25c618eb",
      "metadata": {
        "id": "25c618eb"
      },
      "outputs": [],
      "source": [
        "print(client.info())"
      ]
    },
    {
      "cell_type": "markdown",
      "id": "61e1e6d8",
      "metadata": {
        "id": "61e1e6d8"
      },
      "source": [
        "## Index some test data\n",
        "\n",
        "Our client is set up and connected to our Elastic deployment.\n",
        "Now we need some data to test out the basics of Elasticsearch queries.\n",
        "We'll use a small index of books with the following fields:\n",
        "\n",
        "- `title`\n",
        "- `authors`\n",
        "- `publish_date`\n",
        "- `num_reviews`\n",
        "- `publisher`\n",
        "\n",
        "### Create index\n",
        "\n",
        "Let's create an Elasticsearch index with the correct mappings for our test data."
      ]
    },
    {
      "cell_type": "code",
      "execution_count": null,
      "id": "6bc95238",
      "metadata": {
        "id": "6bc95238"
      },
      "outputs": [],
      "source": [
        "# Define the mapping\n",
        "mapping = {\n",
        "    \"mappings\": {\n",
        "        \"properties\": {\n",
        "            \"title\": {\"type\": \"text\"},\n",
        "            \"authors\": {\"type\": \"keyword\"},\n",
        "            \"summary\": {\"type\": \"text\"},\n",
        "            \"publish_date\": {\"type\": \"date\"},\n",
        "            \"num_reviews\": {\"type\": \"integer\"},\n",
        "            \"publisher\": {\"type\": \"keyword\"},\n",
        "            \"title_vector\": {\n",
        "                \"type\": \"dense_vector\",\n",
        "                \"dims\": 384,\n",
        "                \"index\": \"true\",\n",
        "                \"similarity\": \"cosine\"\n",
        "            }\n",
        "        }\n",
        "    }\n",
        "}\n",
        "\n",
        "# Create the index\n",
        "client.indices.create(index='book_index', body=mapping)\n"
      ]
    },
    {
      "cell_type": "markdown",
      "id": "075f5eb6",
      "metadata": {
        "id": "075f5eb6"
      },
      "source": [
        "### Index test data\n",
        "\n",
        "Run the following command to upload some test data, containing information about 10 popular programming books from this [dataset](https://raw.githubusercontent.com/joemcelroy/elasticsearch-labs/notebooks-guides/colab-notebooks-examples/search/data.json)."
      ]
    },
    {
      "cell_type": "code",
      "execution_count": null,
      "id": "008d723e",
      "metadata": {
        "id": "008d723e"
      },
      "outputs": [],
      "source": [
        "import json\n",
        "from urllib.request import urlopen\n",
        "\n",
        "url = \"https://raw.githubusercontent.com/joemcelroy/elasticsearch-labs/notebooks-guides/colab-notebooks-examples/search/data.json\"\n",
        "response = urlopen(url)\n",
        "books = json.loads(response.read())\n",
        "\n",
        "actions = []\n",
        "for book in books:\n",
        "    actions.append({\"index\": {\"_index\": \"book_index\"}})\n",
        "    # Transforming the title into an embedding using the model\n",
        "    book[\"title_vector\"] = model.encode(book[\"title\"]).tolist()\n",
        "    actions.append(book)\n",
        "client.bulk(index=\"book_index\", operations=actions)\n"
      ]
    },
    {
      "cell_type": "markdown",
      "id": "cd8b03e0",
      "metadata": {
        "id": "cd8b03e0"
      },
      "source": [
        "## Aside: Pretty printing Elasticsearch responses\n",
        "\n",
        "Your API calls will return hard-to-read nested JSON.\n",
        "We'll create a little function called `pretty_response` to return nice, human-readable outputs from our examples."
      ]
    },
    {
      "cell_type": "code",
      "execution_count": 26,
      "id": "f12ce2c9",
      "metadata": {
        "id": "f12ce2c9"
      },
      "outputs": [],
      "source": [
        "def pretty_response(response):\n",
        "    for hit in response['hits']['hits']:\n",
        "        id = hit['_id']\n",
        "        publication_date = hit['_source']['publish_date']\n",
        "        score = hit['_score']\n",
        "        title = hit['_source']['title']\n",
        "        summary = hit['_source']['summary']\n",
        "        pretty_output = (f\"\\nID: {id}\\nPublication date: {publication_date}\\nTitle: {title}\\nSummary: {summary}\\nScore: {score}\")\n",
        "        print(pretty_output)"
      ]
    },
    {
      "cell_type": "markdown",
      "id": "39bdefe0",
      "metadata": {
        "id": "39bdefe0"
      },
      "source": [
        "##Making Queries\n",
        "\n",
        "Now that we have indexed the books, we want to perform a semantic search for books that similarly match the query. We embed the query and perform a search."
      ]
    },
    {
      "cell_type": "code",
      "execution_count": 27,
      "id": "Df7hwcIjYwMT",
      "metadata": {
        "colab": {
          "base_uri": "https://localhost:8080/"
        },
        "id": "Df7hwcIjYwMT",
        "outputId": "e12d312f-812b-4c1f-8a0e-eadfc01e3321"
      },
      "outputs": [
        {
          "output_type": "stream",
          "name": "stdout",
          "text": [
            "\n",
            "ID: OOlWP4kB-GB5Evg6zHVx\n",
            "Publication date: 2008-05-15\n",
            "Title: JavaScript: The Good Parts\n",
            "Summary: A deep dive into the parts of JavaScript that are essential to writing maintainable code\n",
            "Score: 0.8075247\n",
            "\n",
            "ID: NOlWP4kB-GB5Evg6zHVx\n",
            "Publication date: 2015-03-27\n",
            "Title: You Don't Know JS: Up & Going\n",
            "Summary: Introduction to JavaScript and programming as a whole\n",
            "Score: 0.6946182\n",
            "\n",
            "ID: NelWP4kB-GB5Evg6zHVx\n",
            "Publication date: 2018-12-04\n",
            "Title: Eloquent JavaScript\n",
            "Summary: A modern introduction to programming\n",
            "Score: 0.66179085\n",
            "\n",
            "ID: MOlWP4kB-GB5Evg6zHVx\n",
            "Publication date: 2019-10-29\n",
            "Title: The Pragmatic Programmer: Your Journey to Mastery\n",
            "Summary: A guide to pragmatic programming for software engineers and developers\n",
            "Score: 0.61159486\n",
            "\n",
            "ID: OelWP4kB-GB5Evg6zHVx\n",
            "Publication date: 2012-06-27\n",
            "Title: Introduction to the Theory of Computation\n",
            "Summary: Introduction to the theory of computation and complexity theory\n",
            "Score: 0.58697784\n",
            "\n",
            "ID: N-lWP4kB-GB5Evg6zHVx\n",
            "Publication date: 2011-05-13\n",
            "Title: The Clean Coder: A Code of Conduct for Professional Programmers\n",
            "Summary: A guide to professional conduct in the field of software engineering\n",
            "Score: 0.57042736\n",
            "\n",
            "ID: NulWP4kB-GB5Evg6zHVx\n",
            "Publication date: 1994-10-31\n",
            "Title: Design Patterns: Elements of Reusable Object-Oriented Software\n",
            "Summary: Guide to design patterns that can be used in any object-oriented language\n",
            "Score: 0.56175697\n",
            "\n",
            "ID: M-lWP4kB-GB5Evg6zHVx\n",
            "Publication date: 2008-08-11\n",
            "Title: Clean Code: A Handbook of Agile Software Craftsmanship\n",
            "Summary: A guide to writing code that is easy to read, understand and maintain\n",
            "Score: 0.55407417\n",
            "\n",
            "ID: MulWP4kB-GB5Evg6zHVx\n",
            "Publication date: 2020-04-06\n",
            "Title: Artificial Intelligence: A Modern Approach\n",
            "Summary: Comprehensive introduction to the theory and practice of artificial intelligence\n",
            "Score: 0.5461982\n",
            "\n",
            "ID: MelWP4kB-GB5Evg6zHVx\n",
            "Publication date: 2019-05-03\n",
            "Title: Python Crash Course\n",
            "Summary: A fast-paced, no-nonsense guide to programming in Python\n",
            "Score: 0.536102\n"
          ]
        },
        {
          "output_type": "stream",
          "name": "stderr",
          "text": [
            "<ipython-input-27-f6998147c0ac>:1: DeprecationWarning: The 'body' parameter is deprecated and will be removed in a future version. Instead use individual parameters.\n",
            "  response = client.search(index=\"book_index\", body={\n"
          ]
        }
      ],
      "source": [
        "response = client.search(index=\"book_index\", body={\n",
        "    \"knn\": {\n",
        "      \"field\": \"title_vector\",\n",
        "      \"query_vector\": model.encode(\"Best javascript books?\"),\n",
        "      \"k\": 10,\n",
        "      \"num_candidates\": 100\n",
        "    }\n",
        "})\n",
        "\n",
        "pretty_response(response)"
      ]
    },
    {
      "cell_type": "markdown",
      "source": [
        "## Next Steps\n",
        "\n",
        "In the next guide, we will learn more on how to apply metadata filtering and querying to your search\n",
        "\n",
        "[Metadata Filtering and Querying](https://)"
      ],
      "metadata": {
        "id": "nPUBPjzNV0cE"
      },
      "id": "nPUBPjzNV0cE"
    }
  ],
  "metadata": {
    "colab": {
      "provenance": []
    },
    "kernelspec": {
      "display_name": "Python 3 (ipykernel)",
      "language": "python",
      "name": "python3"
    },
    "language_info": {
      "codemirror_mode": {
        "name": "ipython",
        "version": 3
      },
      "file_extension": ".py",
      "mimetype": "text/x-python",
      "name": "python",
      "nbconvert_exporter": "python",
      "pygments_lexer": "ipython3",
      "version": "3.9.16"
    }
  },
  "nbformat": 4,
  "nbformat_minor": 5
}