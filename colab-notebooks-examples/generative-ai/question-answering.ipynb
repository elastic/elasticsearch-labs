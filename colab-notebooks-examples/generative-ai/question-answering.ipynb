{
  "cells": [
    {
      "cell_type": "code",
      "source": [
        "import json\n",
        "from urllib.request import urlopen\n",
        "\n",
        "url = \"https://raw.githubusercontent.com/elastic/elasticsearch-labs/main/esre-examples/python-flask-example/example-data/data.json\"\n",
        "\n",
        "response = urlopen(url)\n",
        "\n",
        "workplace_docs = json.loads(response.read())\n"
      ],
      "metadata": {
        "id": "J8-93TiJsNyK"
      },
      "execution_count": 29,
      "outputs": []
    },
    {
      "cell_type": "code",
      "source": [
        "!pip install -qU langchain jq openai elasticsearch tiktoken"
      ],
      "metadata": {
        "id": "33A-cP-XvFCr"
      },
      "execution_count": null,
      "outputs": []
    },
    {
      "cell_type": "code",
      "source": [
        "from langchain.embeddings.openai import OpenAIEmbeddings\n",
        "from langchain.text_splitter import CharacterTextSplitter\n",
        "from langchain.vectorstores import ElasticVectorSearch\n",
        "from langchain.embeddings import OpenAIEmbeddings\n",
        "from elasticsearch import Elasticsearch\n",
        "\n",
        "metadata = []\n",
        "content = []\n",
        "\n",
        "for doc in workplace_docs:\n",
        "  content.append(doc[\"content\"])\n",
        "  metadata.append({\n",
        "      \"name\": doc[\"name\"],\n",
        "      \"summary\": doc[\"summary\"]\n",
        "  })\n",
        "\n",
        "text_splitter = CharacterTextSplitter(chunk_size=500, chunk_overlap=0)\n",
        "docs = text_splitter.create_documents(content, metadatas=metadata)\n",
        "\n",
        "embeddings = OpenAIEmbeddings(openai_api_key=\"<openai-key>\")\n",
        "\n",
        "client = Elasticsearch(\n",
        "    cloud_id=\"My_deployment:dXMtY2VudHJhbDEuZ2NwLmNsb3VkLmVzLmlvOjQ0MyQxYTU2YWQyMTU4N2M0NGQzOTMwOTMyZWI5ZmExZDhlOCRiNGZkMDBhYTNlZjI0ODdiYmU5OGQ5N2YyNTBlYWUyYw==\",\n",
        "    basic_auth=(\"elastic\", \"<password>\")\n",
        ")\n"
      ],
      "metadata": {
        "id": "dbHEoTF6vBXE"
      },
      "execution_count": null,
      "outputs": []
    },
    {
      "cell_type": "code",
      "source": [
        "# Define the mapping\n",
        "mapping = {\n",
        "    \"mappings\": {\n",
        "        \"properties\": {\n",
        "            \"text\": { \"type\": \"keyword\" },\n",
        "            \"vector\": {\n",
        "                \"type\": \"dense_vector\",\n",
        "                \"dims\": 1536,\n",
        "                \"index\": \"true\",\n",
        "                \"similarity\": \"dot_product\"\n",
        "            }\n",
        "        }\n",
        "    }\n",
        "}\n",
        "\n",
        "# Create the index\n",
        "client.indices.create(index='workplace_index', body=mapping)"
      ],
      "metadata": {
        "id": "BfhBEjLsOr0l"
      },
      "execution_count": null,
      "outputs": []
    },
    {
      "cell_type": "code",
      "source": [
        "# get the embeddings from openAI\n",
        "\n",
        "texts = []\n",
        "for passage in docs:\n",
        "  texts.append(passage.page_content)\n",
        "\n",
        "textEmbeddings = embeddings.embed_documents(texts)\n"
      ],
      "metadata": {
        "id": "Qc1LXk-rOzNR"
      },
      "execution_count": 132,
      "outputs": []
    },
    {
      "cell_type": "code",
      "source": [
        "# persist the passage documents into elasticsearch\n",
        "\n",
        "actions = []\n",
        "for i, passage in enumerate(docs):\n",
        "    actions.append({\"index\": {\"_index\": \"workplace_index\"}})\n",
        "    passageEmbedding = textEmbeddings[i]\n",
        "    actions.append({\n",
        "        \"text\": passage.page_content,\n",
        "        \"vector\":passageEmbedding,\n",
        "        \"metadata\": passage.metadata\n",
        "    })\n",
        "\n",
        "client.bulk(operations=actions)\n",
        "\n"
      ],
      "metadata": {
        "id": "4hkOZAIqQ5t5"
      },
      "execution_count": null,
      "outputs": []
    },
    {
      "cell_type": "markdown",
      "source": [
        "Querying"
      ],
      "metadata": {
        "id": "rXJH_MiWejv7"
      }
    },
    {
      "cell_type": "code",
      "source": [
        "from langchain.vectorstores.elastic_vector_search import ElasticKnnSearch\n",
        "from langchain.llms import OpenAI\n",
        "from langchain.chains import ConversationalRetrievalChain, RetrievalQA\n",
        "\n",
        "db = ElasticKnnSearch(\n",
        "    es_connection=client, index_name=\"workplace_index\", embedding=embeddings\n",
        ")\n",
        "\n",
        "retriever = db.as_retriever()\n",
        "\n",
        "llm = OpenAI(openai_api_key=\"<openai-key>\")\n",
        "\n",
        "qa = RetrievalQA.from_chain_type(\n",
        "    llm=llm, chain_type=\"stuff\", retriever=retriever, return_source_documents=True\n",
        ")\n",
        "\n",
        "ans = qa({\"query\": \"what is the nasa sales team?\"})\n",
        "\n",
        "print(\"answer\")\n",
        "print(ans[\"result\"])\n",
        "\n",
        "print(\"sources\")\n",
        "for doc in ans[\"source_documents\"]:\n",
        "  print(doc.metadata[\"name\"])\n",
        "  print(doc.page_content)"
      ],
      "metadata": {
        "id": "OobeBT6rek7Q",
        "outputId": "532e02ba-afb3-46fe-ca2a-35a2ad4a525a",
        "colab": {
          "base_uri": "https://localhost:8080/"
        }
      },
      "execution_count": 134,
      "outputs": [
        {
          "output_type": "stream",
          "name": "stdout",
          "text": [
            "answer\n",
            " The NASA Sales team is the North America South America regional sales team. It is composed of dedicated account managers, sales representatives, and support staff, and is led by Laura Martinez (Area Vice-President of North America) and Gary Johnson (Area Vice-President of South America).\n",
            "sources\n",
            "Sales Organization Overview\n",
            "Our sales organization is structured to effectively serve our customers and achieve our business objectives across multiple regions. The organization is divided into the following main regions:\n",
            "\n",
            "The Americas: This region includes the United States, Canada, Mexico, as well as Central and South America. The North America South America region (NASA) has two Area Vice-Presidents: Laura Martinez is the Area Vice-President of North America, and Gary Johnson is the Area Vice-President of South America.\n",
            "Sales Organization Overview\n",
            "Each regional sales team consists of dedicated account managers, sales representatives, and support staff, led by their respective Area Vice-Presidents. They are responsible for identifying and pursuing new business opportunities, nurturing existing client relationships, and ensuring customer satisfaction. The teams collaborate closely with other departments, such as marketing, product development, and customer support, to ensure we consistently deliver high-quality products and services to our clients.\n",
            "Sales Engineering Collaboration\n",
            "Title: Working with the Sales Team as an Engineer in a Tech Company\n",
            "Sales Engineering Collaboration\n",
            "Introduction:\n",
            "As an engineer in a tech company, collaboration with the sales team is essential to ensure the success of the company's products and services. This guidance document aims to provide an overview of how engineers can effectively work with the sales team, fostering a positive and productive working environment.\n",
            "Understanding the Sales Team's Role:\n",
            "The sales team is responsible for promoting and selling the company's products and services to potential clients. Their role involves establishing relationships with customers, understanding their needs, and ensuring that the offered solutions align with their requirements.\n"
          ]
        }
      ]
    },
    {
      "cell_type": "code",
      "source": [
        "client.indices.delete(index=\"workplace_index\")"
      ],
      "metadata": {
        "id": "SOeP4-DLnwDB"
      },
      "execution_count": null,
      "outputs": []
    }
  ],
  "metadata": {
    "language_info": {
      "name": "python"
    },
    "orig_nbformat": 4,
    "colab": {
      "provenance": []
    },
    "kernelspec": {
      "name": "python3",
      "display_name": "Python 3"
    }
  },
  "nbformat": 4,
  "nbformat_minor": 0
}